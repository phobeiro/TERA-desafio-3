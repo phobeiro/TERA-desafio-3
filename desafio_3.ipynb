{
  "cells": [
    {
      "cell_type": "markdown",
      "metadata": {
        "id": "xU8ykl50o5z-"
      },
      "source": [
        "# Desafio 3"
      ]
    },
    {
      "cell_type": "markdown",
      "metadata": {
        "id": "gwe23UV2SKD4"
      },
      "source": []
    },
    {
      "cell_type": "markdown",
      "metadata": {
        "id": "jK6k8R4to8QW"
      },
      "source": [
        "## Importando"
      ]
    },
    {
      "cell_type": "code",
      "execution_count": 1,
      "metadata": {
        "id": "sCS5uQHpkM7T"
      },
      "outputs": [],
      "source": [
        "import matplotlib.pyplot as plt\n",
        "import numpy as np\n",
        "import pandas as pd   \n",
        "\n",
        "\n",
        "def ColabOuCode():\n",
        "    '''\n",
        "    Importa o DataFrame de acordo com a plataforma usada. Retorna um DataFrame.\n",
        "    '''\n",
        "    try:\n",
        "        from google.colab import drive\n",
        "        drive.mount('/content/drive')\n",
        "        df = pd.read_csv(\n",
        "            '/content/drive/MyDrive/Colab Notebooks/TERA-desafio-3/data/fraud_detection_dataset.csv'\n",
        "        )\n",
        "    except:\n",
        "        df = pd.read_csv('./data/fraud_detection_dataset.csv')\n",
        "    \n",
        "    return df\n"
      ]
    },
    {
      "cell_type": "code",
      "execution_count": 2,
      "metadata": {},
      "outputs": [],
      "source": [
        "df = ColabOuCode()"
      ]
    },
    {
      "cell_type": "code",
      "execution_count": 3,
      "metadata": {
        "colab": {
          "base_uri": "https://localhost:8080/"
        },
        "id": "pFf-dK7ap8tQ",
        "outputId": "bc6ee35f-ea22-4f88-d1d3-56aa2a0d946d"
      },
      "outputs": [
        {
          "data": {
            "text/plain": [
              "(6362620, 11)"
            ]
          },
          "execution_count": 3,
          "metadata": {},
          "output_type": "execute_result"
        }
      ],
      "source": [
        "df.shape"
      ]
    },
    {
      "cell_type": "code",
      "execution_count": null,
      "metadata": {
        "colab": {
          "base_uri": "https://localhost:8080/",
          "height": 206
        },
        "id": "68nUiC5ppr_l",
        "outputId": "27bba117-eab2-4fd5-84c0-a681cad69bab"
      },
      "outputs": [],
      "source": [
        "pd.set_option('display.max_columns', 11)\n",
        "df.head()"
      ]
    },
    {
      "cell_type": "code",
      "execution_count": null,
      "metadata": {
        "colab": {
          "base_uri": "https://localhost:8080/",
          "height": 332
        },
        "id": "fQKONDyaprJE",
        "outputId": "8b52f52b-a745-4079-ffce-744ddee3f0c6"
      },
      "outputs": [],
      "source": [
        "df.describe(percentiles=(0.9,0.95,0.99))"
      ]
    },
    {
      "cell_type": "code",
      "execution_count": null,
      "metadata": {
        "colab": {
          "base_uri": "https://localhost:8080/"
        },
        "id": "Ssi4WHIjoKVn",
        "outputId": "929fa8f8-01ce-48e1-d11b-1c5948920330"
      },
      "outputs": [],
      "source": [
        "df.type.unique()    "
      ]
    },
    {
      "cell_type": "code",
      "execution_count": null,
      "metadata": {
        "colab": {
          "base_uri": "https://localhost:8080/"
        },
        "id": "U8-qYIx0o3Sg",
        "outputId": "33316aae-0e53-4f3a-e285-fdaf55937bcf"
      },
      "outputs": [],
      "source": [
        "df.isnull().sum()"
      ]
    },
    {
      "cell_type": "code",
      "execution_count": null,
      "metadata": {
        "colab": {
          "base_uri": "https://localhost:8080/",
          "height": 424
        },
        "id": "yp7Z-ghL2Gg7",
        "outputId": "78f70f8d-d7b0-4291-b159-89ca96cefb8d"
      },
      "outputs": [],
      "source": [
        "df"
      ]
    },
    {
      "cell_type": "code",
      "execution_count": null,
      "metadata": {
        "id": "hu3oxkTW2Mdp"
      },
      "outputs": [],
      "source": []
    }
  ],
  "metadata": {
    "accelerator": "GPU",
    "colab": {
      "authorship_tag": "ABX9TyNt4f3zuLCoYNC2qcpyfYId",
      "collapsed_sections": [],
      "mount_file_id": "1d6ZKuF3Dscipg0ocPdSX5kCLb1sYj0vF",
      "name": "desafio-3.ipynb",
      "provenance": []
    },
    "kernelspec": {
      "display_name": "Python 3",
      "name": "python3"
    },
    "language_info": {
      "codemirror_mode": {
        "name": "ipython",
        "version": 3
      },
      "file_extension": ".py",
      "mimetype": "text/x-python",
      "name": "python",
      "nbconvert_exporter": "python",
      "pygments_lexer": "ipython3",
      "version": "3.8.10"
    }
  },
  "nbformat": 4,
  "nbformat_minor": 0
}
