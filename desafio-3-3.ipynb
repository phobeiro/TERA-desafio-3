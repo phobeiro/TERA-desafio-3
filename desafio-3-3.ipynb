{
  "cells": [
    {
      "cell_type": "markdown",
      "metadata": {
        "id": "7uFq8fgCwGCD"
      },
      "source": [
        "# Importando\n"
      ]
    },
    {
      "cell_type": "code",
      "execution_count": 1,
      "metadata": {
        "id": "2JVLnEsVwGCM"
      },
      "outputs": [],
      "source": [
        "import matplotlib.pyplot as plt\n",
        "import pandas as pd   \n",
        "import seaborn as sns\n",
        "import warnings\n",
        "\n",
        "warnings.filterwarnings('ignore')\n",
        "\n",
        "def ColabOuCode(path_drive, path_local, ncolunas=None):\n",
        "    '''\n",
        "    Importa o DataFrame de acordo com a plataforma usada. Retorna um DataFrame.\n",
        "    '''\n",
        "    try:\n",
        "        from google.colab import drive\n",
        "        drive.mount('/content/drive')\n",
        "        df = pd.read_csv(path_drive)\n",
        "    except:\n",
        "        if ncolunas is None: df = pd.read_csv(path_local)\n",
        "        else: df = pd.read_csv(path_local, nrows=ncolunas)\n",
        "    return df"
      ]
    },
    {
      "cell_type": "code",
      "execution_count": 2,
      "metadata": {
        "colab": {
          "base_uri": "https://localhost:8080/"
        },
        "id": "dy_s_UBTwGCR",
        "outputId": "ee78d5bf-3611-4ab8-e8ba-a8e14d9c824a"
      },
      "outputs": [
        {
          "data": {
            "text/plain": [
              "(6362620, 10)"
            ]
          },
          "execution_count": 2,
          "metadata": {},
          "output_type": "execute_result"
        }
      ],
      "source": [
        "drive = '/content/drive/MyDrive/Colab Notebooks/TERA-desafio-3/data/dados_tratados.csv'\n",
        "local = './data/dados_tratados.csv'\n",
        "\n",
        "df = ColabOuCode(\n",
        "    drive,\n",
        "    local,\n",
        "    ncolunas=None\n",
        ")\n",
        "\n",
        "df.shape    "
      ]
    },
    {
      "cell_type": "code",
      "execution_count": 3,
      "metadata": {
        "colab": {
          "base_uri": "https://localhost:8080/",
          "height": 250
        },
        "id": "pPjFYpVLyCtA",
        "outputId": "b3272d4e-9116-4adf-a494-f965ea9377df"
      },
      "outputs": [
        {
          "data": {
            "text/html": [
              "<div>\n",
              "<style scoped>\n",
              "    .dataframe tbody tr th:only-of-type {\n",
              "        vertical-align: middle;\n",
              "    }\n",
              "\n",
              "    .dataframe tbody tr th {\n",
              "        vertical-align: top;\n",
              "    }\n",
              "\n",
              "    .dataframe thead th {\n",
              "        text-align: right;\n",
              "    }\n",
              "</style>\n",
              "<table border=\"1\" class=\"dataframe\">\n",
              "  <thead>\n",
              "    <tr style=\"text-align: right;\">\n",
              "      <th></th>\n",
              "      <th>hora</th>\n",
              "      <th>type_label</th>\n",
              "      <th>nameOrig</th>\n",
              "      <th>oldbalanceOrig</th>\n",
              "      <th>origReinc</th>\n",
              "      <th>nameDest</th>\n",
              "      <th>oldbalanceDest</th>\n",
              "      <th>destReinc</th>\n",
              "      <th>classAmount_label</th>\n",
              "      <th>isFraud</th>\n",
              "    </tr>\n",
              "  </thead>\n",
              "  <tbody>\n",
              "    <tr>\n",
              "      <th>0</th>\n",
              "      <td>0</td>\n",
              "      <td>3</td>\n",
              "      <td>1231006815</td>\n",
              "      <td>12.044353</td>\n",
              "      <td>0</td>\n",
              "      <td>1979787155</td>\n",
              "      <td>0.000000</td>\n",
              "      <td>0</td>\n",
              "      <td>2</td>\n",
              "      <td>1</td>\n",
              "    </tr>\n",
              "    <tr>\n",
              "      <th>1</th>\n",
              "      <td>0</td>\n",
              "      <td>3</td>\n",
              "      <td>1666544295</td>\n",
              "      <td>9.964065</td>\n",
              "      <td>0</td>\n",
              "      <td>2044282225</td>\n",
              "      <td>0.000000</td>\n",
              "      <td>0</td>\n",
              "      <td>2</td>\n",
              "      <td>1</td>\n",
              "    </tr>\n",
              "    <tr>\n",
              "      <th>2</th>\n",
              "      <td>0</td>\n",
              "      <td>4</td>\n",
              "      <td>1305486145</td>\n",
              "      <td>5.198497</td>\n",
              "      <td>0</td>\n",
              "      <td>553264065</td>\n",
              "      <td>0.000000</td>\n",
              "      <td>0</td>\n",
              "      <td>1</td>\n",
              "      <td>0</td>\n",
              "    </tr>\n",
              "    <tr>\n",
              "      <th>3</th>\n",
              "      <td>0</td>\n",
              "      <td>1</td>\n",
              "      <td>840083671</td>\n",
              "      <td>5.198497</td>\n",
              "      <td>0</td>\n",
              "      <td>38997010</td>\n",
              "      <td>9.960907</td>\n",
              "      <td>0</td>\n",
              "      <td>1</td>\n",
              "      <td>0</td>\n",
              "    </tr>\n",
              "    <tr>\n",
              "      <th>4</th>\n",
              "      <td>0</td>\n",
              "      <td>3</td>\n",
              "      <td>2048537720</td>\n",
              "      <td>10.634749</td>\n",
              "      <td>0</td>\n",
              "      <td>1230701703</td>\n",
              "      <td>0.000000</td>\n",
              "      <td>0</td>\n",
              "      <td>2</td>\n",
              "      <td>1</td>\n",
              "    </tr>\n",
              "  </tbody>\n",
              "</table>\n",
              "</div>"
            ],
            "text/plain": [
              "   hora  type_label    nameOrig  oldbalanceOrig  origReinc    nameDest  \\\n",
              "0     0           3  1231006815       12.044353          0  1979787155   \n",
              "1     0           3  1666544295        9.964065          0  2044282225   \n",
              "2     0           4  1305486145        5.198497          0   553264065   \n",
              "3     0           1   840083671        5.198497          0    38997010   \n",
              "4     0           3  2048537720       10.634749          0  1230701703   \n",
              "\n",
              "   oldbalanceDest  destReinc  classAmount_label  isFraud  \n",
              "0        0.000000          0                  2        1  \n",
              "1        0.000000          0                  2        1  \n",
              "2        0.000000          0                  1        0  \n",
              "3        9.960907          0                  1        0  \n",
              "4        0.000000          0                  2        1  "
            ]
          },
          "execution_count": 3,
          "metadata": {},
          "output_type": "execute_result"
        }
      ],
      "source": [
        "df.head()"
      ]
    },
    {
      "cell_type": "markdown",
      "metadata": {
        "id": "8DLMNR21wGCT"
      },
      "source": [
        "# Classificações"
      ]
    },
    {
      "cell_type": "code",
      "execution_count": 4,
      "metadata": {
        "id": "o_oSb8sjwGCU"
      },
      "outputs": [],
      "source": [
        "# Métricas\n",
        "from sklearn.metrics import plot_roc_curve\n",
        "from sklearn.metrics import confusion_matrix\n",
        "from sklearn.metrics import classification_report"
      ]
    },
    {
      "cell_type": "markdown",
      "metadata": {
        "id": "YdAPqxbOwGCV"
      },
      "source": [
        "## Separando e balanceando os dados"
      ]
    },
    {
      "cell_type": "code",
      "execution_count": 5,
      "metadata": {
        "id": "MdoiJ37wwGCW"
      },
      "outputs": [
        {
          "name": "stdout",
          "output_type": "stream",
          "text": [
            "CPU times: user 1.69 s, sys: 160 ms, total: 1.85 s\n",
            "Wall time: 1.88 s\n"
          ]
        }
      ],
      "source": [
        "%%time\n",
        "\n",
        "from sklearn.model_selection import train_test_split\n",
        "\n",
        "x_df = df.drop('isFraud',axis=1)\n",
        "y_df = df[['isFraud']]\n",
        "\n",
        "X_treino, X_teste, y_treino, y_teste = train_test_split(x_df, y_df, test_size=0.3, random_state=42)\n",
        "\n",
        "del df, x_df, y_df\n"
      ]
    },
    {
      "cell_type": "code",
      "execution_count": 6,
      "metadata": {
        "id": "9jHo6ZM0wGCX"
      },
      "outputs": [
        {
          "name": "stdout",
          "output_type": "stream",
          "text": [
            "CPU times: user 2min 26s, sys: 1.77 s, total: 2min 28s\n",
            "Wall time: 1min 9s\n"
          ]
        }
      ],
      "source": [
        "%%time\n",
        "\n",
        "from imblearn.combine import SMOTEENN\n",
        "\n",
        "sennComb = SMOTEENN(\n",
        "    sampling_strategy=0.2,\n",
        "    random_state=42,\n",
        "    n_jobs=-1\n",
        ")\n",
        "\n",
        "X_comb, y_comb = sennComb.fit_resample(X_treino, y_treino)"
      ]
    },
    {
      "cell_type": "code",
      "execution_count": 7,
      "metadata": {
        "colab": {
          "base_uri": "https://localhost:8080/",
          "height": 307
        },
        "id": "UQvq0fLzwGCY",
        "outputId": "352a85af-7d7e-46c9-aba9-94ec4e4e875e"
      },
      "outputs": [
        {
          "data": {
            "text/plain": [
              "<AxesSubplot:xlabel='isFraud', ylabel='count'>"
            ]
          },
          "execution_count": 7,
          "metadata": {},
          "output_type": "execute_result"
        },
        {
          "data": {
            "image/png": "[encoded data removed]",
            "text/plain": [
              "<Figure size 432x288 with 1 Axes>"
            ]
          },
          "metadata": {
            "needs_background": "light"
          },
          "output_type": "display_data"
        }
      ],
      "source": [
        "sns.countplot(y_comb['isFraud'])"
      ]
    },
    {
      "cell_type": "markdown",
      "metadata": {
        "id": "WZqkpDT1wGCa"
      },
      "source": [
        "## Decision Tree"
      ]
    },
    {
      "cell_type": "code",
      "execution_count": 8,
      "metadata": {
        "colab": {
          "base_uri": "https://localhost:8080/"
        },
        "id": "do6z9no5wGCb",
        "outputId": "f8655d45-ec43-40fc-af7a-81115079d5bf"
      },
      "outputs": [
        {
          "name": "stdout",
          "output_type": "stream",
          "text": [
            "CPU times: user 34.4 s, sys: 219 ms, total: 34.7 s\n",
            "Wall time: 35.7 s\n"
          ]
        },
        {
          "data": {
            "text/plain": [
              "array([[   1950,     485],\n",
              "       [  17755, 1888596]])"
            ]
          },
          "execution_count": 8,
          "metadata": {},
          "output_type": "execute_result"
        }
      ],
      "source": [
        "%%time\n",
        "\n",
        "from sklearn.tree import DecisionTreeClassifier\n",
        "\n",
        "arvoreDecisao = DecisionTreeClassifier(\n",
        "    max_depth=8\n",
        ")\n",
        "arvoreDecisao.fit(X_comb, y_comb)\n",
        "\n",
        "y_arvPred = arvoreDecisao.predict(X_teste)\n",
        "\n",
        "confusion_matrix(y_teste, y_arvPred)\n"
      ]
    },
    {
      "cell_type": "code",
      "execution_count": 9,
      "metadata": {
        "colab": {
          "base_uri": "https://localhost:8080/"
        },
        "id": "B2SQ27buwGCc",
        "outputId": "a7ef67be-1fc6-4ab3-a81c-908c1f3ddf0f"
      },
      "outputs": [
        {
          "name": "stdout",
          "output_type": "stream",
          "text": [
            "              precision    recall  f1-score   support\n",
            "\n",
            "      Fraude       0.10      0.80      0.18      2435\n",
            "  Nao Fraude       1.00      0.99      1.00   1906351\n",
            "\n",
            "    accuracy                           0.99   1908786\n",
            "   macro avg       0.55      0.90      0.59   1908786\n",
            "weighted avg       1.00      0.99      0.99   1908786\n",
            "\n"
          ]
        }
      ],
      "source": [
        "print(classification_report(y_teste, y_arvPred, target_names=['Fraude', 'Nao Fraude']))\n"
      ]
    },
    {
      "cell_type": "code",
      "execution_count": 10,
      "metadata": {
        "colab": {
          "base_uri": "https://localhost:8080/",
          "height": 279
        },
        "id": "wrZ5Un7PwGCc",
        "outputId": "d30bc3c3-1458-442a-c42a-67409cd7c162"
      },
      "outputs": [
        {
          "data": {
            "image/png": "[encoded data removed]",
            "text/plain": [
              "<Figure size 432x288 with 1 Axes>"
            ]
          },
          "metadata": {
            "needs_background": "light"
          },
          "output_type": "display_data"
        }
      ],
      "source": [
        "plot_roc_curve(arvoreDecisao, X_teste, y_teste,)\n",
        "plt.show()"
      ]
    },
    {
      "cell_type": "markdown",
      "metadata": {
        "id": "-LX_KBM_wGCd"
      },
      "source": [
        "## Random Forest\n"
      ]
    },
    {
      "cell_type": "code",
      "execution_count": 11,
      "metadata": {
        "colab": {
          "base_uri": "https://localhost:8080/"
        },
        "id": "Kq7mYdhXwGCe",
        "outputId": "778067ec-3d1b-4c50-ac8d-2f4dee580a47"
      },
      "outputs": [
        {
          "name": "stdout",
          "output_type": "stream",
          "text": [
            "CPU times: user 1min 24s, sys: 876 ms, total: 1min 25s\n",
            "Wall time: 1min 26s\n"
          ]
        },
        {
          "data": {
            "text/plain": [
              "array([[   1857,     578],\n",
              "       [  11607, 1894744]])"
            ]
          },
          "execution_count": 11,
          "metadata": {},
          "output_type": "execute_result"
        }
      ],
      "source": [
        "%%time\n",
        "\n",
        "from sklearn.ensemble import RandomForestClassifier\n",
        "\n",
        "randForest = RandomForestClassifier(\n",
        "    n_estimators=8,\n",
        "    max_depth=13,\n",
        ")\n",
        "\n",
        "randForest.fit(X_comb, y_comb)\n",
        "\n",
        "y_arvRandPred = randForest.predict(X_teste)\n",
        "\n",
        "confusion_matrix(y_teste, y_arvRandPred)\n"
      ]
    },
    {
      "cell_type": "code",
      "execution_count": 12,
      "metadata": {
        "colab": {
          "base_uri": "https://localhost:8080/"
        },
        "id": "USCqp8MAwGCe",
        "outputId": "bb2893cc-2208-4bec-e1d3-cc5db5eed6d9"
      },
      "outputs": [
        {
          "name": "stdout",
          "output_type": "stream",
          "text": [
            "              precision    recall  f1-score   support\n",
            "\n",
            "      Fraude       0.14      0.76      0.23      2435\n",
            "  Nao Fraude       1.00      0.99      1.00   1906351\n",
            "\n",
            "    accuracy                           0.99   1908786\n",
            "   macro avg       0.57      0.88      0.62   1908786\n",
            "weighted avg       1.00      0.99      1.00   1908786\n",
            "\n"
          ]
        }
      ],
      "source": [
        "print(classification_report(y_teste, y_arvRandPred, target_names=['Fraude', 'Nao Fraude']))\n"
      ]
    },
    {
      "cell_type": "code",
      "execution_count": 13,
      "metadata": {
        "colab": {
          "base_uri": "https://localhost:8080/",
          "height": 279
        },
        "id": "UIKRAQGywGCf",
        "outputId": "59f47940-1553-49fc-d6a7-ccd7d76bea7d"
      },
      "outputs": [
        {
          "data": {
            "image/png": "[encoded data removed]",
            "text/plain": [
              "<Figure size 432x288 with 1 Axes>"
            ]
          },
          "metadata": {
            "needs_background": "light"
          },
          "output_type": "display_data"
        }
      ],
      "source": [
        "plot_roc_curve(randForest, X_teste, y_teste,)\n",
        "plt.show()"
      ]
    },
    {
      "cell_type": "markdown",
      "metadata": {},
      "source": [
        "## XGBoost Desbalanceado"
      ]
    },
    {
      "cell_type": "code",
      "execution_count": 14,
      "metadata": {},
      "outputs": [
        {
          "name": "stdout",
          "output_type": "stream",
          "text": [
            "[17:28:03] WARNING: ../src/learner.cc:1115: Starting in XGBoost 1.3.0, the default evaluation metric used with the objective 'binary:logistic' was changed from 'error' to 'logloss'. Explicitly set eval_metric if you'd like to restore the old behavior.\n",
            "CPU times: user 11min 46s, sys: 1.29 s, total: 11min 48s\n",
            "Wall time: 3min 41s\n"
          ]
        },
        {
          "data": {
            "text/plain": [
              "array([[   1070,    1365],\n",
              "       [    336, 1906015]])"
            ]
          },
          "execution_count": 14,
          "metadata": {},
          "output_type": "execute_result"
        }
      ],
      "source": [
        "%%time\n",
        "\n",
        "from xgboost import XGBClassifier\n",
        "\n",
        "xgb = XGBClassifier(\n",
        "    n_estimators=15,\n",
        "    max_depth=17,\n",
        "    subsample=0.75,\n",
        "    #gpu_id='0',\n",
        "    #tree_method='gpu_hist'\n",
        "\n",
        ")\n",
        "\n",
        "xgb.fit(X_treino, y_treino) \n",
        "y_xgb = xgb.predict(X_teste)\n",
        "\n",
        "confusion_matrix(y_teste, y_xgb)"
      ]
    },
    {
      "cell_type": "code",
      "execution_count": 15,
      "metadata": {},
      "outputs": [
        {
          "name": "stdout",
          "output_type": "stream",
          "text": [
            "              precision    recall  f1-score   support\n",
            "\n",
            "      Fraude       0.76      0.44      0.56      2435\n",
            "  Nao Fraude       1.00      1.00      1.00   1906351\n",
            "\n",
            "    accuracy                           1.00   1908786\n",
            "   macro avg       0.88      0.72      0.78   1908786\n",
            "weighted avg       1.00      1.00      1.00   1908786\n",
            "\n"
          ]
        }
      ],
      "source": [
        "print(classification_report(y_teste, y_xgb, target_names=['Fraude', 'Nao Fraude']))\n"
      ]
    },
    {
      "cell_type": "code",
      "execution_count": 16,
      "metadata": {},
      "outputs": [
        {
          "data": {
            "text/plain": [
              "<sklearn.metrics._plot.roc_curve.RocCurveDisplay at 0x7f0a8cad9b40>"
            ]
          },
          "execution_count": 16,
          "metadata": {},
          "output_type": "execute_result"
        },
        {
          "data": {
            "image/png": "[encoded data removed]",
            "text/plain": [
              "<Figure size 432x288 with 1 Axes>"
            ]
          },
          "metadata": {
            "needs_background": "light"
          },
          "output_type": "display_data"
        }
      ],
      "source": [
        "plot_roc_curve(xgb, X_teste, y_teste)"
      ]
    },
    {
      "cell_type": "markdown",
      "metadata": {
        "id": "9NIGMokywGCg"
      },
      "source": [
        "## XGBoost Balanceado"
      ]
    },
    {
      "cell_type": "code",
      "execution_count": 20,
      "metadata": {
        "colab": {
          "base_uri": "https://localhost:8080/"
        },
        "id": "vA_7DYC4wGCg",
        "outputId": "a5db43f8-7938-49d9-9c33-47dbd5a349a5"
      },
      "outputs": [],
      "source": [
        "%%time\n",
        "\n",
        "xgb = XGBClassifier(\n",
        "    n_estimators=8,\n",
        "    max_depth=13,\n",
        "    subsample=0.75,\n",
        "    #gpu_id='0',\n",
        "    #tree_method='gpu_hist'\n",
        "\n",
        ")\n",
        "\n",
        "xgb.fit(X_comb, y_comb) \n",
        "y_xgb = xgb.predict(X_teste)\n",
        "\n",
        "confusion_matrix(y_teste, y_xgb)"
      ]
    },
    {
      "cell_type": "code",
      "execution_count": 18,
      "metadata": {
        "colab": {
          "base_uri": "https://localhost:8080/"
        },
        "id": "Z7Wcc0fewGCh",
        "outputId": "5f774b4c-a81c-49ee-c705-e03f8db06a9d"
      },
      "outputs": [
        {
          "name": "stdout",
          "output_type": "stream",
          "text": [
            "              precision    recall  f1-score   support\n",
            "\n",
            "      Fraude       0.16      0.71      0.26      2435\n",
            "  Nao Fraude       1.00      1.00      1.00   1906351\n",
            "\n",
            "    accuracy                           0.99   1908786\n",
            "   macro avg       0.58      0.85      0.63   1908786\n",
            "weighted avg       1.00      0.99      1.00   1908786\n",
            "\n"
          ]
        }
      ],
      "source": [
        " print(classification_report(y_teste, y_xgb, target_names=['Fraude', 'Nao Fraude']))\n"
      ]
    },
    {
      "cell_type": "code",
      "execution_count": 19,
      "metadata": {
        "colab": {
          "base_uri": "https://localhost:8080/",
          "height": 279
        },
        "id": "swDkE1HSwGCi",
        "outputId": "eab55a6a-c44c-416b-ae0d-4bdb317eade0"
      },
      "outputs": [
        {
          "data": {
            "image/png": "[encoded data removed]",
            "text/plain": [
              "<Figure size 432x288 with 1 Axes>"
            ]
          },
          "metadata": {
            "needs_background": "light"
          },
          "output_type": "display_data"
        }
      ],
      "source": [
        "plot_roc_curve(xgb, X_teste, y_teste)\n",
        "plt.show()"
      ]
    },
    {
      "cell_type": "code",
      "execution_count": null,
      "metadata": {
        "id": "tjeMCNGQyCtQ"
      },
      "outputs": [],
      "source": []
    }
  ],
  "metadata": {
    "accelerator": "GPU",
    "colab": {
      "name": "Cópia de desafio-3-3.ipynb",
      "provenance": []
    },
    "interpreter": {
      "hash": "094822a5551e8bc178dcfc4fefbe9c23dd6a189f11c6cc9752bd48c48c446f69"
    },
    "kernelspec": {
      "display_name": "Python 3.8.10 ('.virtual': venv)",
      "language": "python",
      "name": "python3"
    },
    "language_info": {
      "codemirror_mode": {
        "name": "ipython",
        "version": 3
      },
      "file_extension": ".py",
      "mimetype": "text/x-python",
      "name": "python",
      "nbconvert_exporter": "python",
      "pygments_lexer": "ipython3",
      "version": "3.10.2"
    },
    "orig_nbformat": 4
  },
  "nbformat": 4,
  "nbformat_minor": 0
}
