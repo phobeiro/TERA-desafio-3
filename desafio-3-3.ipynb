{
  "cells": [
    {
      "cell_type": "markdown",
      "metadata": {
        "id": "7uFq8fgCwGCD"
      },
      "source": [
        "# Importando\n"
      ]
    },
    {
      "cell_type": "code",
      "execution_count": 1,
      "metadata": {
        "id": "2JVLnEsVwGCM"
      },
      "outputs": [],
      "source": [
        "import matplotlib.pyplot as plt\n",
        "import pandas as pd   \n",
        "import seaborn as sns\n",
        "import warnings\n",
        "from gambis import ColabOuCode\n",
        "\n",
        "warnings.filterwarnings('ignore')"
      ]
    },
    {
      "cell_type": "code",
      "execution_count": 3,
      "metadata": {
        "colab": {
          "base_uri": "https://localhost:8080/"
        },
        "id": "dy_s_UBTwGCR",
        "outputId": "df3f6415-cb10-42e6-cb57-a2decd0d87e6"
      },
      "outputs": [
        {
          "name": "stdout",
          "output_type": "stream",
          "text": [
            "Mounted at /content/drive\n"
          ]
        },
        {
          "data": {
            "text/plain": [
              "(2770409, 8)"
            ]
          },
          "execution_count": 3,
          "metadata": {},
          "output_type": "execute_result"
        }
      ],
      "source": [
        "drive = '/content/drive/MyDrive/Colab Notebooks/TERA-desafio-3/data/dados_tratados.csv'\n",
        "local = './data/dados_tratados.csv'\n",
        "\n",
        "df = ColabOuCode(\n",
        "    drive,\n",
        "    local,\n",
        "    ncolunas=50000\n",
        ")\n",
        "\n",
        "df.shape    "
      ]
    },
    {
      "cell_type": "markdown",
      "metadata": {
        "id": "8DLMNR21wGCT"
      },
      "source": [
        "# Classificações"
      ]
    },
    {
      "cell_type": "code",
      "execution_count": 4,
      "metadata": {
        "id": "o_oSb8sjwGCU"
      },
      "outputs": [],
      "source": [
        "from sklearn.metrics import plot_roc_curve\n",
        "from sklearn.metrics import confusion_matrix\n",
        "from sklearn.metrics import classification_report\n",
        "\n",
        "from imblearn.combine import SMOTEENN"
      ]
    },
    {
      "cell_type": "markdown",
      "metadata": {
        "id": "YdAPqxbOwGCV"
      },
      "source": [
        "## Separando e balanceando os dados"
      ]
    },
    {
      "cell_type": "code",
      "execution_count": 5,
      "metadata": {
        "id": "MdoiJ37wwGCW"
      },
      "outputs": [],
      "source": [
        "from sklearn.model_selection import train_test_split\n",
        "\n",
        "x_df = df.drop('isFraud',axis=1)\n",
        "y_df = df[['isFraud']]\n",
        "\n",
        "X_treino, X_teste, y_treino, y_teste = train_test_split(x_df, y_df, test_size=0.3, random_state=42)"
      ]
    },
    {
      "cell_type": "code",
      "execution_count": 6,
      "metadata": {
        "id": "9jHo6ZM0wGCX"
      },
      "outputs": [],
      "source": [
        "sennComb = SMOTEENN(\n",
        "    sampling_strategy=0.5,\n",
        "    random_state=42,\n",
        "    n_jobs=-1\n",
        ")\n",
        "\n",
        "X_comb, y_comb = sennComb.fit_resample(X_treino, y_treino)\n"
      ]
    },
    {
      "cell_type": "code",
      "execution_count": 6,
      "metadata": {
        "colab": {
          "base_uri": "https://localhost:8080/",
          "height": 307
        },
        "id": "UQvq0fLzwGCY",
        "outputId": "5a365eba-5a5f-4851-fa9d-8c67460cf393"
      },
      "outputs": [
        {
          "data": {
            "text/plain": [
              "<matplotlib.axes._subplots.AxesSubplot at 0x7f9ca5b4df10>"
            ]
          },
          "execution_count": 6,
          "metadata": {},
          "output_type": "execute_result"
        },
        {
          "data": {
            "image/png": "[encoded data removed]",
            "text/plain": [
              "<Figure size 432x288 with 1 Axes>"
            ]
          },
          "metadata": {
            "needs_background": "light"
          },
          "output_type": "display_data"
        }
      ],
      "source": [
        "sns.countplot(y_comb['isFraud'])"
      ]
    },
    {
      "cell_type": "markdown",
      "metadata": {
        "id": "WZqkpDT1wGCa"
      },
      "source": [
        "## Decision Tree"
      ]
    },
    {
      "cell_type": "code",
      "execution_count": 7,
      "metadata": {
        "colab": {
          "base_uri": "https://localhost:8080/"
        },
        "id": "do6z9no5wGCb",
        "outputId": "e975e358-016d-4184-ab26-cbbb9277f2b7"
      },
      "outputs": [
        {
          "data": {
            "text/plain": [
              "array([[  2311,    185],\n",
              "       [  3304, 825323]])"
            ]
          },
          "execution_count": 7,
          "metadata": {},
          "output_type": "execute_result"
        }
      ],
      "source": [
        "from sklearn.tree import DecisionTreeClassifier\n",
        "\n",
        "arvoreDecisao = DecisionTreeClassifier(\n",
        "    class_weight='balanced',\n",
        "    max_depth=500\n",
        ")\n",
        "arvoreDecisao.fit(X_comb, y_comb)\n",
        "\n",
        "y_arvPred = arvoreDecisao.predict(X_teste)\n",
        "\n",
        "confusion_matrix(y_teste, y_arvPred)\n"
      ]
    },
    {
      "cell_type": "code",
      "execution_count": 8,
      "metadata": {
        "colab": {
          "base_uri": "https://localhost:8080/"
        },
        "id": "B2SQ27buwGCc",
        "outputId": "94797647-a91d-406a-ebfa-478cfaf699f1"
      },
      "outputs": [
        {
          "name": "stdout",
          "output_type": "stream",
          "text": [
            "              precision    recall  f1-score   support\n",
            "\n",
            "      Fraude       0.41      0.93      0.57      2496\n",
            "  Nao Fraude       1.00      1.00      1.00    828627\n",
            "\n",
            "    accuracy                           1.00    831123\n",
            "   macro avg       0.71      0.96      0.78    831123\n",
            "weighted avg       1.00      1.00      1.00    831123\n",
            "\n"
          ]
        }
      ],
      "source": [
        "print(classification_report(y_teste, y_arvPred, target_names=['Fraude', 'Nao Fraude']))\n"
      ]
    },
    {
      "cell_type": "code",
      "execution_count": 9,
      "metadata": {
        "colab": {
          "base_uri": "https://localhost:8080/",
          "height": 279
        },
        "id": "wrZ5Un7PwGCc",
        "outputId": "31d67c7d-2ff2-4aa5-f256-275d56339240"
      },
      "outputs": [
        {
          "data": {
            "image/png": "[encoded data removed]",
            "text/plain": [
              "<Figure size 432x288 with 1 Axes>"
            ]
          },
          "metadata": {
            "needs_background": "light"
          },
          "output_type": "display_data"
        }
      ],
      "source": [
        "plot_roc_curve(arvoreDecisao, X_teste, y_teste,)\n",
        "plt.show()"
      ]
    },
    {
      "cell_type": "markdown",
      "metadata": {
        "id": "-LX_KBM_wGCd"
      },
      "source": [
        "## Random Forest\n"
      ]
    },
    {
      "cell_type": "code",
      "execution_count": 19,
      "metadata": {
        "colab": {
          "base_uri": "https://localhost:8080/"
        },
        "id": "Kq7mYdhXwGCe",
        "outputId": "0c40af30-b069-4db9-c63a-59f9b1aea049"
      },
      "outputs": [
        {
          "data": {
            "text/plain": [
              "array([[  2401,     95],\n",
              "       [ 16482, 812145]])"
            ]
          },
          "execution_count": 19,
          "metadata": {},
          "output_type": "execute_result"
        }
      ],
      "source": [
        "from sklearn.ensemble import RandomForestClassifier\n",
        "\n",
        "randForest = RandomForestClassifier(\n",
        "    n_estimators=200,\n",
        "    max_depth=13,\n",
        ")\n",
        "\n",
        "randForest.fit(X_comb, y_comb)\n",
        "\n",
        "y_arvRandPred = randForest.predict(X_teste)\n",
        "\n",
        "confusion_matrix(y_teste, y_arvRandPred)\n"
      ]
    },
    {
      "cell_type": "code",
      "execution_count": 20,
      "metadata": {
        "colab": {
          "base_uri": "https://localhost:8080/"
        },
        "id": "USCqp8MAwGCe",
        "outputId": "b4487aad-bfe0-4aee-c200-4fdd6a4c29f2"
      },
      "outputs": [
        {
          "name": "stdout",
          "output_type": "stream",
          "text": [
            "              precision    recall  f1-score   support\n",
            "\n",
            "      Fraude       0.13      0.96      0.22      2496\n",
            "  Nao Fraude       1.00      0.98      0.99    828627\n",
            "\n",
            "    accuracy                           0.98    831123\n",
            "   macro avg       0.56      0.97      0.61    831123\n",
            "weighted avg       1.00      0.98      0.99    831123\n",
            "\n"
          ]
        }
      ],
      "source": [
        "print(classification_report(y_teste, y_arvRandPred, target_names=['Fraude', 'Nao Fraude']))\n"
      ]
    },
    {
      "cell_type": "code",
      "execution_count": 21,
      "metadata": {
        "colab": {
          "base_uri": "https://localhost:8080/",
          "height": 279
        },
        "id": "UIKRAQGywGCf",
        "outputId": "a0a29e68-b118-4482-8646-23b520f76a8d"
      },
      "outputs": [
        {
          "data": {
            "image/png": "[encoded data removed]",
            "text/plain": [
              "<Figure size 432x288 with 1 Axes>"
            ]
          },
          "metadata": {
            "needs_background": "light"
          },
          "output_type": "display_data"
        }
      ],
      "source": [
        "plot_roc_curve(randForest, X_teste, y_teste,)\n",
        "plt.show()"
      ]
    },
    {
      "cell_type": "markdown",
      "metadata": {
        "id": "9NIGMokywGCg"
      },
      "source": [
        "## XGBoost"
      ]
    },
    {
      "cell_type": "code",
      "execution_count": 26,
      "metadata": {
        "colab": {
          "base_uri": "https://localhost:8080/"
        },
        "id": "vA_7DYC4wGCg",
        "outputId": "9ec56e1f-79a5-473b-d322-b50c08e04237"
      },
      "outputs": [
        {
          "data": {
            "text/plain": [
              "array([[  2468,     28],\n",
              "       [ 16210, 812417]])"
            ]
          },
          "execution_count": 26,
          "metadata": {},
          "output_type": "execute_result"
        }
      ],
      "source": [
        "from xgboost import XGBClassifier\n",
        "\n",
        "xgb = XGBClassifier(\n",
        "    n_estimators=10,\n",
        "    max_depth=13,\n",
        "    subsample=0.75,\n",
        "    gpu_id='0',\n",
        "    tree_method='gpu_hist'\n",
        "\n",
        ")\n",
        "\n",
        "xgb.fit(X_comb, y_comb) \n",
        "y_xgb = xgb.predict(X_teste)\n",
        "\n",
        "confusion_matrix(y_teste, y_xgb)"
      ]
    },
    {
      "cell_type": "code",
      "execution_count": 27,
      "metadata": {
        "colab": {
          "base_uri": "https://localhost:8080/"
        },
        "id": "Z7Wcc0fewGCh",
        "outputId": "1b1dbf24-fb1f-4fd5-82ce-708def543c68"
      },
      "outputs": [
        {
          "name": "stdout",
          "output_type": "stream",
          "text": [
            "              precision    recall  f1-score   support\n",
            "\n",
            "      Fraude       0.13      0.99      0.23      2496\n",
            "  Nao Fraude       1.00      0.98      0.99    828627\n",
            "\n",
            "    accuracy                           0.98    831123\n",
            "   macro avg       0.57      0.98      0.61    831123\n",
            "weighted avg       1.00      0.98      0.99    831123\n",
            "\n"
          ]
        }
      ],
      "source": [
        "print(classification_report(y_teste, y_xgb, target_names=['Fraude', 'Nao Fraude']))\n"
      ]
    },
    {
      "cell_type": "code",
      "execution_count": 28,
      "metadata": {
        "colab": {
          "base_uri": "https://localhost:8080/",
          "height": 279
        },
        "id": "swDkE1HSwGCi",
        "outputId": "0e887a1a-e1db-46b1-b36c-8b7d7c288079"
      },
      "outputs": [
        {
          "data": {
            "image/png": "[encoded data removed]",
            "text/plain": [
              "<Figure size 432x288 with 1 Axes>"
            ]
          },
          "metadata": {
            "needs_background": "light"
          },
          "output_type": "display_data"
        }
      ],
      "source": [
        "plot_roc_curve(xgb, X_teste, y_teste)\n",
        "plt.show()"
      ]
    }
  ],
  "metadata": {
    "accelerator": "GPU",
    "colab": {
      "name": "desafio-3-3.ipynb",
      "provenance": []
    },
    "interpreter": {
      "hash": "094822a5551e8bc178dcfc4fefbe9c23dd6a189f11c6cc9752bd48c48c446f69"
    },
    "kernelspec": {
      "display_name": "Python 3.8.10 ('.virtual': venv)",
      "language": "python",
      "name": "python3"
    },
    "language_info": {
      "codemirror_mode": {
        "name": "ipython",
        "version": 3
      },
      "file_extension": ".py",
      "mimetype": "text/x-python",
      "name": "python",
      "nbconvert_exporter": "python",
      "pygments_lexer": "ipython3",
      "version": "3.8.10"
    },
    "orig_nbformat": 4
  },
  "nbformat": 4,
  "nbformat_minor": 0
}
