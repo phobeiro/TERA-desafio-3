{
  "cells": [
    {
      "cell_type": "markdown",
      "metadata": {
        "id": "7uFq8fgCwGCD"
      },
      "source": [
        "# Importando\n"
      ]
    },
    {
      "cell_type": "code",
      "execution_count": 1,
      "metadata": {
        "id": "2JVLnEsVwGCM"
      },
      "outputs": [],
      "source": [
        "import matplotlib.pyplot as plt\n",
        "import pandas as pd   \n",
        "import seaborn as sns\n",
        "import warnings\n",
        "\n",
        "warnings.filterwarnings('ignore')\n",
        "\n",
        "def ColabOuCode(path_drive, path_local, ncolunas=None):\n",
        "    '''\n",
        "    Importa o DataFrame de acordo com a plataforma usada. Retorna um DataFrame.\n",
        "    '''\n",
        "    try:\n",
        "        from google.colab import drive\n",
        "        drive.mount('/content/drive')\n",
        "        df = pd.read_csv(path_drive)\n",
        "    except:\n",
        "        if ncolunas is None: df = pd.read_csv(path_local)\n",
        "        else: df = pd.read_csv(path_local, nrows=ncolunas)\n",
        "    return df\n"
      ]
    },
    {
      "cell_type": "code",
      "execution_count": 2,
      "metadata": {
        "colab": {
          "base_uri": "https://localhost:8080/"
        },
        "id": "dy_s_UBTwGCR",
        "outputId": "ee78d5bf-3611-4ab8-e8ba-a8e14d9c824a"
      },
      "outputs": [
        {
          "output_type": "stream",
          "name": "stdout",
          "text": [
            "Drive already mounted at /content/drive; to attempt to forcibly remount, call drive.mount(\"/content/drive\", force_remount=True).\n"
          ]
        },
        {
          "output_type": "execute_result",
          "data": {
            "text/plain": [
              "(6362620, 12)"
            ]
          },
          "metadata": {},
          "execution_count": 2
        }
      ],
      "source": [
        "drive = '/content/drive/MyDrive/Colab Notebooks/TERA-desafio-3/data/dados_tratados.csv'\n",
        "local = './data/dados_tratados.csv'\n",
        "\n",
        "df = ColabOuCode(\n",
        "    drive,\n",
        "    local,\n",
        "    ncolunas=None\n",
        ")\n",
        "\n",
        "df.shape    "
      ]
    },
    {
      "cell_type": "code",
      "execution_count": 3,
      "metadata": {
        "id": "pPjFYpVLyCtA",
        "outputId": "b3272d4e-9116-4adf-a494-f965ea9377df",
        "colab": {
          "base_uri": "https://localhost:8080/",
          "height": 250
        }
      },
      "outputs": [
        {
          "output_type": "execute_result",
          "data": {
            "text/html": [
              "\n",
              "  <div id=\"df-bf5c544e-113f-40f3-a2cf-882ffeca995b\">\n",
              "    <div class=\"colab-df-container\">\n",
              "      <div>\n",
              "<style scoped>\n",
              "    .dataframe tbody tr th:only-of-type {\n",
              "        vertical-align: middle;\n",
              "    }\n",
              "\n",
              "    .dataframe tbody tr th {\n",
              "        vertical-align: top;\n",
              "    }\n",
              "\n",
              "    .dataframe thead th {\n",
              "        text-align: right;\n",
              "    }\n",
              "</style>\n",
              "<table border=\"1\" class=\"dataframe\">\n",
              "  <thead>\n",
              "    <tr style=\"text-align: right;\">\n",
              "      <th></th>\n",
              "      <th>hora</th>\n",
              "      <th>type_label</th>\n",
              "      <th>nameOrig</th>\n",
              "      <th>oldbalanceOrig</th>\n",
              "      <th>origReinc</th>\n",
              "      <th>newbalanceOrig</th>\n",
              "      <th>nameDest</th>\n",
              "      <th>oldbalanceDest</th>\n",
              "      <th>destReinc</th>\n",
              "      <th>newbalanceDest</th>\n",
              "      <th>classAmount_label</th>\n",
              "      <th>isFraud</th>\n",
              "    </tr>\n",
              "  </thead>\n",
              "  <tbody>\n",
              "    <tr>\n",
              "      <th>0</th>\n",
              "      <td>0</td>\n",
              "      <td>3</td>\n",
              "      <td>1231006815</td>\n",
              "      <td>12.044353</td>\n",
              "      <td>0</td>\n",
              "      <td>11.984780</td>\n",
              "      <td>1979787155</td>\n",
              "      <td>0.000000</td>\n",
              "      <td>0</td>\n",
              "      <td>0.0</td>\n",
              "      <td>2</td>\n",
              "      <td>1</td>\n",
              "    </tr>\n",
              "    <tr>\n",
              "      <th>1</th>\n",
              "      <td>0</td>\n",
              "      <td>3</td>\n",
              "      <td>1666544295</td>\n",
              "      <td>9.964065</td>\n",
              "      <td>0</td>\n",
              "      <td>9.872240</td>\n",
              "      <td>2044282225</td>\n",
              "      <td>0.000000</td>\n",
              "      <td>0</td>\n",
              "      <td>0.0</td>\n",
              "      <td>2</td>\n",
              "      <td>1</td>\n",
              "    </tr>\n",
              "    <tr>\n",
              "      <th>2</th>\n",
              "      <td>0</td>\n",
              "      <td>4</td>\n",
              "      <td>1305486145</td>\n",
              "      <td>5.198497</td>\n",
              "      <td>0</td>\n",
              "      <td>0.000000</td>\n",
              "      <td>553264065</td>\n",
              "      <td>0.000000</td>\n",
              "      <td>0</td>\n",
              "      <td>0.0</td>\n",
              "      <td>1</td>\n",
              "      <td>0</td>\n",
              "    </tr>\n",
              "    <tr>\n",
              "      <th>3</th>\n",
              "      <td>0</td>\n",
              "      <td>1</td>\n",
              "      <td>840083671</td>\n",
              "      <td>5.198497</td>\n",
              "      <td>0</td>\n",
              "      <td>0.000000</td>\n",
              "      <td>38997010</td>\n",
              "      <td>9.960907</td>\n",
              "      <td>0</td>\n",
              "      <td>0.0</td>\n",
              "      <td>1</td>\n",
              "      <td>0</td>\n",
              "    </tr>\n",
              "    <tr>\n",
              "      <th>4</th>\n",
              "      <td>0</td>\n",
              "      <td>3</td>\n",
              "      <td>2048537720</td>\n",
              "      <td>10.634749</td>\n",
              "      <td>0</td>\n",
              "      <td>10.305141</td>\n",
              "      <td>1230701703</td>\n",
              "      <td>0.000000</td>\n",
              "      <td>0</td>\n",
              "      <td>0.0</td>\n",
              "      <td>2</td>\n",
              "      <td>1</td>\n",
              "    </tr>\n",
              "  </tbody>\n",
              "</table>\n",
              "</div>\n",
              "      <button class=\"colab-df-convert\" onclick=\"convertToInteractive('df-bf5c544e-113f-40f3-a2cf-882ffeca995b')\"\n",
              "              title=\"Convert this dataframe to an interactive table.\"\n",
              "              style=\"display:none;\">\n",
              "        \n",
              "  <svg xmlns=\"http://www.w3.org/2000/svg\" height=\"24px\"viewBox=\"0 0 24 24\"\n",
              "       width=\"24px\">\n",
              "    <path d=\"M0 0h24v24H0V0z\" fill=\"none\"/>\n",
              "    <path d=\"M18.56 5.44l.94 2.06.94-2.06 2.06-.94-2.06-.94-.94-2.06-.94 2.06-2.06.94zm-11 1L8.5 8.5l.94-2.06 2.06-.94-2.06-.94L8.5 2.5l-.94 2.06-2.06.94zm10 10l.94 2.06.94-2.06 2.06-.94-2.06-.94-.94-2.06-.94 2.06-2.06.94z\"/><path d=\"M17.41 7.96l-1.37-1.37c-.4-.4-.92-.59-1.43-.59-.52 0-1.04.2-1.43.59L10.3 9.45l-7.72 7.72c-.78.78-.78 2.05 0 2.83L4 21.41c.39.39.9.59 1.41.59.51 0 1.02-.2 1.41-.59l7.78-7.78 2.81-2.81c.8-.78.8-2.07 0-2.86zM5.41 20L4 18.59l7.72-7.72 1.47 1.35L5.41 20z\"/>\n",
              "  </svg>\n",
              "      </button>\n",
              "      \n",
              "  <style>\n",
              "    .colab-df-container {\n",
              "      display:flex;\n",
              "      flex-wrap:wrap;\n",
              "      gap: 12px;\n",
              "    }\n",
              "\n",
              "    .colab-df-convert {\n",
              "      background-color: #E8F0FE;\n",
              "      border: none;\n",
              "      border-radius: 50%;\n",
              "      cursor: pointer;\n",
              "      display: none;\n",
              "      fill: #1967D2;\n",
              "      height: 32px;\n",
              "      padding: 0 0 0 0;\n",
              "      width: 32px;\n",
              "    }\n",
              "\n",
              "    .colab-df-convert:hover {\n",
              "      background-color: #E2EBFA;\n",
              "      box-shadow: 0px 1px 2px rgba(60, 64, 67, 0.3), 0px 1px 3px 1px rgba(60, 64, 67, 0.15);\n",
              "      fill: #174EA6;\n",
              "    }\n",
              "\n",
              "    [theme=dark] .colab-df-convert {\n",
              "      background-color: #3B4455;\n",
              "      fill: #D2E3FC;\n",
              "    }\n",
              "\n",
              "    [theme=dark] .colab-df-convert:hover {\n",
              "      background-color: #434B5C;\n",
              "      box-shadow: 0px 1px 3px 1px rgba(0, 0, 0, 0.15);\n",
              "      filter: drop-shadow(0px 1px 2px rgba(0, 0, 0, 0.3));\n",
              "      fill: #FFFFFF;\n",
              "    }\n",
              "  </style>\n",
              "\n",
              "      <script>\n",
              "        const buttonEl =\n",
              "          document.querySelector('#df-bf5c544e-113f-40f3-a2cf-882ffeca995b button.colab-df-convert');\n",
              "        buttonEl.style.display =\n",
              "          google.colab.kernel.accessAllowed ? 'block' : 'none';\n",
              "\n",
              "        async function convertToInteractive(key) {\n",
              "          const element = document.querySelector('#df-bf5c544e-113f-40f3-a2cf-882ffeca995b');\n",
              "          const dataTable =\n",
              "            await google.colab.kernel.invokeFunction('convertToInteractive',\n",
              "                                                     [key], {});\n",
              "          if (!dataTable) return;\n",
              "\n",
              "          const docLinkHtml = 'Like what you see? Visit the ' +\n",
              "            '<a target=\"_blank\" href=https://colab.research.google.com/notebooks/data_table.ipynb>data table notebook</a>'\n",
              "            + ' to learn more about interactive tables.';\n",
              "          element.innerHTML = '';\n",
              "          dataTable['output_type'] = 'display_data';\n",
              "          await google.colab.output.renderOutput(dataTable, element);\n",
              "          const docLink = document.createElement('div');\n",
              "          docLink.innerHTML = docLinkHtml;\n",
              "          element.appendChild(docLink);\n",
              "        }\n",
              "      </script>\n",
              "    </div>\n",
              "  </div>\n",
              "  "
            ],
            "text/plain": [
              "   hora  type_label    nameOrig  ...  newbalanceDest  classAmount_label  isFraud\n",
              "0     0           3  1231006815  ...             0.0                  2        1\n",
              "1     0           3  1666544295  ...             0.0                  2        1\n",
              "2     0           4  1305486145  ...             0.0                  1        0\n",
              "3     0           1   840083671  ...             0.0                  1        0\n",
              "4     0           3  2048537720  ...             0.0                  2        1\n",
              "\n",
              "[5 rows x 12 columns]"
            ]
          },
          "metadata": {},
          "execution_count": 3
        }
      ],
      "source": [
        "df.head()"
      ]
    },
    {
      "cell_type": "markdown",
      "metadata": {
        "id": "8DLMNR21wGCT"
      },
      "source": [
        "# Classificações"
      ]
    },
    {
      "cell_type": "code",
      "execution_count": 4,
      "metadata": {
        "id": "o_oSb8sjwGCU"
      },
      "outputs": [],
      "source": [
        "from sklearn.metrics import plot_roc_curve\n",
        "from sklearn.metrics import confusion_matrix\n",
        "from sklearn.metrics import classification_report\n",
        "\n",
        "from imblearn.combine import SMOTEENN"
      ]
    },
    {
      "cell_type": "markdown",
      "metadata": {
        "id": "YdAPqxbOwGCV"
      },
      "source": [
        "## Separando e balanceando os dados"
      ]
    },
    {
      "cell_type": "code",
      "execution_count": 5,
      "metadata": {
        "id": "MdoiJ37wwGCW"
      },
      "outputs": [],
      "source": [
        "from sklearn.model_selection import train_test_split\n",
        "\n",
        "x_df = df.drop('isFraud',axis=1)\n",
        "y_df = df[['isFraud']]\n",
        "\n",
        "X_comb, X_teste, y_comb, y_teste = train_test_split(x_df, y_df, test_size=0.3, random_state=42)"
      ]
    },
    {
      "cell_type": "code",
      "execution_count": null,
      "metadata": {
        "id": "9jHo6ZM0wGCX"
      },
      "outputs": [],
      "source": [
        "sennComb = SMOTEENN(\n",
        "    sampling_strategy=0.2,\n",
        "    random_state=42,\n",
        "    n_jobs=-1\n",
        ")\n",
        "\n",
        "X_comb, y_comb = sennComb.fit_resample(X_treino, y_treino)\n"
      ]
    },
    {
      "cell_type": "code",
      "execution_count": 6,
      "metadata": {
        "id": "UQvq0fLzwGCY",
        "outputId": "352a85af-7d7e-46c9-aba9-94ec4e4e875e",
        "colab": {
          "base_uri": "https://localhost:8080/",
          "height": 307
        }
      },
      "outputs": [
        {
          "output_type": "execute_result",
          "data": {
            "text/plain": [
              "<matplotlib.axes._subplots.AxesSubplot at 0x7ff7e4adfc10>"
            ]
          },
          "metadata": {},
          "execution_count": 6
        },
        {
          "output_type": "display_data",
          "data": {
            "image/png": "[encoded data removed]",
            "text/plain": [
              "<Figure size 432x288 with 1 Axes>"
            ]
          },
          "metadata": {
            "needs_background": "light"
          }
        }
      ],
      "source": [
        "sns.countplot(y_comb['isFraud'])"
      ]
    },
    {
      "cell_type": "markdown",
      "metadata": {
        "id": "WZqkpDT1wGCa"
      },
      "source": [
        "## Decision Tree"
      ]
    },
    {
      "cell_type": "code",
      "execution_count": 7,
      "metadata": {
        "id": "do6z9no5wGCb",
        "outputId": "f8655d45-ec43-40fc-af7a-81115079d5bf",
        "colab": {
          "base_uri": "https://localhost:8080/"
        }
      },
      "outputs": [
        {
          "output_type": "execute_result",
          "data": {
            "text/plain": [
              "array([[   1828,     607],\n",
              "       [     58, 1906293]])"
            ]
          },
          "metadata": {},
          "execution_count": 7
        }
      ],
      "source": [
        "from sklearn.tree import DecisionTreeClassifier\n",
        "\n",
        "arvoreDecisao = DecisionTreeClassifier(\n",
        "    max_depth=8\n",
        ")\n",
        "arvoreDecisao.fit(X_comb, y_comb)\n",
        "\n",
        "y_arvPred = arvoreDecisao.predict(X_teste)\n",
        "\n",
        "confusion_matrix(y_teste, y_arvPred)\n"
      ]
    },
    {
      "cell_type": "code",
      "execution_count": 8,
      "metadata": {
        "id": "B2SQ27buwGCc",
        "outputId": "a7ef67be-1fc6-4ab3-a81c-908c1f3ddf0f",
        "colab": {
          "base_uri": "https://localhost:8080/"
        }
      },
      "outputs": [
        {
          "output_type": "stream",
          "name": "stdout",
          "text": [
            "              precision    recall  f1-score   support\n",
            "\n",
            "      Fraude       0.97      0.75      0.85      2435\n",
            "  Nao Fraude       1.00      1.00      1.00   1906351\n",
            "\n",
            "    accuracy                           1.00   1908786\n",
            "   macro avg       0.98      0.88      0.92   1908786\n",
            "weighted avg       1.00      1.00      1.00   1908786\n",
            "\n"
          ]
        }
      ],
      "source": [
        "print(classification_report(y_teste, y_arvPred, target_names=['Fraude', 'Nao Fraude']))\n"
      ]
    },
    {
      "cell_type": "code",
      "execution_count": 9,
      "metadata": {
        "id": "wrZ5Un7PwGCc",
        "outputId": "d30bc3c3-1458-442a-c42a-67409cd7c162",
        "colab": {
          "base_uri": "https://localhost:8080/",
          "height": 279
        }
      },
      "outputs": [
        {
          "output_type": "display_data",
          "data": {
            "image/png": "[encoded data removed]",
            "text/plain": [
              "<Figure size 432x288 with 1 Axes>"
            ]
          },
          "metadata": {
            "needs_background": "light"
          }
        }
      ],
      "source": [
        "plot_roc_curve(arvoreDecisao, X_teste, y_teste,)\n",
        "plt.show()"
      ]
    },
    {
      "cell_type": "markdown",
      "metadata": {
        "id": "-LX_KBM_wGCd"
      },
      "source": [
        "## Random Forest\n"
      ]
    },
    {
      "cell_type": "code",
      "execution_count": 13,
      "metadata": {
        "id": "Kq7mYdhXwGCe",
        "outputId": "778067ec-3d1b-4c50-ac8d-2f4dee580a47",
        "colab": {
          "base_uri": "https://localhost:8080/"
        }
      },
      "outputs": [
        {
          "output_type": "execute_result",
          "data": {
            "text/plain": [
              "array([[   1829,     606],\n",
              "       [     36, 1906315]])"
            ]
          },
          "metadata": {},
          "execution_count": 13
        }
      ],
      "source": [
        "from sklearn.ensemble import RandomForestClassifier\n",
        "\n",
        "randForest = RandomForestClassifier(\n",
        "    n_estimators=8,\n",
        "    max_depth=13,\n",
        ")\n",
        "\n",
        "randForest.fit(X_comb, y_comb)\n",
        "\n",
        "y_arvRandPred = randForest.predict(X_teste)\n",
        "\n",
        "confusion_matrix(y_teste, y_arvRandPred)\n"
      ]
    },
    {
      "cell_type": "code",
      "execution_count": 11,
      "metadata": {
        "id": "USCqp8MAwGCe",
        "outputId": "bb2893cc-2208-4bec-e1d3-cc5db5eed6d9",
        "colab": {
          "base_uri": "https://localhost:8080/"
        }
      },
      "outputs": [
        {
          "output_type": "stream",
          "name": "stdout",
          "text": [
            "              precision    recall  f1-score   support\n",
            "\n",
            "      Fraude       0.98      0.76      0.85      2435\n",
            "  Nao Fraude       1.00      1.00      1.00   1906351\n",
            "\n",
            "    accuracy                           1.00   1908786\n",
            "   macro avg       0.99      0.88      0.93   1908786\n",
            "weighted avg       1.00      1.00      1.00   1908786\n",
            "\n"
          ]
        }
      ],
      "source": [
        "print(classification_report(y_teste, y_arvRandPred, target_names=['Fraude', 'Nao Fraude']))\n"
      ]
    },
    {
      "cell_type": "code",
      "execution_count": 12,
      "metadata": {
        "id": "UIKRAQGywGCf",
        "outputId": "59f47940-1553-49fc-d6a7-ccd7d76bea7d",
        "colab": {
          "base_uri": "https://localhost:8080/",
          "height": 279
        }
      },
      "outputs": [
        {
          "output_type": "display_data",
          "data": {
            "image/png": "[encoded data removed]",
            "text/plain": [
              "<Figure size 432x288 with 1 Axes>"
            ]
          },
          "metadata": {
            "needs_background": "light"
          }
        }
      ],
      "source": [
        "plot_roc_curve(randForest, X_teste, y_teste,)\n",
        "plt.show()"
      ]
    },
    {
      "cell_type": "markdown",
      "metadata": {
        "id": "9NIGMokywGCg"
      },
      "source": [
        "## XGBoost"
      ]
    },
    {
      "cell_type": "code",
      "execution_count": 30,
      "metadata": {
        "id": "vA_7DYC4wGCg",
        "outputId": "a5db43f8-7938-49d9-9c33-47dbd5a349a5",
        "colab": {
          "base_uri": "https://localhost:8080/"
        }
      },
      "outputs": [
        {
          "output_type": "execute_result",
          "data": {
            "text/plain": [
              "array([[   1883,     552],\n",
              "       [     71, 1906280]])"
            ]
          },
          "metadata": {},
          "execution_count": 30
        }
      ],
      "source": [
        "from xgboost import XGBClassifier\n",
        "\n",
        "xgb = XGBClassifier(\n",
        "    n_estimators=15,\n",
        "    max_depth=17,\n",
        "    subsample=0.75,\n",
        "    gpu_id='0',\n",
        "    tree_method='gpu_hist'\n",
        "\n",
        ")\n",
        "\n",
        "xgb.fit(X_comb, y_comb) \n",
        "y_xgb = xgb.predict(X_teste)\n",
        "\n",
        "confusion_matrix(y_teste, y_xgb)"
      ]
    },
    {
      "cell_type": "code",
      "execution_count": 31,
      "metadata": {
        "id": "Z7Wcc0fewGCh",
        "outputId": "5f774b4c-a81c-49ee-c705-e03f8db06a9d",
        "colab": {
          "base_uri": "https://localhost:8080/"
        }
      },
      "outputs": [
        {
          "output_type": "stream",
          "name": "stdout",
          "text": [
            "              precision    recall  f1-score   support\n",
            "\n",
            "      Fraude       0.96      0.77      0.86      2435\n",
            "  Nao Fraude       1.00      1.00      1.00   1906351\n",
            "\n",
            "    accuracy                           1.00   1908786\n",
            "   macro avg       0.98      0.89      0.93   1908786\n",
            "weighted avg       1.00      1.00      1.00   1908786\n",
            "\n"
          ]
        }
      ],
      "source": [
        " print(classification_report(y_teste, y_xgb, target_names=['Fraude', 'Nao Fraude']))\n"
      ]
    },
    {
      "cell_type": "code",
      "execution_count": 33,
      "metadata": {
        "id": "swDkE1HSwGCi",
        "outputId": "eab55a6a-c44c-416b-ae0d-4bdb317eade0",
        "colab": {
          "base_uri": "https://localhost:8080/",
          "height": 279
        }
      },
      "outputs": [
        {
          "output_type": "display_data",
          "data": {
            "image/png": "[encoded data removed]",
            "text/plain": [
              "<Figure size 432x288 with 1 Axes>"
            ]
          },
          "metadata": {
            "needs_background": "light"
          }
        }
      ],
      "source": [
        "plot_roc_curve(xgb, X_teste, y_teste)\n",
        "plt.show()"
      ]
    },
    {
      "cell_type": "code",
      "execution_count": null,
      "metadata": {
        "id": "tjeMCNGQyCtQ"
      },
      "outputs": [],
      "source": [
        ""
      ]
    }
  ],
  "metadata": {
    "accelerator": "GPU",
    "colab": {
      "name": "Cópia de desafio-3-3.ipynb",
      "provenance": []
    },
    "interpreter": {
      "hash": "094822a5551e8bc178dcfc4fefbe9c23dd6a189f11c6cc9752bd48c48c446f69"
    },
    "kernelspec": {
      "display_name": "Python 3.8.10 ('.virtual': venv)",
      "language": "python",
      "name": "python3"
    },
    "language_info": {
      "codemirror_mode": {
        "name": "ipython",
        "version": 3
      },
      "file_extension": ".py",
      "mimetype": "text/x-python",
      "name": "python",
      "nbconvert_exporter": "python",
      "pygments_lexer": "ipython3",
      "version": "3.8.10"
    },
    "orig_nbformat": 4
  },
  "nbformat": 4,
  "nbformat_minor": 0
}