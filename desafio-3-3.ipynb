{
  "cells": [
    {
      "cell_type": "markdown",
      "metadata": {
        "id": "7uFq8fgCwGCD"
      },
      "source": [
        "# Importando\n"
      ]
    },
    {
      "cell_type": "code",
      "execution_count": 1,
      "metadata": {
        "id": "2JVLnEsVwGCM"
      },
      "outputs": [],
      "source": [
        "import matplotlib.pyplot as plt\n",
        "import pandas as pd   \n",
        "import seaborn as sns\n",
        "import warnings\n",
        "\n",
        "warnings.filterwarnings('ignore')\n",
        "\n",
        "def ColabOuCode(path_drive, path_local, ncolunas=None):\n",
        "    '''\n",
        "    Importa o DataFrame de acordo com a plataforma usada. Retorna um DataFrame.\n",
        "    '''\n",
        "    try:\n",
        "        from google.colab import drive\n",
        "        drive.mount('/content/drive')\n",
        "        df = pd.read_csv(path_drive)\n",
        "    except:\n",
        "        if ncolunas is None: df = pd.read_csv(path_local)\n",
        "        else: df = pd.read_csv(path_local, nrows=ncolunas)\n",
        "    return df\n"
      ]
    },
    {
      "cell_type": "code",
      "execution_count": 2,
      "metadata": {
        "colab": {
          "base_uri": "https://localhost:8080/"
        },
        "id": "dy_s_UBTwGCR",
        "outputId": "b2b0bbac-f500-4ef0-cf30-eed349a6fa11"
      },
      "outputs": [
        {
          "output_type": "stream",
          "name": "stdout",
          "text": [
            "Mounted at /content/drive\n"
          ]
        },
        {
          "output_type": "execute_result",
          "data": {
            "text/plain": [
              "(6362620, 10)"
            ]
          },
          "metadata": {},
          "execution_count": 2
        }
      ],
      "source": [
        "drive = '/content/drive/MyDrive/Colab Notebooks/TERA-desafio-3/data/dados_tratados.csv'\n",
        "local = './data/dados_tratados.csv'\n",
        "\n",
        "df = ColabOuCode(\n",
        "    drive,\n",
        "    local,\n",
        "    ncolunas=50000\n",
        ")\n",
        "\n",
        "df.shape    "
      ]
    },
    {
      "cell_type": "markdown",
      "metadata": {
        "id": "8DLMNR21wGCT"
      },
      "source": [
        "# Classificações"
      ]
    },
    {
      "cell_type": "code",
      "execution_count": 3,
      "metadata": {
        "id": "o_oSb8sjwGCU"
      },
      "outputs": [],
      "source": [
        "from sklearn.metrics import plot_roc_curve\n",
        "from sklearn.metrics import confusion_matrix\n",
        "from sklearn.metrics import classification_report\n",
        "\n",
        "from imblearn.combine import SMOTEENN"
      ]
    },
    {
      "cell_type": "markdown",
      "metadata": {
        "id": "YdAPqxbOwGCV"
      },
      "source": [
        "## Separando e balanceando os dados"
      ]
    },
    {
      "cell_type": "code",
      "execution_count": 18,
      "metadata": {
        "id": "MdoiJ37wwGCW"
      },
      "outputs": [],
      "source": [
        "from sklearn.model_selection import train_test_split\n",
        "\n",
        "x_df = df.drop('isFraud',axis=1)\n",
        "y_df = df[['isFraud']]\n",
        "\n",
        "X_treino, X_teste, y_treino, y_teste = train_test_split(x_df, y_df, test_size=0.3, random_state=42)"
      ]
    },
    {
      "cell_type": "code",
      "execution_count": 53,
      "metadata": {
        "id": "9jHo6ZM0wGCX"
      },
      "outputs": [],
      "source": [
        "sennComb = SMOTEENN(\n",
        "    sampling_strategy=0.2,\n",
        "    random_state=42,\n",
        "    n_jobs=-1\n",
        ")\n",
        "\n",
        "X_comb, y_comb = sennComb.fit_resample(X_treino, y_treino)\n"
      ]
    },
    {
      "cell_type": "code",
      "execution_count": 54,
      "metadata": {
        "id": "UQvq0fLzwGCY",
        "colab": {
          "base_uri": "https://localhost:8080/",
          "height": 307
        },
        "outputId": "0f3603c6-0c4b-466d-b13b-03cf1127991d"
      },
      "outputs": [
        {
          "output_type": "execute_result",
          "data": {
            "text/plain": [
              "<matplotlib.axes._subplots.AxesSubplot at 0x7fdbea0f3d10>"
            ]
          },
          "metadata": {},
          "execution_count": 54
        },
        {
          "output_type": "display_data",
          "data": {
            "image/png": "[encoded data removed]",
            "text/plain": [
              "<Figure size 432x288 with 1 Axes>"
            ]
          },
          "metadata": {
            "needs_background": "light"
          }
        }
      ],
      "source": [
        "sns.countplot(y_comb['isFraud'])"
      ]
    },
    {
      "cell_type": "markdown",
      "metadata": {
        "id": "WZqkpDT1wGCa"
      },
      "source": [
        "## Decision Tree"
      ]
    },
    {
      "cell_type": "code",
      "execution_count": 55,
      "metadata": {
        "id": "do6z9no5wGCb",
        "colab": {
          "base_uri": "https://localhost:8080/"
        },
        "outputId": "2b2ae860-1131-4ed4-e2dc-8388dc3ab9a9"
      },
      "outputs": [
        {
          "output_type": "execute_result",
          "data": {
            "text/plain": [
              "array([[   2415,      20],\n",
              "       [  21394, 1884957]])"
            ]
          },
          "metadata": {},
          "execution_count": 55
        }
      ],
      "source": [
        "from sklearn.tree import DecisionTreeClassifier\n",
        "\n",
        "arvoreDecisao = DecisionTreeClassifier(\n",
        "    max_depth=13\n",
        ")\n",
        "arvoreDecisao.fit(X_comb, y_comb)\n",
        "\n",
        "y_arvPred = arvoreDecisao.predict(X_teste)\n",
        "\n",
        "confusion_matrix(y_teste, y_arvPred)\n"
      ]
    },
    {
      "cell_type": "code",
      "execution_count": 56,
      "metadata": {
        "id": "B2SQ27buwGCc",
        "colab": {
          "base_uri": "https://localhost:8080/"
        },
        "outputId": "c093727d-bf0f-4875-ec5c-3d83ba31d86a"
      },
      "outputs": [
        {
          "output_type": "stream",
          "name": "stdout",
          "text": [
            "              precision    recall  f1-score   support\n",
            "\n",
            "      Fraude       0.10      0.99      0.18      2435\n",
            "  Nao Fraude       1.00      0.99      0.99   1906351\n",
            "\n",
            "    accuracy                           0.99   1908786\n",
            "   macro avg       0.55      0.99      0.59   1908786\n",
            "weighted avg       1.00      0.99      0.99   1908786\n",
            "\n"
          ]
        }
      ],
      "source": [
        "print(classification_report(y_teste, y_arvPred, target_names=['Fraude', 'Nao Fraude']))\n"
      ]
    },
    {
      "cell_type": "code",
      "execution_count": 57,
      "metadata": {
        "id": "wrZ5Un7PwGCc",
        "colab": {
          "base_uri": "https://localhost:8080/",
          "height": 279
        },
        "outputId": "02c379f7-7c2b-4e45-f245-83659b926f9d"
      },
      "outputs": [
        {
          "output_type": "display_data",
          "data": {
            "image/png": "[encoded data removed]",
            "text/plain": [
              "<Figure size 432x288 with 1 Axes>"
            ]
          },
          "metadata": {
            "needs_background": "light"
          }
        }
      ],
      "source": [
        "plot_roc_curve(arvoreDecisao, X_teste, y_teste,)\n",
        "plt.show()"
      ]
    },
    {
      "cell_type": "markdown",
      "metadata": {
        "id": "-LX_KBM_wGCd"
      },
      "source": [
        "## Random Forest\n"
      ]
    },
    {
      "cell_type": "code",
      "execution_count": 58,
      "metadata": {
        "id": "Kq7mYdhXwGCe",
        "colab": {
          "base_uri": "https://localhost:8080/"
        },
        "outputId": "d46d74b7-9a05-4947-c096-389aedda66e9"
      },
      "outputs": [
        {
          "output_type": "execute_result",
          "data": {
            "text/plain": [
              "array([[   1952,     483],\n",
              "       [   2068, 1904283]])"
            ]
          },
          "metadata": {},
          "execution_count": 58
        }
      ],
      "source": [
        "from sklearn.ensemble import RandomForestClassifier\n",
        "\n",
        "randForest = RandomForestClassifier(\n",
        "    n_estimators=100,\n",
        "    max_depth=13,\n",
        ")\n",
        "\n",
        "randForest.fit(X_comb, y_comb)\n",
        "\n",
        "y_arvRandPred = randForest.predict(X_teste)\n",
        "\n",
        "confusion_matrix(y_teste, y_arvRandPred)\n"
      ]
    },
    {
      "cell_type": "code",
      "execution_count": 59,
      "metadata": {
        "id": "USCqp8MAwGCe",
        "colab": {
          "base_uri": "https://localhost:8080/"
        },
        "outputId": "53aea140-e705-450b-e16c-3176b4d75c56"
      },
      "outputs": [
        {
          "output_type": "stream",
          "name": "stdout",
          "text": [
            "              precision    recall  f1-score   support\n",
            "\n",
            "      Fraude       0.49      0.80      0.60      2435\n",
            "  Nao Fraude       1.00      1.00      1.00   1906351\n",
            "\n",
            "    accuracy                           1.00   1908786\n",
            "   macro avg       0.74      0.90      0.80   1908786\n",
            "weighted avg       1.00      1.00      1.00   1908786\n",
            "\n"
          ]
        }
      ],
      "source": [
        "print(classification_report(y_teste, y_arvRandPred, target_names=['Fraude', 'Nao Fraude']))\n"
      ]
    },
    {
      "cell_type": "code",
      "execution_count": 60,
      "metadata": {
        "id": "UIKRAQGywGCf",
        "colab": {
          "base_uri": "https://localhost:8080/",
          "height": 279
        },
        "outputId": "c5528056-530d-4c79-e0a7-a02262e4f716"
      },
      "outputs": [
        {
          "output_type": "display_data",
          "data": {
            "image/png": "[encoded data removed]",
            "text/plain": [
              "<Figure size 432x288 with 1 Axes>"
            ]
          },
          "metadata": {
            "needs_background": "light"
          }
        }
      ],
      "source": [
        "plot_roc_curve(randForest, X_teste, y_teste,)\n",
        "plt.show()"
      ]
    },
    {
      "cell_type": "markdown",
      "metadata": {
        "id": "9NIGMokywGCg"
      },
      "source": [
        "## XGBoost"
      ]
    },
    {
      "cell_type": "code",
      "execution_count": 101,
      "metadata": {
        "id": "vA_7DYC4wGCg",
        "colab": {
          "base_uri": "https://localhost:8080/"
        },
        "outputId": "17768cb7-f2c7-4642-8cf8-2344bf12ed85"
      },
      "outputs": [
        {
          "output_type": "execute_result",
          "data": {
            "text/plain": [
              "array([[   2413,      22],\n",
              "       [  12690, 1893661]])"
            ]
          },
          "metadata": {},
          "execution_count": 101
        }
      ],
      "source": [
        "from xgboost import XGBClassifier\n",
        "\n",
        "xgb = XGBClassifier(\n",
        "    max_depth=13,\n",
        "    n_estimators=13,\n",
        "    subsample=0.55,\n",
        "    gpu_id='0',\n",
        "    tree_method='gpu_hist'\n",
        "\n",
        ")\n",
        "\n",
        "xgb.fit(X_comb, y_comb) \n",
        "y_xgb = xgb.predict(X_teste)\n",
        "\n",
        "confusion_matrix(y_teste, y_xgb)"
      ]
    },
    {
      "cell_type": "code",
      "execution_count": 102,
      "metadata": {
        "id": "Z7Wcc0fewGCh",
        "colab": {
          "base_uri": "https://localhost:8080/"
        },
        "outputId": "4c45be1b-58ad-44f1-c409-9f8591304d0f"
      },
      "outputs": [
        {
          "output_type": "stream",
          "name": "stdout",
          "text": [
            "              precision    recall  f1-score   support\n",
            "\n",
            "      Fraude       0.16      0.99      0.28      2435\n",
            "  Nao Fraude       1.00      0.99      1.00   1906351\n",
            "\n",
            "    accuracy                           0.99   1908786\n",
            "   macro avg       0.58      0.99      0.64   1908786\n",
            "weighted avg       1.00      0.99      1.00   1908786\n",
            "\n"
          ]
        }
      ],
      "source": [
        "print(classification_report(y_teste, y_xgb, target_names=['Fraude', 'Nao Fraude']))\n"
      ]
    },
    {
      "cell_type": "code",
      "execution_count": 63,
      "metadata": {
        "id": "swDkE1HSwGCi",
        "colab": {
          "base_uri": "https://localhost:8080/",
          "height": 279
        },
        "outputId": "c7099522-dc3b-4035-88f5-568c4165ee4d"
      },
      "outputs": [
        {
          "output_type": "display_data",
          "data": {
            "image/png": "[encoded data removed]",
            "text/plain": [
              "<Figure size 432x288 with 1 Axes>"
            ]
          },
          "metadata": {
            "needs_background": "light"
          }
        }
      ],
      "source": [
        "plot_roc_curve(xgb, X_teste, y_teste)\n",
        "plt.show()"
      ]
    },
    {
      "cell_type": "code",
      "source": [
        ""
      ],
      "metadata": {
        "id": "1xRDzdQqpC3y"
      },
      "execution_count": 63,
      "outputs": []
    }
  ],
  "metadata": {
    "accelerator": "GPU",
    "colab": {
      "name": "Cópia de desafio-3-3.ipynb",
      "provenance": []
    },
    "interpreter": {
      "hash": "094822a5551e8bc178dcfc4fefbe9c23dd6a189f11c6cc9752bd48c48c446f69"
    },
    "kernelspec": {
      "display_name": "Python 3.8.10 ('.virtual': venv)",
      "language": "python",
      "name": "python3"
    },
    "language_info": {
      "codemirror_mode": {
        "name": "ipython",
        "version": 3
      },
      "file_extension": ".py",
      "mimetype": "text/x-python",
      "name": "python",
      "nbconvert_exporter": "python",
      "pygments_lexer": "ipython3",
      "version": "3.8.10"
    },
    "orig_nbformat": 4
  },
  "nbformat": 4,
  "nbformat_minor": 0
}