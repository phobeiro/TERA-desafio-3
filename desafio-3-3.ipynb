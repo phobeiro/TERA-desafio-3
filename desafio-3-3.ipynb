{
  "cells": [
    {
      "cell_type": "markdown",
      "metadata": {
        "id": "7uFq8fgCwGCD"
      },
      "source": [
        "# Importando\n"
      ]
    },
    {
      "cell_type": "code",
      "execution_count": null,
      "metadata": {
        "id": "2JVLnEsVwGCM"
      },
      "outputs": [],
      "source": [
        "import matplotlib.pyplot as plt\n",
        "import pandas as pd   \n",
        "import seaborn as sns\n",
        "import warnings\n",
        "\n",
        "warnings.filterwarnings('ignore')\n",
        "\n",
        "def ColabOuCode(path_drive, path_local, ncolunas=None):\n",
        "    '''\n",
        "    Importa o DataFrame de acordo com a plataforma usada. Retorna um DataFrame.\n",
        "    '''\n",
        "    try:\n",
        "        from google.colab import drive\n",
        "        drive.mount('/content/drive')\n",
        "        df = pd.read_csv(path_drive)\n",
        "    except:\n",
        "        if ncolunas is None: df = pd.read_csv(path_local)\n",
        "        else: df = pd.read_csv(path_local, nrows=ncolunas)\n",
        "    return df\n"
      ]
    },
    {
      "cell_type": "code",
      "execution_count": null,
      "metadata": {
        "colab": {
          "base_uri": "https://localhost:8080/"
        },
        "id": "dy_s_UBTwGCR",
        "outputId": "952e8503-2144-412d-9fa1-7bdb31ac1c40"
      },
      "outputs": [
        {
          "output_type": "stream",
          "name": "stdout",
          "text": [
            "Drive already mounted at /content/drive; to attempt to forcibly remount, call drive.mount(\"/content/drive\", force_remount=True).\n"
          ]
        },
        {
          "output_type": "execute_result",
          "data": {
            "text/plain": [
              "(6362620, 10)"
            ]
          },
          "metadata": {},
          "execution_count": 2
        }
      ],
      "source": [
        "drive = '/content/drive/MyDrive/Colab Notebooks/TERA-desafio-3/data/dados_tratados.csv'\n",
        "local = './data/dados_tratados.csv'\n",
        "\n",
        "df = ColabOuCode(\n",
        "    drive,\n",
        "    local,\n",
        "    ncolunas=50000\n",
        ")\n",
        "\n",
        "df.shape    "
      ]
    },
    {
      "cell_type": "markdown",
      "metadata": {
        "id": "8DLMNR21wGCT"
      },
      "source": [
        "# Classificações"
      ]
    },
    {
      "cell_type": "code",
      "execution_count": null,
      "metadata": {
        "id": "o_oSb8sjwGCU"
      },
      "outputs": [],
      "source": [
        "from sklearn.metrics import plot_roc_curve\n",
        "from sklearn.metrics import confusion_matrix\n",
        "from sklearn.metrics import classification_report\n",
        "\n",
        "from imblearn.combine import SMOTEENN"
      ]
    },
    {
      "cell_type": "markdown",
      "metadata": {
        "id": "YdAPqxbOwGCV"
      },
      "source": [
        "## Separando e balanceando os dados"
      ]
    },
    {
      "cell_type": "code",
      "execution_count": null,
      "metadata": {
        "id": "MdoiJ37wwGCW"
      },
      "outputs": [],
      "source": [
        "from sklearn.model_selection import train_test_split\n",
        "\n",
        "x_df = df.drop('isFraud',axis=1)\n",
        "y_df = df[['isFraud']]\n",
        "\n",
        "X_treino, X_teste, y_treino, y_teste = train_test_split(x_df, y_df, test_size=0.3, random_state=42)"
      ]
    },
    {
      "cell_type": "code",
      "execution_count": null,
      "metadata": {
        "id": "9jHo6ZM0wGCX"
      },
      "outputs": [],
      "source": [
        "sennComb = SMOTEENN(\n",
        "    sampling_strategy=0.5,\n",
        "    random_state=42,\n",
        "    n_jobs=-1\n",
        ")\n",
        "\n",
        "X_comb, y_comb = sennComb.fit_resample(X_treino, y_treino)\n"
      ]
    },
    {
      "cell_type": "code",
      "execution_count": null,
      "metadata": {
        "id": "UQvq0fLzwGCY"
      },
      "outputs": [],
      "source": [
        "sns.countplot(y_comb['isFraud'])"
      ]
    },
    {
      "cell_type": "markdown",
      "metadata": {
        "id": "WZqkpDT1wGCa"
      },
      "source": [
        "## Decision Tree"
      ]
    },
    {
      "cell_type": "code",
      "execution_count": null,
      "metadata": {
        "id": "do6z9no5wGCb"
      },
      "outputs": [],
      "source": [
        "from sklearn.tree import DecisionTreeClassifier\n",
        "\n",
        "arvoreDecisao = DecisionTreeClassifier(\n",
        "    n_estimators=80,\n",
        "    max_depth=13\n",
        ")\n",
        "arvoreDecisao.fit(X_comb, y_comb)\n",
        "\n",
        "y_arvPred = arvoreDecisao.predict(X_teste)\n",
        "\n",
        "confusion_matrix(y_teste, y_arvPred)\n"
      ]
    },
    {
      "cell_type": "code",
      "execution_count": null,
      "metadata": {
        "id": "B2SQ27buwGCc"
      },
      "outputs": [],
      "source": [
        "print(classification_report(y_teste, y_arvPred, target_names=['Fraude', 'Nao Fraude']))\n"
      ]
    },
    {
      "cell_type": "code",
      "execution_count": null,
      "metadata": {
        "id": "wrZ5Un7PwGCc"
      },
      "outputs": [],
      "source": [
        "plot_roc_curve(arvoreDecisao, X_teste, y_teste,)\n",
        "plt.show()"
      ]
    },
    {
      "cell_type": "markdown",
      "metadata": {
        "id": "-LX_KBM_wGCd"
      },
      "source": [
        "## Random Forest\n"
      ]
    },
    {
      "cell_type": "code",
      "execution_count": null,
      "metadata": {
        "id": "Kq7mYdhXwGCe"
      },
      "outputs": [],
      "source": [
        "from sklearn.ensemble import RandomForestClassifier\n",
        "\n",
        "randForest = RandomForestClassifier(\n",
        "    n_estimators=80,\n",
        "    max_depth=13,\n",
        ")\n",
        "\n",
        "randForest.fit(X_comb, y_comb)\n",
        "\n",
        "y_arvRandPred = randForest.predict(X_teste)\n",
        "\n",
        "confusion_matrix(y_teste, y_arvRandPred)\n"
      ]
    },
    {
      "cell_type": "code",
      "execution_count": null,
      "metadata": {
        "id": "USCqp8MAwGCe"
      },
      "outputs": [],
      "source": [
        "print(classification_report(y_teste, y_arvRandPred, target_names=['Fraude', 'Nao Fraude']))\n"
      ]
    },
    {
      "cell_type": "code",
      "execution_count": null,
      "metadata": {
        "id": "UIKRAQGywGCf"
      },
      "outputs": [],
      "source": [
        "plot_roc_curve(randForest, X_teste, y_teste,)\n",
        "plt.show()"
      ]
    },
    {
      "cell_type": "markdown",
      "metadata": {
        "id": "9NIGMokywGCg"
      },
      "source": [
        "## XGBoost"
      ]
    },
    {
      "cell_type": "code",
      "execution_count": null,
      "metadata": {
        "id": "vA_7DYC4wGCg"
      },
      "outputs": [],
      "source": [
        "from xgboost import XGBClassifier\n",
        "\n",
        "xgb = XGBClassifier(\n",
        "    n_estimators=10,\n",
        "    max_depth=13,\n",
        "    subsample=0.75,\n",
        "    gpu_id='0',\n",
        "    tree_method='gpu_hist'\n",
        "\n",
        ")\n",
        "\n",
        "xgb.fit(X_comb, y_comb) \n",
        "y_xgb = xgb.predict(X_teste)\n",
        "\n",
        "confusion_matrix(y_teste, y_xgb)"
      ]
    },
    {
      "cell_type": "code",
      "execution_count": null,
      "metadata": {
        "id": "Z7Wcc0fewGCh"
      },
      "outputs": [],
      "source": [
        "print(classification_report(y_teste, y_xgb, target_names=['Fraude', 'Nao Fraude']))\n"
      ]
    },
    {
      "cell_type": "code",
      "execution_count": null,
      "metadata": {
        "id": "swDkE1HSwGCi"
      },
      "outputs": [],
      "source": [
        "plot_roc_curve(xgb, X_teste, y_teste)\n",
        "plt.show()"
      ]
    }
  ],
  "metadata": {
    "accelerator": "GPU",
    "colab": {
      "name": "Cópia de desafio-3-3.ipynb",
      "provenance": []
    },
    "interpreter": {
      "hash": "094822a5551e8bc178dcfc4fefbe9c23dd6a189f11c6cc9752bd48c48c446f69"
    },
    "kernelspec": {
      "display_name": "Python 3.8.10 ('.virtual': venv)",
      "language": "python",
      "name": "python3"
    },
    "language_info": {
      "codemirror_mode": {
        "name": "ipython",
        "version": 3
      },
      "file_extension": ".py",
      "mimetype": "text/x-python",
      "name": "python",
      "nbconvert_exporter": "python",
      "pygments_lexer": "ipython3",
      "version": "3.8.10"
    },
    "orig_nbformat": 4
  },
  "nbformat": 4,
  "nbformat_minor": 0
}