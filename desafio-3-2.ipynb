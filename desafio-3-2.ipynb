{
 "cells": [
  {
   "cell_type": "markdown",
   "metadata": {},
   "source": [
    "# Importando"
   ]
  },
  {
   "cell_type": "code",
   "execution_count": 1,
   "metadata": {},
   "outputs": [],
   "source": [
    "import matplotlib.pyplot as plt\n",
    "import pandas as pd   \n",
    "import seaborn as sns\n",
    "import warnings\n",
    "\n",
    "warnings.filterwarnings('ignore')\n",
    "\n",
    "def ColabOuCode(path_drive, path_local, ncolunas=None):\n",
    "    '''\n",
    "    Importa o DataFrame de acordo com a plataforma usada. Retorna um DataFrame.\n",
    "    '''\n",
    "    try:\n",
    "        from google.colab import drive\n",
    "        drive.mount('/content/drive')\n",
    "        df = pd.read_csv(path_drive)\n",
    "    except:\n",
    "        if ncolunas is None: df = pd.read_csv(path_local)\n",
    "        else: df = pd.read_csv(path_local,  nrows=ncolunas)\n",
    "    return df\n"
   ]
  },
  {
   "cell_type": "code",
   "execution_count": 2,
   "metadata": {},
   "outputs": [
    {
     "data": {
      "text/plain": [
       "(2770409, 8)"
      ]
     },
     "execution_count": 2,
     "metadata": {},
     "output_type": "execute_result"
    }
   ],
   "source": [
    "drive = '/content/drive/MyDrive/Colab Notebooks/TERA-desafio-3/data/dados_tratados.csv'\n",
    "local = './data/dados_tratados.csv'\n",
    "\n",
    "df = ColabOuCode(\n",
    "    drive,\n",
    "    local,\n",
    "    ncolunas=None\n",
    ")\n",
    "\n",
    "df.shape    "
   ]
  },
  {
   "cell_type": "code",
   "execution_count": 3,
   "metadata": {},
   "outputs": [
    {
     "data": {
      "text/html": [
       "<div>\n",
       "<style scoped>\n",
       "    .dataframe tbody tr th:only-of-type {\n",
       "        vertical-align: middle;\n",
       "    }\n",
       "\n",
       "    .dataframe tbody tr th {\n",
       "        vertical-align: top;\n",
       "    }\n",
       "\n",
       "    .dataframe thead th {\n",
       "        text-align: right;\n",
       "    }\n",
       "</style>\n",
       "<table border=\"1\" class=\"dataframe\">\n",
       "  <thead>\n",
       "    <tr style=\"text-align: right;\">\n",
       "      <th></th>\n",
       "      <th>oldbalanceOrig</th>\n",
       "      <th>origReinc</th>\n",
       "      <th>oldbalanceDest</th>\n",
       "      <th>destReinc</th>\n",
       "      <th>amount</th>\n",
       "      <th>type_CASH_OUT</th>\n",
       "      <th>type_TRANSFER</th>\n",
       "      <th>isFraud</th>\n",
       "    </tr>\n",
       "  </thead>\n",
       "  <tbody>\n",
       "    <tr>\n",
       "      <th>0</th>\n",
       "      <td>5.198497</td>\n",
       "      <td>0</td>\n",
       "      <td>0.000000</td>\n",
       "      <td>0</td>\n",
       "      <td>5.198497</td>\n",
       "      <td>0</td>\n",
       "      <td>1</td>\n",
       "      <td>0</td>\n",
       "    </tr>\n",
       "    <tr>\n",
       "      <th>1</th>\n",
       "      <td>5.198497</td>\n",
       "      <td>0</td>\n",
       "      <td>9.960907</td>\n",
       "      <td>0</td>\n",
       "      <td>5.198497</td>\n",
       "      <td>1</td>\n",
       "      <td>0</td>\n",
       "      <td>0</td>\n",
       "    </tr>\n",
       "    <tr>\n",
       "      <th>2</th>\n",
       "      <td>9.637241</td>\n",
       "      <td>0</td>\n",
       "      <td>8.533657</td>\n",
       "      <td>0</td>\n",
       "      <td>12.342062</td>\n",
       "      <td>1</td>\n",
       "      <td>0</td>\n",
       "      <td>1</td>\n",
       "    </tr>\n",
       "    <tr>\n",
       "      <th>3</th>\n",
       "      <td>6.558198</td>\n",
       "      <td>0</td>\n",
       "      <td>10.017932</td>\n",
       "      <td>0</td>\n",
       "      <td>12.279836</td>\n",
       "      <td>0</td>\n",
       "      <td>1</td>\n",
       "      <td>1</td>\n",
       "    </tr>\n",
       "    <tr>\n",
       "      <th>4</th>\n",
       "      <td>9.290537</td>\n",
       "      <td>0</td>\n",
       "      <td>8.743053</td>\n",
       "      <td>0</td>\n",
       "      <td>12.649751</td>\n",
       "      <td>0</td>\n",
       "      <td>1</td>\n",
       "      <td>1</td>\n",
       "    </tr>\n",
       "  </tbody>\n",
       "</table>\n",
       "</div>"
      ],
      "text/plain": [
       "   oldbalanceOrig  origReinc  oldbalanceDest  destReinc     amount  \\\n",
       "0        5.198497          0        0.000000          0   5.198497   \n",
       "1        5.198497          0        9.960907          0   5.198497   \n",
       "2        9.637241          0        8.533657          0  12.342062   \n",
       "3        6.558198          0       10.017932          0  12.279836   \n",
       "4        9.290537          0        8.743053          0  12.649751   \n",
       "\n",
       "   type_CASH_OUT  type_TRANSFER  isFraud  \n",
       "0              0              1        0  \n",
       "1              1              0        0  \n",
       "2              1              0        1  \n",
       "3              0              1        1  \n",
       "4              0              1        1  "
      ]
     },
     "execution_count": 3,
     "metadata": {},
     "output_type": "execute_result"
    }
   ],
   "source": [
    "df.head()"
   ]
  },
  {
   "cell_type": "code",
   "execution_count": 4,
   "metadata": {},
   "outputs": [
    {
     "data": {
      "text/plain": [
       "<AxesSubplot:xlabel='isFraud', ylabel='count'>"
      ]
     },
     "execution_count": 4,
     "metadata": {},
     "output_type": "execute_result"
    },
    {
     "data": {
      "image/png": "[encoded data removed]",
      "text/plain": [
       "<Figure size 432x288 with 1 Axes>"
      ]
     },
     "metadata": {
      "needs_background": "light"
     },
     "output_type": "display_data"
    }
   ],
   "source": [
    "sns.countplot(df['isFraud'])"
   ]
  },
  {
   "cell_type": "markdown",
   "metadata": {},
   "source": [
    "# Classificações"
   ]
  },
  {
   "cell_type": "code",
   "execution_count": 5,
   "metadata": {},
   "outputs": [],
   "source": [
    "from sklearn.model_selection import train_test_split\n",
    "\n",
    "x_df = df.drop('isFraud',axis=1)\n",
    "y_df = df[['isFraud']]\n",
    "\n",
    "X_treino, X_teste, y_treino, y_teste = train_test_split(x_df, y_df, test_size=0.3, random_state=42)\n"
   ]
  },
  {
   "cell_type": "markdown",
   "metadata": {},
   "source": [
    "## Regressão Logística"
   ]
  },
  {
   "cell_type": "markdown",
   "metadata": {},
   "source": [
    "### Regressão com dados desbalanceados"
   ]
  },
  {
   "cell_type": "code",
   "execution_count": 6,
   "metadata": {},
   "outputs": [
    {
     "data": {
      "text/plain": [
       "isFraud\n",
       "1          0.996997\n",
       "0          0.003003\n",
       "dtype: float64"
      ]
     },
     "execution_count": 6,
     "metadata": {},
     "output_type": "execute_result"
    }
   ],
   "source": [
    "y_teste.value_counts(normalize=True)"
   ]
  },
  {
   "cell_type": "code",
   "execution_count": 7,
   "metadata": {},
   "outputs": [
    {
     "data": {
      "text/plain": [
       "array([[    10,   2486],\n",
       "       [     0, 828627]])"
      ]
     },
     "execution_count": 7,
     "metadata": {},
     "output_type": "execute_result"
    }
   ],
   "source": [
    "from sklearn.linear_model import LogisticRegression\n",
    "from sklearn.metrics import confusion_matrix\n",
    "\n",
    "\n",
    "regLogistica = LogisticRegression(\n",
    "    max_iter=200,\n",
    "    class_weight={1:0.996997, 0:0.003003},\n",
    ")\n",
    "\n",
    "regLogistica.fit(X_treino, y_treino)\n",
    "\n",
    "y_regPredicao = regLogistica.predict(X_teste)\n",
    "\n",
    "confusion_matrix(y_teste, y_regPredicao)"
   ]
  },
  {
   "cell_type": "code",
   "execution_count": 8,
   "metadata": {},
   "outputs": [
    {
     "name": "stdout",
     "output_type": "stream",
     "text": [
      "              precision    recall  f1-score   support\n",
      "\n",
      "      Fraude       1.00      0.00      0.01      2496\n",
      "  Nao Fraude       1.00      1.00      1.00    828627\n",
      "\n",
      "    accuracy                           1.00    831123\n",
      "   macro avg       1.00      0.50      0.50    831123\n",
      "weighted avg       1.00      1.00      1.00    831123\n",
      "\n"
     ]
    }
   ],
   "source": [
    "from sklearn.metrics import classification_report\n",
    "\n",
    "print(classification_report(y_teste, y_regPredicao, target_names=['Fraude', 'Nao Fraude']))"
   ]
  },
  {
   "cell_type": "code",
   "execution_count": 9,
   "metadata": {},
   "outputs": [
    {
     "data": {
      "image/png": "[encoded data removed]",
      "text/plain": [
       "<Figure size 432x288 with 1 Axes>"
      ]
     },
     "metadata": {
      "needs_background": "light"
     },
     "output_type": "display_data"
    }
   ],
   "source": [
    "from sklearn.metrics import plot_roc_curve\n",
    "\n",
    "plot_roc_curve(regLogistica, X_teste, y_teste,)\n",
    "plt.show()\n"
   ]
  },
  {
   "cell_type": "markdown",
   "metadata": {},
   "source": [
    "#### Tabela da Regressão Logística (desbalanceada)\n",
    "\n",
    "|Estratégia\t\t|Acurácia\t|Precision\t|Recall\t|F1 Score\t|AUC\t|\n",
    "|---------------|:-----------:|:-----------:|:-------:|:-----------:|-------|\n",
    "|*default*\t\t|1\t\t\t|0.98\t\t|0.58\t|0.64\t\t|0.94\t|\n",
    "|*auto weight*\t|0.85\t\t|0.51\t\t|0.89\t|0.48\t\t|0.95\t|\n",
    "|*manual weight*\t|1\t\t\t|1\t\t\t|0.5\t|0.5\t\t|0.94\t|\n",
    "\n"
   ]
  },
  {
   "cell_type": "markdown",
   "metadata": {},
   "source": [
    "### Balanceamento dos dados para a Regressão"
   ]
  },
  {
   "cell_type": "code",
   "execution_count": 10,
   "metadata": {},
   "outputs": [],
   "source": [
    "from imblearn.over_sampling import ADASYN\n",
    "    \n",
    "overSample = ADASYN(random_state=42, sampling_strategy=0.2)\n",
    "X_over, y_over = overSample.fit_resample(X_treino, y_treino)\n",
    "\n"
   ]
  },
  {
   "cell_type": "code",
   "execution_count": 11,
   "metadata": {},
   "outputs": [
    {
     "name": "stdout",
     "output_type": "stream",
     "text": [
      "isFraud\n",
      "1          1933569\n",
      "0             5717\n",
      "dtype: int64\n",
      "\n",
      "isFraud\n",
      "1          1933569\n",
      "0           386564\n",
      "dtype: int64\n"
     ]
    }
   ],
   "source": [
    "print(y_treino.value_counts())\n",
    "print()\n",
    "print(y_over.value_counts())"
   ]
  },
  {
   "cell_type": "code",
   "execution_count": 12,
   "metadata": {},
   "outputs": [
    {
     "data": {
      "text/plain": [
       "<AxesSubplot:xlabel='isFraud', ylabel='count'>"
      ]
     },
     "execution_count": 12,
     "metadata": {},
     "output_type": "execute_result"
    },
    {
     "data": {
      "image/png": "[encoded data removed]",
      "text/plain": [
       "<Figure size 432x288 with 1 Axes>"
      ]
     },
     "metadata": {
      "needs_background": "light"
     },
     "output_type": "display_data"
    }
   ],
   "source": [
    "sns.countplot(y_over['isFraud'])"
   ]
  },
  {
   "cell_type": "code",
   "execution_count": 13,
   "metadata": {},
   "outputs": [
    {
     "data": {
      "text/plain": [
       "array([[  2485,     11],\n",
       "       [187339, 641288]])"
      ]
     },
     "execution_count": 13,
     "metadata": {},
     "output_type": "execute_result"
    }
   ],
   "source": [
    "regPredicaoOver = LogisticRegression(\n",
    "    max_iter=100,\n",
    "    class_weight='balanced',\n",
    ")\n",
    "\n",
    "regPredicaoOver.fit(X_over, y_over)\n",
    "\n",
    "y_regPredicaoOver = regPredicaoOver.predict(X_teste)\n",
    "\n",
    "confusion_matrix(y_teste, y_regPredicaoOver)"
   ]
  },
  {
   "cell_type": "code",
   "execution_count": 14,
   "metadata": {},
   "outputs": [
    {
     "name": "stdout",
     "output_type": "stream",
     "text": [
      "              precision    recall  f1-score   support\n",
      "\n",
      "      Fraude       0.01      1.00      0.03      2496\n",
      "  Nao Fraude       1.00      0.77      0.87    828627\n",
      "\n",
      "    accuracy                           0.77    831123\n",
      "   macro avg       0.51      0.88      0.45    831123\n",
      "weighted avg       1.00      0.77      0.87    831123\n",
      "\n"
     ]
    }
   ],
   "source": [
    "from sklearn.metrics import classification_report\n",
    "\n",
    "print(classification_report(y_teste, y_regPredicaoOver, target_names=['Fraude', 'Nao Fraude']))"
   ]
  },
  {
   "cell_type": "code",
   "execution_count": 15,
   "metadata": {},
   "outputs": [
    {
     "data": {
      "image/png": "[encoded data removed]",
      "text/plain": [
       "<Figure size 432x288 with 1 Axes>"
      ]
     },
     "metadata": {
      "needs_background": "light"
     },
     "output_type": "display_data"
    }
   ],
   "source": [
    "from sklearn.metrics import plot_roc_curve\n",
    "\n",
    "plot_roc_curve(regPredicaoOver, X_teste, y_teste)\n",
    "plt.show()"
   ]
  },
  {
   "cell_type": "markdown",
   "metadata": {},
   "source": [
    "### (OVER+UNDER).SAMPLE"
   ]
  },
  {
   "cell_type": "code",
   "execution_count": 1,
   "metadata": {},
   "outputs": [],
   "source": [
    "from imblearn.combine import SMOTEENN\n",
    "\n",
    "ouCombine = SMOTEENN(\n",
    "    sampling_strategy=0.5,\n",
    "    random_state=42\n",
    "    n_jobs=-1\n",
    ")\n",
    "\n",
    "X_comb, y_comb = ouCombine.fit_resample(X_treino, y_treino)\n"
   ]
  },
  {
   "cell_type": "code",
   "execution_count": null,
   "metadata": {},
   "outputs": [],
   "source": [
    "sns.countplot(y_comb    ['isFraud'])"
   ]
  },
  {
   "cell_type": "code",
   "execution_count": null,
   "metadata": {},
   "outputs": [],
   "source": [
    "regPredicaoComb = LogisticRegression(\n",
    "    max_iter=100,\n",
    "    class_weight='balanced',\n",
    ")\n",
    "\n",
    "regPredicaoComb.fit(X_comb, y_comb)\n",
    "\n",
    "y_regPredicaoComb = regPredicaoComb.predict(X_teste)\n",
    "\n",
    "confusion_matrix(y_teste, y_regPredicaoComb)"
   ]
  },
  {
   "cell_type": "markdown",
   "metadata": {},
   "source": [
    "#### Tabela da Regressão Logística (balanceada)\n",
    "\n",
    "|Estratégia\t\t|Acurácia\t|Precision\t|Recall\t|F1 Score\t|AUC\t|\n",
    "|---------------|:-----------:|:-----------:|:-------:|:-----------:|-------|\n",
    "|*default*\t\t|0.96\t\t\t|0.53\t\t|0.82\t|0.54\t\t|0.95\t|\n",
    "|*auto weight*\t|0.85\t\t|0.51\t\t|0.89\t|0.48\t\t|0.95\t|\n",
    "|*manual weight*\t|1\t\t\t|1\t\t\t|0.5\t|0.5\t\t|0.94\t|\n",
    "\n"
   ]
  },
  {
   "cell_type": "markdown",
   "metadata": {},
   "source": [
    "## Árvore de Decisão"
   ]
  },
  {
   "cell_type": "code",
   "execution_count": null,
   "metadata": {},
   "outputs": [],
   "source": [
    "from sklearn.tree import DecisionTreeClassifier\n",
    "from sklearn.metrics import accuracy_score\n",
    "\n",
    "arvere = DecisionTreeClassifier(\n",
    "    criterion='gini',\n",
    "    class_weight='balanced',\n",
    "\n",
    ")\n",
    "arvere.fit(X_treino, y_treino)\n",
    "\n",
    "y_arvPred = arvere.predict(X_teste)\n",
    "\n",
    "#accuracy_score(y_teste, y_pred, normalize=True)\n",
    "\n",
    "matrizConf = confusion_matrix(y_teste, y_arvPred)\n",
    "matrizConf"
   ]
  },
  {
   "cell_type": "code",
   "execution_count": null,
   "metadata": {},
   "outputs": [],
   "source": [
    "from sklearn.metrics import confusion_matrix, ConfusionMatrixDisplay\n",
    "\n",
    "matrizConf = confusion_matrix(y_teste, y_pred)\n",
    "matrizDisplay = ConfusionMatrixDisplay(confusion_matrix=matrizConf, display_labels=arvere.classes_)\n",
    "matrizDisplay.plot(values_format='d')\n"
   ]
  },
  {
   "cell_type": "code",
   "execution_count": null,
   "metadata": {},
   "outputs": [],
   "source": [
    "from sklearn.metrics import precision_score, recall_score, fbeta_score\n",
    "\n",
    "\n",
    "print('Precision ',precision_score(y_teste, y_pred, pos_label=0))\n",
    "print('Recall ', recall_score(y_teste, y_pred, pos_label=0))\n",
    "print('F1', fbeta_score(y_teste, y_pred, beta=1, pos_label=0))"
   ]
  },
  {
   "cell_type": "code",
   "execution_count": null,
   "metadata": {},
   "outputs": [],
   "source": [
    "from sklearn.metrics import classification_report\n",
    "\n",
    "print(classification_report(y_teste, y_pred, target_names=['Fraude', 'Nao Fraude']))"
   ]
  },
  {
   "cell_type": "code",
   "execution_count": null,
   "metadata": {},
   "outputs": [],
   "source": [
    "'''\n",
    "export_graphviz(\n",
    "    arvere,\n",
    "    out_file=('arvere.dot'),\n",
    "    feature_names=X_treino.columns,\n",
    "    rounded=True,\n",
    "    filled=True\n",
    ")\n",
    "\n",
    "!dot -Tpng arvere.dot -o iris_tree.png\n",
    "'''"
   ]
  },
  {
   "cell_type": "code",
   "execution_count": null,
   "metadata": {},
   "outputs": [],
   "source": []
  },
  {
   "cell_type": "code",
   "execution_count": null,
   "metadata": {},
   "outputs": [],
   "source": []
  },
  {
   "cell_type": "code",
   "execution_count": null,
   "metadata": {},
   "outputs": [],
   "source": []
  },
  {
   "cell_type": "markdown",
   "metadata": {},
   "source": [
    "## XGBoost"
   ]
  }
 ],
 "metadata": {
  "interpreter": {
   "hash": "094822a5551e8bc178dcfc4fefbe9c23dd6a189f11c6cc9752bd48c48c446f69"
  },
  "kernelspec": {
   "display_name": "Python 3.8.10 ('.virtual': venv)",
   "language": "python",
   "name": "python3"
  },
  "language_info": {
   "codemirror_mode": {
    "name": "ipython",
    "version": 3
   },
   "file_extension": ".py",
   "mimetype": "text/x-python",
   "name": "python",
   "nbconvert_exporter": "python",
   "pygments_lexer": "ipython3",
   "version": "3.8.10"
  },
  "orig_nbformat": 4
 },
 "nbformat": 4,
 "nbformat_minor": 2
}
