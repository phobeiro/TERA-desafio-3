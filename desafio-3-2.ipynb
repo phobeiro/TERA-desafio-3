{
 "cells": [
  {
   "cell_type": "markdown",
   "metadata": {},
   "source": [
    "# Importando"
   ]
  },
  {
   "cell_type": "code",
   "execution_count": 1,
   "metadata": {},
   "outputs": [],
   "source": [
    "import matplotlib.pyplot as plt\n",
    "import pandas as pd   \n",
    "import seaborn as sns\n",
    "import warnings\n",
    "\n",
    "warnings.filterwarnings('ignore')\n",
    "\n",
    "def ColabOuCode(path_drive, path_local, ncolunas=None):\n",
    "    '''\n",
    "    Importa o DataFrame de acordo com a plataforma usada. Retorna um DataFrame.\n",
    "    '''\n",
    "    try:\n",
    "        from google.colab import drive\n",
    "        drive.mount('/content/drive')\n",
    "        df = pd.read_csv(path_drive)\n",
    "    except:\n",
    "        if ncolunas is None: df = pd.read_csv(path_local)\n",
    "        else: df = pd.read_csv(path_local,  nrows=ncolunas)\n",
    "    return df\n"
   ]
  },
  {
   "cell_type": "code",
   "execution_count": 2,
   "metadata": {},
   "outputs": [
    {
     "data": {
      "text/plain": [
       "(2770409, 8)"
      ]
     },
     "execution_count": 2,
     "metadata": {},
     "output_type": "execute_result"
    }
   ],
   "source": [
    "drive = '/content/drive/MyDrive/Colab Notebooks/TERA-desafio-3/data/dados_tratados.csv'\n",
    "local = './data/dados_tratados.csv'\n",
    "\n",
    "df = ColabOuCode(\n",
    "    drive,\n",
    "    local,\n",
    "    ncolunas=None\n",
    ")\n",
    "\n",
    "df.shape    "
   ]
  },
  {
   "cell_type": "code",
   "execution_count": 3,
   "metadata": {},
   "outputs": [
    {
     "data": {
      "text/html": [
       "<div>\n",
       "<style scoped>\n",
       "    .dataframe tbody tr th:only-of-type {\n",
       "        vertical-align: middle;\n",
       "    }\n",
       "\n",
       "    .dataframe tbody tr th {\n",
       "        vertical-align: top;\n",
       "    }\n",
       "\n",
       "    .dataframe thead th {\n",
       "        text-align: right;\n",
       "    }\n",
       "</style>\n",
       "<table border=\"1\" class=\"dataframe\">\n",
       "  <thead>\n",
       "    <tr style=\"text-align: right;\">\n",
       "      <th></th>\n",
       "      <th>oldbalanceOrig</th>\n",
       "      <th>origReinc</th>\n",
       "      <th>oldbalanceDest</th>\n",
       "      <th>destReinc</th>\n",
       "      <th>amount</th>\n",
       "      <th>type_CASH_OUT</th>\n",
       "      <th>type_TRANSFER</th>\n",
       "      <th>isFraud</th>\n",
       "    </tr>\n",
       "  </thead>\n",
       "  <tbody>\n",
       "    <tr>\n",
       "      <th>0</th>\n",
       "      <td>5.198497</td>\n",
       "      <td>0</td>\n",
       "      <td>0.000000</td>\n",
       "      <td>0</td>\n",
       "      <td>5.198497</td>\n",
       "      <td>0</td>\n",
       "      <td>1</td>\n",
       "      <td>0</td>\n",
       "    </tr>\n",
       "    <tr>\n",
       "      <th>1</th>\n",
       "      <td>5.198497</td>\n",
       "      <td>0</td>\n",
       "      <td>9.960907</td>\n",
       "      <td>0</td>\n",
       "      <td>5.198497</td>\n",
       "      <td>1</td>\n",
       "      <td>0</td>\n",
       "      <td>0</td>\n",
       "    </tr>\n",
       "    <tr>\n",
       "      <th>2</th>\n",
       "      <td>9.637241</td>\n",
       "      <td>0</td>\n",
       "      <td>8.533657</td>\n",
       "      <td>0</td>\n",
       "      <td>12.342062</td>\n",
       "      <td>1</td>\n",
       "      <td>0</td>\n",
       "      <td>1</td>\n",
       "    </tr>\n",
       "    <tr>\n",
       "      <th>3</th>\n",
       "      <td>6.558198</td>\n",
       "      <td>0</td>\n",
       "      <td>10.017932</td>\n",
       "      <td>0</td>\n",
       "      <td>12.279836</td>\n",
       "      <td>0</td>\n",
       "      <td>1</td>\n",
       "      <td>1</td>\n",
       "    </tr>\n",
       "    <tr>\n",
       "      <th>4</th>\n",
       "      <td>9.290537</td>\n",
       "      <td>0</td>\n",
       "      <td>8.743053</td>\n",
       "      <td>0</td>\n",
       "      <td>12.649751</td>\n",
       "      <td>0</td>\n",
       "      <td>1</td>\n",
       "      <td>1</td>\n",
       "    </tr>\n",
       "  </tbody>\n",
       "</table>\n",
       "</div>"
      ],
      "text/plain": [
       "   oldbalanceOrig  origReinc  oldbalanceDest  destReinc     amount  \\\n",
       "0        5.198497          0        0.000000          0   5.198497   \n",
       "1        5.198497          0        9.960907          0   5.198497   \n",
       "2        9.637241          0        8.533657          0  12.342062   \n",
       "3        6.558198          0       10.017932          0  12.279836   \n",
       "4        9.290537          0        8.743053          0  12.649751   \n",
       "\n",
       "   type_CASH_OUT  type_TRANSFER  isFraud  \n",
       "0              0              1        0  \n",
       "1              1              0        0  \n",
       "2              1              0        1  \n",
       "3              0              1        1  \n",
       "4              0              1        1  "
      ]
     },
     "execution_count": 3,
     "metadata": {},
     "output_type": "execute_result"
    }
   ],
   "source": [
    "df.head()"
   ]
  },
  {
   "cell_type": "markdown",
   "metadata": {},
   "source": [
    "# Classificações"
   ]
  },
  {
   "cell_type": "code",
   "execution_count": 4,
   "metadata": {},
   "outputs": [],
   "source": [
    "from sklearn.metrics import plot_roc_curve\n",
    "from sklearn.metrics import confusion_matrix\n",
    "from sklearn.metrics import classification_report\n",
    "from sklearn.metrics import plot_roc_curve\n",
    "from sklearn.metrics import ConfusionMatrixDisplay\n",
    "\n",
    "from imblearn.over_sampling import SMOTE\n",
    "from imblearn.over_sampling import ADASYN\n",
    "\n",
    "from imblearn.under_sampling import ClusterCentroids\n",
    "\n",
    "from imblearn.combine import SMOTEENN\n",
    "\n",
    "from sklearn.tree import DecisionTreeClassifier\n",
    "\n",
    "from sklearn.linear_model import LogisticRegression"
   ]
  },
  {
   "cell_type": "code",
   "execution_count": 5,
   "metadata": {},
   "outputs": [],
   "source": [
    "from sklearn.model_selection import train_test_split\n",
    "\n",
    "x_df = df.drop('isFraud',axis=1)\n",
    "y_df = df[['isFraud']]\n",
    "\n",
    "X_treino, X_teste, y_treino, y_teste = train_test_split(x_df, y_df, test_size=0.3, random_state=42)\n"
   ]
  },
  {
   "cell_type": "markdown",
   "metadata": {},
   "source": [
    "## Regressão Logística"
   ]
  },
  {
   "cell_type": "markdown",
   "metadata": {},
   "source": [
    "### Desbalanceados"
   ]
  },
  {
   "cell_type": "code",
   "execution_count": null,
   "metadata": {},
   "outputs": [],
   "source": [
    "y_teste.value_counts(normalize=True)"
   ]
  },
  {
   "cell_type": "code",
   "execution_count": null,
   "metadata": {},
   "outputs": [],
   "source": [
    "regLogistica = LogisticRegression(\n",
    "    max_iter=200,\n",
    "    class_weight={1:0.996997, 0:0.003003},\n",
    ")\n",
    "\n",
    "regLogistica.fit(X_treino, y_treino)\n",
    "\n",
    "y_regPredicao = regLogistica.predict(X_teste)\n",
    "\n",
    "confusion_matrix(y_teste, y_regPredicao)"
   ]
  },
  {
   "cell_type": "code",
   "execution_count": null,
   "metadata": {},
   "outputs": [],
   "source": [
    "print(classification_report(y_teste, y_regPredicao, target_names=['Fraude', 'Nao Fraude']))\n"
   ]
  },
  {
   "cell_type": "code",
   "execution_count": null,
   "metadata": {},
   "outputs": [],
   "source": [
    "plot_roc_curve(regLogistica, X_teste, y_teste,)\n",
    "plt.show()\n"
   ]
  },
  {
   "cell_type": "markdown",
   "metadata": {},
   "source": [
    "### Balanceamento com OVER SAMPLE"
   ]
  },
  {
   "cell_type": "markdown",
   "metadata": {},
   "source": [
    "#### ADASYN"
   ]
  },
  {
   "cell_type": "code",
   "execution_count": null,
   "metadata": {},
   "outputs": [],
   "source": [
    "overADASYN = ADASYN(random_state=42, sampling_strategy=0.2)\n",
    "X_over, y_over = overADASYN.fit_resample(X_treino, y_treino)\n",
    "\n"
   ]
  },
  {
   "cell_type": "code",
   "execution_count": null,
   "metadata": {},
   "outputs": [],
   "source": [
    "print(y_treino.value_counts())\n",
    "print()\n",
    "print(y_over.value_counts())"
   ]
  },
  {
   "cell_type": "code",
   "execution_count": null,
   "metadata": {},
   "outputs": [],
   "source": [
    "regPredADASYN = LogisticRegression(\n",
    "    max_iter=100,\n",
    "    class_weight='balanced',\n",
    ")\n",
    "\n",
    "regPredADASYN.fit(X_over, y_over)\n",
    "\n",
    "y_regPredADASYN = regPredADASYN.predict(X_teste)\n",
    "\n",
    "confusion_matrix(y_teste, y_regPredADASYN)"
   ]
  },
  {
   "cell_type": "code",
   "execution_count": null,
   "metadata": {},
   "outputs": [],
   "source": [
    "print(classification_report(y_teste, y_regPredADASYN, target_names=['Fraude', 'Nao Fraude']))\n"
   ]
  },
  {
   "cell_type": "code",
   "execution_count": null,
   "metadata": {},
   "outputs": [],
   "source": [
    "plot_roc_curve(regPredADASYN, X_teste, y_teste)\n",
    "plt.show()"
   ]
  },
  {
   "cell_type": "markdown",
   "metadata": {},
   "source": [
    "#### SMOTE"
   ]
  },
  {
   "cell_type": "code",
   "execution_count": 6,
   "metadata": {},
   "outputs": [],
   "source": [
    "overSMOTE = SMOTE(random_state=42, sampling_strategy=0.2)\n",
    "X_over, y_over = overSMOTE.fit_resample(X_treino, y_treino)\n"
   ]
  },
  {
   "cell_type": "code",
   "execution_count": 10,
   "metadata": {},
   "outputs": [
    {
     "data": {
      "text/plain": [
       "array([[  2333,    163],\n",
       "       [125055, 703572]])"
      ]
     },
     "execution_count": 10,
     "metadata": {},
     "output_type": "execute_result"
    }
   ],
   "source": [
    "regPredSMOTE = LogisticRegression(\n",
    "    max_iter=100,\n",
    "    class_weight='balanced',\n",
    ")\n",
    "\n",
    "regPredSMOTE.fit(X_over, y_over)\n",
    "\n",
    "y_regPredSMOTE = regPredSMOTE.predict(X_teste)\n",
    "\n",
    "confusion_matrix(y_teste, y_regPredSMOTE)"
   ]
  },
  {
   "cell_type": "code",
   "execution_count": 11,
   "metadata": {},
   "outputs": [
    {
     "name": "stdout",
     "output_type": "stream",
     "text": [
      "              precision    recall  f1-score   support\n",
      "\n",
      "      Fraude       0.02      0.93      0.04      2496\n",
      "  Nao Fraude       1.00      0.85      0.92    828627\n",
      "\n",
      "    accuracy                           0.85    831123\n",
      "   macro avg       0.51      0.89      0.48    831123\n",
      "weighted avg       1.00      0.85      0.92    831123\n",
      "\n"
     ]
    }
   ],
   "source": [
    "print(classification_report(y_teste, y_regPredSMOTE, target_names=['Fraude', 'Nao Fraude']))\n"
   ]
  },
  {
   "cell_type": "code",
   "execution_count": 12,
   "metadata": {},
   "outputs": [
    {
     "data": {
      "image/png": "[encoded data removed]",
      "text/plain": [
       "<Figure size 432x288 with 1 Axes>"
      ]
     },
     "metadata": {
      "needs_background": "light"
     },
     "output_type": "display_data"
    }
   ],
   "source": [
    "plot_roc_curve(regPredSMOTE, X_teste, y_teste)\n",
    "plt.show()\n"
   ]
  },
  {
   "cell_type": "markdown",
   "metadata": {},
   "source": [
    "### Balanceamento com UNDER SAMPLE"
   ]
  },
  {
   "cell_type": "markdown",
   "metadata": {},
   "source": [
    "#### ClusterCentroids"
   ]
  },
  {
   "cell_type": "code",
   "execution_count": null,
   "metadata": {},
   "outputs": [],
   "source": [
    "clusterC = ClusterCentroids(\n",
    "    sampling_strategy=0.1,\n",
    "    random_state=42\n",
    ")\n",
    "\n",
    "X_under, y_under = clusterC.fit_resample(X_treino, y_treino)\n"
   ]
  },
  {
   "cell_type": "markdown",
   "metadata": {},
   "source": [
    "### (OVER+UNDER).SAMPLE"
   ]
  },
  {
   "cell_type": "markdown",
   "metadata": {},
   "source": [
    "#### SMOTEENN"
   ]
  },
  {
   "cell_type": "code",
   "execution_count": null,
   "metadata": {},
   "outputs": [],
   "source": [
    "sennComb = SMOTEENN(\n",
    "    sampling_strategy=0.5,\n",
    "    random_state=42,\n",
    "    n_jobs=-1\n",
    ")\n",
    "\n",
    "X_comb, y_comb = sennComb.fit_resample(X_treino, y_treino)\n"
   ]
  },
  {
   "cell_type": "code",
   "execution_count": null,
   "metadata": {},
   "outputs": [],
   "source": [
    "sns.countplot(y_comb['isFraud'])"
   ]
  },
  {
   "cell_type": "code",
   "execution_count": null,
   "metadata": {},
   "outputs": [],
   "source": [
    "redPrediSMNN = LogisticRegression(\n",
    "    max_iter=100,\n",
    "    class_weight='balanced',\n",
    ")\n",
    "\n",
    "redPrediSMNN.fit(X_comb, y_comb)\n",
    "\n",
    "y_redPrediSMNN = redPrediSMNN.predict(X_teste)\n",
    "\n",
    "confusion_matrix(y_teste, y_redPrediSMNN)"
   ]
  },
  {
   "cell_type": "code",
   "execution_count": null,
   "metadata": {},
   "outputs": [],
   "source": [
    "print(classification_report(y_teste, y_redPrediSMNN, target_names=['Fraude', 'Nao Fraude']))"
   ]
  },
  {
   "cell_type": "code",
   "execution_count": null,
   "metadata": {},
   "outputs": [],
   "source": [
    "plot_roc_curve(redPrediSMNN, X_teste, y_teste)\n",
    "plt.show()"
   ]
  },
  {
   "cell_type": "markdown",
   "metadata": {},
   "source": [
    "### Tabela resumo das métricas\n",
    "\n",
    "\n",
    "|Class\t|Balanceamento\t|class_weight\t|Acurácia\t|Precision\t|Recall\t|F1 Score\t|AUC|\n",
    "|:-----:|:-------------:|:-------------:|:-------------:|:-------------:|:-----:|:-------------:|:--:|\n",
    "|RLog\t|0\t\t|None\t\t|1.00\t\t|0.98\t\t|0.58\t|0.64\t\t|0.94|\n",
    "|RLog\t|0\t\t|balanced\t|0.85\t\t|0.51\t\t|0.89\t|0.48\t\t|0.95|\n",
    "|RLog\t|0\t\t|manual\t|1.00\t\t|1.00\t\t|0.50\t|0.50\t\t|0.94|\n",
    "|RLog\t|ADASYN\t\t|None\t\t|0.94\t\t|0.50\t\t|0.59\t|0.50\t\t|0.88|\n",
    "|RLog\t|ADASYN\t\t|balanced\t|0.77\t\t|0.51\t\t|0.88\t|0.50\t\t|0.88|\n",
    "|RLog\t|SMOTE\t\t|None\t\t|0.97   \t|0.53\t\t|0.82\t|0.55\t\t|0.95|\t\n",
    "|RLog\t|SMOTE\t\t|balanced\t|0.85\t\t|0.51\t\t|0.85\t|0.85\t\t|0.95|\t\n",
    "|RLog\t|CC**\t\t|None\t\t|0.00\t\t|0.00\t\t|0.00\t|0.00\t\t|0.00|\n",
    "|RLog\t|CC**\t\t|balanced\t|0.00\t\t|0.00\t\t|0.00\t|0.00\t\t|0.00|\n",
    "|RLog\t|SMOTEENN\t|None\t\t|0.91\t\t|0.51\t\t|0.86\t|0.50\t\t|0.95|\n",
    "|RLog\t|SMOTEENN\t|balanced\t|0.85\t\t|0.51\t\t|0.89\t|0.48\t\t|0.95|\n",
    "\n",
    "\n",
    "** Não rodou"
   ]
  },
  {
   "cell_type": "markdown",
   "metadata": {},
   "source": [
    "## Árvore de Decisão"
   ]
  },
  {
   "cell_type": "code",
   "execution_count": null,
   "metadata": {},
   "outputs": [],
   "source": [
    "ablulbue"
   ]
  },
  {
   "cell_type": "code",
   "execution_count": null,
   "metadata": {},
   "outputs": [],
   "source": [
    "arvere = DecisionTreeClassifier(\n",
    "    criterion='gini',\n",
    "    class_weight='balanced',\n",
    "\n",
    ")\n",
    "arvere.fit(X_treino, y_treino)\n",
    "\n",
    "y_arvPred = arvere.predict(X_teste)\n",
    "\n",
    "matrizConf = confusion_matrix(y_teste, y_arvPred)\n",
    "matrizConf\n"
   ]
  },
  {
   "cell_type": "code",
   "execution_count": null,
   "metadata": {},
   "outputs": [],
   "source": [
    "matrizConf = confusion_matrix(y_teste, y_pred)\n",
    "matrizDisplay = ConfusionMatrixDisplay(confusion_matrix=matrizConf, display_labels=arvere.classes_)\n",
    "matrizDisplay.plot(values_format='d')\n"
   ]
  },
  {
   "cell_type": "code",
   "execution_count": null,
   "metadata": {},
   "outputs": [],
   "source": [
    "print('Precision ',precision_score(y_teste, y_pred, pos_label=0))\n",
    "print('Recall ', recall_score(y_teste, y_pred, pos_label=0))\n",
    "print('F1', fbeta_score(y_teste, y_pred, beta=1, pos_label=0))\n"
   ]
  },
  {
   "cell_type": "code",
   "execution_count": null,
   "metadata": {},
   "outputs": [],
   "source": [
    "print(classification_report(y_teste, y_pred, target_names=['Fraude', 'Nao Fraude']))"
   ]
  },
  {
   "cell_type": "code",
   "execution_count": null,
   "metadata": {},
   "outputs": [],
   "source": [
    "'''\n",
    "export_graphviz(\n",
    "    arvere,\n",
    "    out_file=('arvere.dot'),\n",
    "    feature_names=X_treino.columns,\n",
    "    rounded=True,\n",
    "    filled=True\n",
    ")\n",
    "\n",
    "!dot -Tpng arvere.dot -o iris_tree.png\n",
    "'''"
   ]
  },
  {
   "cell_type": "code",
   "execution_count": null,
   "metadata": {},
   "outputs": [],
   "source": []
  },
  {
   "cell_type": "code",
   "execution_count": null,
   "metadata": {},
   "outputs": [],
   "source": []
  },
  {
   "cell_type": "code",
   "execution_count": null,
   "metadata": {},
   "outputs": [],
   "source": []
  },
  {
   "cell_type": "markdown",
   "metadata": {},
   "source": [
    "## XGBoost"
   ]
  }
 ],
 "metadata": {
  "interpreter": {
   "hash": "094822a5551e8bc178dcfc4fefbe9c23dd6a189f11c6cc9752bd48c48c446f69"
  },
  "kernelspec": {
   "display_name": "Python 3.8.10 ('.virtual': venv)",
   "language": "python",
   "name": "python3"
  },
  "language_info": {
   "codemirror_mode": {
    "name": "ipython",
    "version": 3
   },
   "file_extension": ".py",
   "mimetype": "text/x-python",
   "name": "python",
   "nbconvert_exporter": "python",
   "pygments_lexer": "ipython3",
   "version": "3.8.10"
  },
  "orig_nbformat": 4
 },
 "nbformat": 4,
 "nbformat_minor": 2
}
