{
 "cells": [
  {
   "cell_type": "markdown",
   "metadata": {},
   "source": [
    "# Importando"
   ]
  },
  {
   "cell_type": "code",
   "execution_count": 1,
   "metadata": {},
   "outputs": [],
   "source": [
    "import matplotlib.pyplot as plt\n",
    "import pandas as pd   \n",
    "import warnings\n",
    "\n",
    "warnings.filterwarnings('ignore')\n",
    "\n",
    "def ColabOuCode(path_drive, path_local, ncolunas=None):\n",
    "    '''\n",
    "    Importa o DataFrame de acordo com a plataforma usada. Retorna um DataFrame.\n",
    "    '''\n",
    "    try:\n",
    "        from google.colab import drive\n",
    "        drive.mount('/content/drive')\n",
    "        df = pd.read_csv(path_drive)\n",
    "    except:\n",
    "        if ncolunas is None: df = pd.read_csv(path_local)\n",
    "        else: df = pd.read_csv(path_local,  nrows=ncolunas)\n",
    "    return df\n"
   ]
  },
  {
   "cell_type": "code",
   "execution_count": 2,
   "metadata": {},
   "outputs": [
    {
     "data": {
      "text/html": [
       "<div>\n",
       "<style scoped>\n",
       "    .dataframe tbody tr th:only-of-type {\n",
       "        vertical-align: middle;\n",
       "    }\n",
       "\n",
       "    .dataframe tbody tr th {\n",
       "        vertical-align: top;\n",
       "    }\n",
       "\n",
       "    .dataframe thead th {\n",
       "        text-align: right;\n",
       "    }\n",
       "</style>\n",
       "<table border=\"1\" class=\"dataframe\">\n",
       "  <thead>\n",
       "    <tr style=\"text-align: right;\">\n",
       "      <th></th>\n",
       "      <th>Unnamed: 0</th>\n",
       "      <th>oldbalanceOrig</th>\n",
       "      <th>origReinc</th>\n",
       "      <th>oldbalanceDest</th>\n",
       "      <th>destReinc</th>\n",
       "      <th>amount</th>\n",
       "      <th>type_CASH_OUT</th>\n",
       "      <th>type_TRANSFER</th>\n",
       "      <th>isFraud</th>\n",
       "    </tr>\n",
       "  </thead>\n",
       "  <tbody>\n",
       "    <tr>\n",
       "      <th>0</th>\n",
       "      <td>0</td>\n",
       "      <td>5.198497</td>\n",
       "      <td>0</td>\n",
       "      <td>0.000000</td>\n",
       "      <td>0</td>\n",
       "      <td>5.198497</td>\n",
       "      <td>0</td>\n",
       "      <td>1</td>\n",
       "      <td>0</td>\n",
       "    </tr>\n",
       "    <tr>\n",
       "      <th>1</th>\n",
       "      <td>1</td>\n",
       "      <td>5.198497</td>\n",
       "      <td>0</td>\n",
       "      <td>9.960907</td>\n",
       "      <td>0</td>\n",
       "      <td>5.198497</td>\n",
       "      <td>1</td>\n",
       "      <td>0</td>\n",
       "      <td>0</td>\n",
       "    </tr>\n",
       "    <tr>\n",
       "      <th>2</th>\n",
       "      <td>2</td>\n",
       "      <td>9.637241</td>\n",
       "      <td>0</td>\n",
       "      <td>8.533657</td>\n",
       "      <td>0</td>\n",
       "      <td>12.342062</td>\n",
       "      <td>1</td>\n",
       "      <td>0</td>\n",
       "      <td>1</td>\n",
       "    </tr>\n",
       "    <tr>\n",
       "      <th>3</th>\n",
       "      <td>3</td>\n",
       "      <td>6.558198</td>\n",
       "      <td>0</td>\n",
       "      <td>10.017932</td>\n",
       "      <td>0</td>\n",
       "      <td>12.279836</td>\n",
       "      <td>0</td>\n",
       "      <td>1</td>\n",
       "      <td>1</td>\n",
       "    </tr>\n",
       "    <tr>\n",
       "      <th>4</th>\n",
       "      <td>4</td>\n",
       "      <td>9.290537</td>\n",
       "      <td>0</td>\n",
       "      <td>8.743053</td>\n",
       "      <td>0</td>\n",
       "      <td>12.649751</td>\n",
       "      <td>0</td>\n",
       "      <td>1</td>\n",
       "      <td>1</td>\n",
       "    </tr>\n",
       "  </tbody>\n",
       "</table>\n",
       "</div>"
      ],
      "text/plain": [
       "   Unnamed: 0  oldbalanceOrig  origReinc  oldbalanceDest  destReinc  \\\n",
       "0           0        5.198497          0        0.000000          0   \n",
       "1           1        5.198497          0        9.960907          0   \n",
       "2           2        9.637241          0        8.533657          0   \n",
       "3           3        6.558198          0       10.017932          0   \n",
       "4           4        9.290537          0        8.743053          0   \n",
       "\n",
       "      amount  type_CASH_OUT  type_TRANSFER  isFraud  \n",
       "0   5.198497              0              1        0  \n",
       "1   5.198497              1              0        0  \n",
       "2  12.342062              1              0        1  \n",
       "3  12.279836              0              1        1  \n",
       "4  12.649751              0              1        1  "
      ]
     },
     "execution_count": 2,
     "metadata": {},
     "output_type": "execute_result"
    }
   ],
   "source": [
    "drive = '/content/drive/MyDrive/Colab Notebooks/TERA-desafio-3/data/dados_tratados.csv'\n",
    "local = './data/dados_tratados.csv'\n",
    "\n",
    "df = ColabOuCode(\n",
    "    drive,\n",
    "    local,\n",
    "    ncolunas=None\n",
    ")\n",
    "\n",
    "df.head()\n"
   ]
  },
  {
   "cell_type": "code",
   "execution_count": 4,
   "metadata": {},
   "outputs": [
    {
     "data": {
      "text/plain": [
       "Index(['Unnamed: 0', 'oldbalanceOrig', 'origReinc', 'oldbalanceDest',\n",
       "       'destReinc', 'amount', 'type_CASH_OUT', 'type_TRANSFER', 'isFraud'],\n",
       "      dtype='object')"
      ]
     },
     "execution_count": 4,
     "metadata": {},
     "output_type": "execute_result"
    }
   ],
   "source": [
    "df.columns"
   ]
  },
  {
   "cell_type": "code",
   "execution_count": null,
   "metadata": {},
   "outputs": [],
   "source": [
    "df.info()"
   ]
  },
  {
   "cell_type": "markdown",
   "metadata": {},
   "source": [
    "# Classificações"
   ]
  },
  {
   "cell_type": "code",
   "execution_count": null,
   "metadata": {},
   "outputs": [],
   "source": [
    "from sklearn.model_selection import train_test_split\n",
    "\n",
    "x_df = df.drop('isFraud',axis=1)\n",
    "y_df = df[['isFraud']]\n",
    "\n",
    "X_treino, X_teste, y_treino, y_teste = train_test_split(x_df, y_df, test_size=0.8, random_state=42)\n"
   ]
  },
  {
   "cell_type": "code",
   "execution_count": null,
   "metadata": {},
   "outputs": [],
   "source": [
    "## Regressão Logística\n",
    "\n",
    "from sklearn.linear_model import LogisticRegression\n",
    "from sklearn.metrics import confusion_matrix\n",
    "\n",
    "\n",
    "regLogistica = LogisticRegression(\n",
    "    max_iter=100,\n",
    "    class_weight='balanced',\n",
    ")\n",
    "\n",
    "regLogistica.fit(X_treino, y_treino)\n",
    "\n",
    "y_regPredicao = regLogistica.predict(X_teste)\n",
    "\n",
    "confusion_matrix(y_teste, y_regPredicao)"
   ]
  },
  {
   "cell_type": "code",
   "execution_count": null,
   "metadata": {},
   "outputs": [],
   "source": [
    "from sklearn.metrics import classification_report\n",
    "\n",
    "print(classification_report(y_teste, y_regPredicao, target_names=['Fraude', 'Nao Fraude']))"
   ]
  },
  {
   "cell_type": "code",
   "execution_count": null,
   "metadata": {},
   "outputs": [],
   "source": []
  },
  {
   "cell_type": "code",
   "execution_count": null,
   "metadata": {},
   "outputs": [],
   "source": []
  },
  {
   "cell_type": "code",
   "execution_count": null,
   "metadata": {},
   "outputs": [],
   "source": []
  },
  {
   "cell_type": "markdown",
   "metadata": {},
   "source": [
    "## Árvore de Decisão"
   ]
  },
  {
   "cell_type": "code",
   "execution_count": null,
   "metadata": {},
   "outputs": [],
   "source": [
    "from sklearn.tree import DecisionTreeClassifier\n",
    "from sklearn.metrics import accuracy_score\n",
    "\n",
    "arvere = DecisionTreeClassifier(\n",
    "    criterion='gini',\n",
    "    class_weight='balanced',\n",
    "\n",
    ")\n",
    "arvere.fit(X_treino, y_treino)\n",
    "\n",
    "y_arvPred = arvere.predict(X_teste)\n",
    "\n",
    "#accuracy_score(y_teste, y_pred, normalize=True)\n",
    "\n",
    "matrizConf = confusion_matrix(y_teste, y_arvPred)\n",
    "matrizConf"
   ]
  },
  {
   "cell_type": "code",
   "execution_count": null,
   "metadata": {},
   "outputs": [],
   "source": [
    "from sklearn.metrics import confusion_matrix, ConfusionMatrixDisplay\n",
    "\n",
    "matrizConf = confusion_matrix(y_teste, y_pred)\n",
    "matrizDisplay = ConfusionMatrixDisplay(confusion_matrix=matrizConf, display_labels=arvere.classes_)\n",
    "matrizDisplay.plot(values_format='d')\n"
   ]
  },
  {
   "cell_type": "code",
   "execution_count": null,
   "metadata": {},
   "outputs": [],
   "source": [
    "from sklearn.metrics import precision_score, recall_score, fbeta_score\n",
    "\n",
    "\n",
    "print('Precision ',precision_score(y_teste, y_pred, pos_label=0))\n",
    "print('Recall ', recall_score(y_teste, y_pred, pos_label=0))\n",
    "print('F1', fbeta_score(y_teste, y_pred, beta=1, pos_label=0))"
   ]
  },
  {
   "cell_type": "code",
   "execution_count": null,
   "metadata": {},
   "outputs": [],
   "source": [
    "from sklearn.metrics import classification_report\n",
    "\n",
    "print(classification_report(y_teste, y_pred, target_names=['Fraude', 'Nao Fraude']))"
   ]
  },
  {
   "cell_type": "code",
   "execution_count": null,
   "metadata": {},
   "outputs": [],
   "source": [
    "'''\n",
    "export_graphviz(\n",
    "    arvere,\n",
    "    out_file=('arvere.dot'),\n",
    "    feature_names=X_treino.columns,\n",
    "    rounded=True,\n",
    "    filled=True\n",
    ")\n",
    "\n",
    "!dot -Tpng arvere.dot -o iris_tree.png\n",
    "'''"
   ]
  },
  {
   "cell_type": "code",
   "execution_count": null,
   "metadata": {},
   "outputs": [],
   "source": []
  },
  {
   "cell_type": "code",
   "execution_count": null,
   "metadata": {},
   "outputs": [],
   "source": []
  },
  {
   "cell_type": "code",
   "execution_count": null,
   "metadata": {},
   "outputs": [],
   "source": []
  },
  {
   "cell_type": "markdown",
   "metadata": {},
   "source": [
    "## XGBoost"
   ]
  }
 ],
 "metadata": {
  "interpreter": {
   "hash": "094822a5551e8bc178dcfc4fefbe9c23dd6a189f11c6cc9752bd48c48c446f69"
  },
  "kernelspec": {
   "display_name": "Python 3.8.10 ('.virtual': venv)",
   "language": "python",
   "name": "python3"
  },
  "language_info": {
   "codemirror_mode": {
    "name": "ipython",
    "version": 3
   },
   "file_extension": ".py",
   "mimetype": "text/x-python",
   "name": "python",
   "nbconvert_exporter": "python",
   "pygments_lexer": "ipython3",
   "version": "3.8.10"
  },
  "orig_nbformat": 4
 },
 "nbformat": 4,
 "nbformat_minor": 2
}
