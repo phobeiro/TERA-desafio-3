<<<<<<< HEAD
{"cells":[{"cell_type":"markdown","metadata":{"id":"xU8ykl50o5z-"},"source":["# Desafio 3"]},{"cell_type":"markdown","metadata":{"id":"jK6k8R4to8QW"},"source":["## Importando"]},{"cell_type":"code","execution_count":1,"metadata":{"executionInfo":{"elapsed":7,"status":"ok","timestamp":1643951417430,"user":{"displayName":"","photoUrl":"","userId":""},"user_tz":180},"id":"sCS5uQHpkM7T"},"outputs":[],"source":["import matplotlib.pyplot as plt\n","import numpy as np\n","import pandas as pd   \n","import seaborn as sns\n","import warnings\n","\n","warnings.filterwarnings('ignore')\n","\n","def ColabOuCode():\n","    '''\n","    Importa o DataFrame de acordo com a plataforma usada. Retorna um DataFrame.\n","    '''\n","    try:\n","        from google.colab import drive\n","        drive.mount('/content/drive')\n","        df = pd.read_csv(\n","            '/content/drive/MyDrive/Colab Notebooks/TERA-desafio-3/data/fraud_detection_dataset.csv'\n","        )\n","    except:\n","        df = pd.read_csv('./data/fraud_detection_dataset.csv', nrows=10000, verbose=False)\n","    \n","    return df\n"]},{"cell_type":"code","execution_count":2,"metadata":{"colab":{"base_uri":"https://localhost:8080/"},"executionInfo":{"elapsed":11209,"status":"ok","timestamp":1643951428634,"user":{"displayName":"","photoUrl":"","userId":""},"user_tz":180},"id":"1cDMvJrSlaz8","outputId":"4eacfb47-99b1-4272-9088-8e0c632cdb8f"},"outputs":[],"source":["df = ColabOuCode()"]},{"cell_type":"code","execution_count":3,"metadata":{"colab":{"base_uri":"https://localhost:8080/"},"executionInfo":{"elapsed":53,"status":"ok","timestamp":1643951428636,"user":{"displayName":"","photoUrl":"","userId":""},"user_tz":180},"id":"pFf-dK7ap8tQ","outputId":"be8b25f8-3ff1-42bc-df53-5e9f7ef042f5"},"outputs":[{"data":{"text/plain":["(10000, 11)"]},"execution_count":3,"metadata":{},"output_type":"execute_result"}],"source":["df.shape"]},{"cell_type":"code","execution_count":4,"metadata":{"colab":{"base_uri":"https://localhost:8080/"},"executionInfo":{"elapsed":978,"status":"ok","timestamp":1643951429573,"user":{"displayName":"","photoUrl":"","userId":""},"user_tz":180},"id":"kffDqU2bHy4u","outputId":"f2afaadb-e6e8-4f64-c843-060c7957445a"},"outputs":[{"name":"stdout","output_type":"stream","text":["<class 'pandas.core.frame.DataFrame'>\n","RangeIndex: 10000 entries, 0 to 9999\n","Data columns (total 11 columns):\n"," #   Column          Non-Null Count  Dtype  \n","---  ------          --------------  -----  \n"," 0   step            10000 non-null  int64  \n"," 1   type            10000 non-null  object \n"," 2   amount          10000 non-null  float64\n"," 3   nameOrig        10000 non-null  object \n"," 4   oldbalanceOrg   10000 non-null  float64\n"," 5   newbalanceOrig  10000 non-null  float64\n"," 6   nameDest        10000 non-null  object \n"," 7   oldbalanceDest  10000 non-null  float64\n"," 8   newbalanceDest  10000 non-null  float64\n"," 9   isFraud         10000 non-null  int64  \n"," 10  isFlaggedFraud  10000 non-null  int64  \n","dtypes: float64(5), int64(3), object(3)\n","memory usage: 859.5+ KB\n","None\n","\n","step              0\n","type              0\n","amount            0\n","nameOrig          0\n","oldbalanceOrg     0\n","newbalanceOrig    0\n","nameDest          0\n","oldbalanceDest    0\n","newbalanceDest    0\n","isFraud           0\n","isFlaggedFraud    0\n","dtype: int64\n"]}],"source":["print(df.info())\n","print()\n","print(df.isnull().sum())"]},{"cell_type":"code","execution_count":5,"metadata":{"colab":{"base_uri":"https://localhost:8080/","height":206},"executionInfo":{"elapsed":15,"status":"ok","timestamp":1643951429959,"user":{"displayName":"","photoUrl":"","userId":""},"user_tz":180},"id":"68nUiC5ppr_l","outputId":"dd240af9-98dc-4dcf-a1fb-af31140b9580"},"outputs":[{"data":{"text/html":["<div>\n","<style scoped>\n","    .dataframe tbody tr th:only-of-type {\n","        vertical-align: middle;\n","    }\n","\n","    .dataframe tbody tr th {\n","        vertical-align: top;\n","    }\n","\n","    .dataframe thead th {\n","        text-align: right;\n","    }\n","</style>\n","<table border=\"1\" class=\"dataframe\">\n","  <thead>\n","    <tr style=\"text-align: right;\">\n","      <th></th>\n","      <th>step</th>\n","      <th>type</th>\n","      <th>amount</th>\n","      <th>nameOrig</th>\n","      <th>oldbalanceOrg</th>\n","      <th>newbalanceOrig</th>\n","      <th>nameDest</th>\n","      <th>oldbalanceDest</th>\n","      <th>newbalanceDest</th>\n","      <th>isFraud</th>\n","      <th>isFlaggedFraud</th>\n","    </tr>\n","  </thead>\n","  <tbody>\n","    <tr>\n","      <th>0</th>\n","      <td>1</td>\n","      <td>PAYMENT</td>\n","      <td>9839.64</td>\n","      <td>C1231006815</td>\n","      <td>170136.0</td>\n","      <td>160296.36</td>\n","      <td>M1979787155</td>\n","      <td>0.0</td>\n","      <td>0.0</td>\n","      <td>0</td>\n","      <td>0</td>\n","    </tr>\n","    <tr>\n","      <th>1</th>\n","      <td>1</td>\n","      <td>PAYMENT</td>\n","      <td>1864.28</td>\n","      <td>C1666544295</td>\n","      <td>21249.0</td>\n","      <td>19384.72</td>\n","      <td>M2044282225</td>\n","      <td>0.0</td>\n","      <td>0.0</td>\n","      <td>0</td>\n","      <td>0</td>\n","    </tr>\n","    <tr>\n","      <th>2</th>\n","      <td>1</td>\n","      <td>TRANSFER</td>\n","      <td>181.00</td>\n","      <td>C1305486145</td>\n","      <td>181.0</td>\n","      <td>0.00</td>\n","      <td>C553264065</td>\n","      <td>0.0</td>\n","      <td>0.0</td>\n","      <td>1</td>\n","      <td>0</td>\n","    </tr>\n","    <tr>\n","      <th>3</th>\n","      <td>1</td>\n","      <td>CASH_OUT</td>\n","      <td>181.00</td>\n","      <td>C840083671</td>\n","      <td>181.0</td>\n","      <td>0.00</td>\n","      <td>C38997010</td>\n","      <td>21182.0</td>\n","      <td>0.0</td>\n","      <td>1</td>\n","      <td>0</td>\n","    </tr>\n","    <tr>\n","      <th>4</th>\n","      <td>1</td>\n","      <td>PAYMENT</td>\n","      <td>11668.14</td>\n","      <td>C2048537720</td>\n","      <td>41554.0</td>\n","      <td>29885.86</td>\n","      <td>M1230701703</td>\n","      <td>0.0</td>\n","      <td>0.0</td>\n","      <td>0</td>\n","      <td>0</td>\n","    </tr>\n","  </tbody>\n","</table>\n","</div>"],"text/plain":["   step      type    amount     nameOrig  oldbalanceOrg  newbalanceOrig  \\\n","0     1   PAYMENT   9839.64  C1231006815       170136.0       160296.36   \n","1     1   PAYMENT   1864.28  C1666544295        21249.0        19384.72   \n","2     1  TRANSFER    181.00  C1305486145          181.0            0.00   \n","3     1  CASH_OUT    181.00   C840083671          181.0            0.00   \n","4     1   PAYMENT  11668.14  C2048537720        41554.0        29885.86   \n","\n","      nameDest  oldbalanceDest  newbalanceDest  isFraud  isFlaggedFraud  \n","0  M1979787155             0.0             0.0        0               0  \n","1  M2044282225             0.0             0.0        0               0  \n","2   C553264065             0.0             0.0        1               0  \n","3    C38997010         21182.0             0.0        1               0  \n","4  M1230701703             0.0             0.0        0               0  "]},"execution_count":5,"metadata":{},"output_type":"execute_result"}],"source":["pd.set_option('display.max_columns', 11)\n","df.head()"]},{"cell_type":"code","execution_count":6,"metadata":{},"outputs":[],"source":["df.rename(columns={'oldbalanceOrg':'oldbalanceOrig'}, inplace=True)"]},{"cell_type":"code","execution_count":7,"metadata":{},"outputs":[{"data":{"text/html":["<div>\n","<style scoped>\n","    .dataframe tbody tr th:only-of-type {\n","        vertical-align: middle;\n","    }\n","\n","    .dataframe tbody tr th {\n","        vertical-align: top;\n","    }\n","\n","    .dataframe thead th {\n","        text-align: right;\n","    }\n","</style>\n","<table border=\"1\" class=\"dataframe\">\n","  <thead>\n","    <tr style=\"text-align: right;\">\n","      <th></th>\n","      <th>step</th>\n","      <th>type</th>\n","      <th>amount</th>\n","      <th>nameOrig</th>\n","      <th>oldbalanceOrig</th>\n","      <th>newbalanceOrig</th>\n","      <th>nameDest</th>\n","      <th>oldbalanceDest</th>\n","      <th>newbalanceDest</th>\n","      <th>isFraud</th>\n","      <th>isFlaggedFraud</th>\n","    </tr>\n","  </thead>\n","  <tbody>\n","    <tr>\n","      <th>0</th>\n","      <td>1</td>\n","      <td>PAYMENT</td>\n","      <td>9839.64</td>\n","      <td>C1231006815</td>\n","      <td>170136.0</td>\n","      <td>160296.36</td>\n","      <td>M1979787155</td>\n","      <td>0.0</td>\n","      <td>0.0</td>\n","      <td>0</td>\n","      <td>0</td>\n","    </tr>\n","    <tr>\n","      <th>1</th>\n","      <td>1</td>\n","      <td>PAYMENT</td>\n","      <td>1864.28</td>\n","      <td>C1666544295</td>\n","      <td>21249.0</td>\n","      <td>19384.72</td>\n","      <td>M2044282225</td>\n","      <td>0.0</td>\n","      <td>0.0</td>\n","      <td>0</td>\n","      <td>0</td>\n","    </tr>\n","    <tr>\n","      <th>2</th>\n","      <td>1</td>\n","      <td>TRANSFER</td>\n","      <td>181.00</td>\n","      <td>C1305486145</td>\n","      <td>181.0</td>\n","      <td>0.00</td>\n","      <td>C553264065</td>\n","      <td>0.0</td>\n","      <td>0.0</td>\n","      <td>1</td>\n","      <td>0</td>\n","    </tr>\n","    <tr>\n","      <th>3</th>\n","      <td>1</td>\n","      <td>CASH_OUT</td>\n","      <td>181.00</td>\n","      <td>C840083671</td>\n","      <td>181.0</td>\n","      <td>0.00</td>\n","      <td>C38997010</td>\n","      <td>21182.0</td>\n","      <td>0.0</td>\n","      <td>1</td>\n","      <td>0</td>\n","    </tr>\n","    <tr>\n","      <th>4</th>\n","      <td>1</td>\n","      <td>PAYMENT</td>\n","      <td>11668.14</td>\n","      <td>C2048537720</td>\n","      <td>41554.0</td>\n","      <td>29885.86</td>\n","      <td>M1230701703</td>\n","      <td>0.0</td>\n","      <td>0.0</td>\n","      <td>0</td>\n","      <td>0</td>\n","    </tr>\n","  </tbody>\n","</table>\n","</div>"],"text/plain":["   step      type    amount     nameOrig  oldbalanceOrig  newbalanceOrig  \\\n","0     1   PAYMENT   9839.64  C1231006815        170136.0       160296.36   \n","1     1   PAYMENT   1864.28  C1666544295         21249.0        19384.72   \n","2     1  TRANSFER    181.00  C1305486145           181.0            0.00   \n","3     1  CASH_OUT    181.00   C840083671           181.0            0.00   \n","4     1   PAYMENT  11668.14  C2048537720         41554.0        29885.86   \n","\n","      nameDest  oldbalanceDest  newbalanceDest  isFraud  isFlaggedFraud  \n","0  M1979787155             0.0             0.0        0               0  \n","1  M2044282225             0.0             0.0        0               0  \n","2   C553264065             0.0             0.0        1               0  \n","3    C38997010         21182.0             0.0        1               0  \n","4  M1230701703             0.0             0.0        0               0  "]},"execution_count":7,"metadata":{},"output_type":"execute_result"}],"source":["varMonet = ['amount', 'oldbalanceOrig', 'newbalanceOrig', 'oldbalanceDest', 'newbalanceDest']\n","\n","for v in varMonet: df[v][df[v] > 0] = np.log(df[v][df[v] > 0])\n","\n","df.head()"]},{"cell_type":"code","execution_count":8,"metadata":{"colab":{"base_uri":"https://localhost:8080/","height":332},"executionInfo":{"elapsed":1438,"status":"ok","timestamp":1643951431385,"user":{"displayName":"","photoUrl":"","userId":""},"user_tz":180},"id":"fQKONDyaprJE","outputId":"1d780cb6-0e22-4c1e-8887-d45d178db94b"},"outputs":[{"data":{"text/html":["<div>\n","<style scoped>\n","    .dataframe tbody tr th:only-of-type {\n","        vertical-align: middle;\n","    }\n","\n","    .dataframe tbody tr th {\n","        vertical-align: top;\n","    }\n","\n","    .dataframe thead th {\n","        text-align: right;\n","    }\n","</style>\n","<table border=\"1\" class=\"dataframe\">\n","  <thead>\n","    <tr style=\"text-align: right;\">\n","      <th></th>\n","      <th>step</th>\n","      <th>amount</th>\n","      <th>oldbalanceOrig</th>\n","      <th>newbalanceOrig</th>\n","      <th>oldbalanceDest</th>\n","      <th>newbalanceDest</th>\n","      <th>isFraud</th>\n","      <th>isFlaggedFraud</th>\n","    </tr>\n","  </thead>\n","  <tbody>\n","    <tr>\n","      <th>count</th>\n","      <td>10000.000000</td>\n","      <td>1.000000e+04</td>\n","      <td>1.000000e+04</td>\n","      <td>1.000000e+04</td>\n","      <td>1.000000e+04</td>\n","      <td>1.000000e+04</td>\n","      <td>10000.000000</td>\n","      <td>10000.0</td>\n","    </tr>\n","    <tr>\n","      <th>mean</th>\n","      <td>4.178900</td>\n","      <td>1.035467e+05</td>\n","      <td>8.939330e+05</td>\n","      <td>9.152741e+05</td>\n","      <td>9.342758e+05</td>\n","      <td>1.096606e+06</td>\n","      <td>0.006800</td>\n","      <td>0.0</td>\n","    </tr>\n","    <tr>\n","      <th>std</th>\n","      <td>2.479821</td>\n","      <td>2.663072e+05</td>\n","      <td>2.135683e+06</td>\n","      <td>2.181428e+06</td>\n","      <td>2.676340e+06</td>\n","      <td>3.014496e+06</td>\n","      <td>0.082185</td>\n","      <td>0.0</td>\n","    </tr>\n","    <tr>\n","      <th>min</th>\n","      <td>1.000000</td>\n","      <td>2.390000e+00</td>\n","      <td>0.000000e+00</td>\n","      <td>0.000000e+00</td>\n","      <td>0.000000e+00</td>\n","      <td>0.000000e+00</td>\n","      <td>0.000000</td>\n","      <td>0.0</td>\n","    </tr>\n","    <tr>\n","      <th>50%</th>\n","      <td>5.000000</td>\n","      <td>1.285874e+04</td>\n","      <td>2.137556e+04</td>\n","      <td>1.034994e+04</td>\n","      <td>0.000000e+00</td>\n","      <td>0.000000e+00</td>\n","      <td>0.000000</td>\n","      <td>0.0</td>\n","    </tr>\n","    <tr>\n","      <th>90%</th>\n","      <td>7.000000</td>\n","      <td>2.844522e+05</td>\n","      <td>3.873542e+06</td>\n","      <td>4.022625e+06</td>\n","      <td>2.492924e+06</td>\n","      <td>3.564338e+06</td>\n","      <td>0.000000</td>\n","      <td>0.0</td>\n","    </tr>\n","    <tr>\n","      <th>95%</th>\n","      <td>7.000000</td>\n","      <td>4.301319e+05</td>\n","      <td>6.400517e+06</td>\n","      <td>6.530802e+06</td>\n","      <td>6.599221e+06</td>\n","      <td>7.488672e+06</td>\n","      <td>0.000000</td>\n","      <td>0.0</td>\n","    </tr>\n","    <tr>\n","      <th>99%</th>\n","      <td>7.000000</td>\n","      <td>1.168740e+06</td>\n","      <td>9.419003e+06</td>\n","      <td>9.537812e+06</td>\n","      <td>1.443719e+07</td>\n","      <td>1.594559e+07</td>\n","      <td>0.000000</td>\n","      <td>0.0</td>\n","    </tr>\n","    <tr>\n","      <th>max</th>\n","      <td>7.000000</td>\n","      <td>1.000000e+07</td>\n","      <td>1.293042e+07</td>\n","      <td>1.301050e+07</td>\n","      <td>1.951612e+07</td>\n","      <td>1.916920e+07</td>\n","      <td>1.000000</td>\n","      <td>0.0</td>\n","    </tr>\n","  </tbody>\n","</table>\n","</div>"],"text/plain":["               step        amount  oldbalanceOrig  newbalanceOrig  \\\n","count  10000.000000  1.000000e+04    1.000000e+04    1.000000e+04   \n","mean       4.178900  1.035467e+05    8.939330e+05    9.152741e+05   \n","std        2.479821  2.663072e+05    2.135683e+06    2.181428e+06   \n","min        1.000000  2.390000e+00    0.000000e+00    0.000000e+00   \n","50%        5.000000  1.285874e+04    2.137556e+04    1.034994e+04   \n","90%        7.000000  2.844522e+05    3.873542e+06    4.022625e+06   \n","95%        7.000000  4.301319e+05    6.400517e+06    6.530802e+06   \n","99%        7.000000  1.168740e+06    9.419003e+06    9.537812e+06   \n","max        7.000000  1.000000e+07    1.293042e+07    1.301050e+07   \n","\n","       oldbalanceDest  newbalanceDest       isFraud  isFlaggedFraud  \n","count    1.000000e+04    1.000000e+04  10000.000000         10000.0  \n","mean     9.342758e+05    1.096606e+06      0.006800             0.0  \n","std      2.676340e+06    3.014496e+06      0.082185             0.0  \n","min      0.000000e+00    0.000000e+00      0.000000             0.0  \n","50%      0.000000e+00    0.000000e+00      0.000000             0.0  \n","90%      2.492924e+06    3.564338e+06      0.000000             0.0  \n","95%      6.599221e+06    7.488672e+06      0.000000             0.0  \n","99%      1.443719e+07    1.594559e+07      0.000000             0.0  \n","max      1.951612e+07    1.916920e+07      1.000000             0.0  "]},"execution_count":8,"metadata":{},"output_type":"execute_result"}],"source":["df.describe(percentiles=(0.9,0.95,0.99))"]},{"cell_type":"code","execution_count":9,"metadata":{},"outputs":[{"name":"stdout","output_type":"stream","text":["<class 'pandas.core.frame.DataFrame'>\n","RangeIndex: 10000 entries, 0 to 9999\n","Data columns (total 11 columns):\n"," #   Column          Non-Null Count  Dtype  \n","---  ------          --------------  -----  \n"," 0   step            10000 non-null  int64  \n"," 1   type            10000 non-null  object \n"," 2   amount          10000 non-null  float64\n"," 3   nameOrig        10000 non-null  int64  \n"," 4   oldbalanceOrig  10000 non-null  float64\n"," 5   newbalanceOrig  10000 non-null  float64\n"," 6   nameDest        10000 non-null  int64  \n"," 7   oldbalanceDest  10000 non-null  float64\n"," 8   newbalanceDest  10000 non-null  float64\n"," 9   isFraud         10000 non-null  int64  \n"," 10  isFlaggedFraud  10000 non-null  int64  \n","dtypes: float64(5), int64(5), object(1)\n","memory usage: 859.5+ KB\n"]}],"source":["# convertendo nameOrig e nameDest para int.\n","\n","df['nameOrig'] = df['nameOrig'].str[1:]\n","df['nameDest'] = df['nameDest'].str[1:]\n","\n","df[['nameOrig','nameDest']] = df[['nameOrig','nameDest']].astype(int)\n","\n","df.info()"]},{"cell_type":"code","execution_count":10,"metadata":{},"outputs":[{"data":{"text/html":["<div>\n","<style scoped>\n","    .dataframe tbody tr th:only-of-type {\n","        vertical-align: middle;\n","    }\n","\n","    .dataframe tbody tr th {\n","        vertical-align: top;\n","    }\n","\n","    .dataframe thead th {\n","        text-align: right;\n","    }\n","</style>\n","<table border=\"1\" class=\"dataframe\">\n","  <thead>\n","    <tr style=\"text-align: right;\">\n","      <th></th>\n","      <th>step</th>\n","      <th>type_CASH_IN</th>\n","      <th>type_CASH_OUT</th>\n","      <th>type_DEBIT</th>\n","      <th>type_PAYMENT</th>\n","      <th>type_TRANSFER</th>\n","      <th>amount</th>\n","      <th>nameOrig</th>\n","      <th>oldbalanceOrig</th>\n","      <th>newbalanceOrig</th>\n","      <th>nameDest</th>\n","      <th>oldbalanceDest</th>\n","      <th>newbalanceDest</th>\n","      <th>isFraud</th>\n","      <th>isFlaggedFraud</th>\n","    </tr>\n","  </thead>\n","  <tbody>\n","    <tr>\n","      <th>0</th>\n","      <td>1</td>\n","      <td>0</td>\n","      <td>0</td>\n","      <td>0</td>\n","      <td>1</td>\n","      <td>0</td>\n","      <td>9839.64</td>\n","      <td>1231006815</td>\n","      <td>170136.0</td>\n","      <td>160296.36</td>\n","      <td>1979787155</td>\n","      <td>0.0</td>\n","      <td>0.0</td>\n","      <td>0</td>\n","      <td>0</td>\n","    </tr>\n","    <tr>\n","      <th>1</th>\n","      <td>1</td>\n","      <td>0</td>\n","      <td>0</td>\n","      <td>0</td>\n","      <td>1</td>\n","      <td>0</td>\n","      <td>1864.28</td>\n","      <td>1666544295</td>\n","      <td>21249.0</td>\n","      <td>19384.72</td>\n","      <td>2044282225</td>\n","      <td>0.0</td>\n","      <td>0.0</td>\n","      <td>0</td>\n","      <td>0</td>\n","    </tr>\n","    <tr>\n","      <th>2</th>\n","      <td>1</td>\n","      <td>0</td>\n","      <td>0</td>\n","      <td>0</td>\n","      <td>0</td>\n","      <td>1</td>\n","      <td>181.00</td>\n","      <td>1305486145</td>\n","      <td>181.0</td>\n","      <td>0.00</td>\n","      <td>553264065</td>\n","      <td>0.0</td>\n","      <td>0.0</td>\n","      <td>1</td>\n","      <td>0</td>\n","    </tr>\n","    <tr>\n","      <th>3</th>\n","      <td>1</td>\n","      <td>0</td>\n","      <td>1</td>\n","      <td>0</td>\n","      <td>0</td>\n","      <td>0</td>\n","      <td>181.00</td>\n","      <td>840083671</td>\n","      <td>181.0</td>\n","      <td>0.00</td>\n","      <td>38997010</td>\n","      <td>21182.0</td>\n","      <td>0.0</td>\n","      <td>1</td>\n","      <td>0</td>\n","    </tr>\n","    <tr>\n","      <th>4</th>\n","      <td>1</td>\n","      <td>0</td>\n","      <td>0</td>\n","      <td>0</td>\n","      <td>1</td>\n","      <td>0</td>\n","      <td>11668.14</td>\n","      <td>2048537720</td>\n","      <td>41554.0</td>\n","      <td>29885.86</td>\n","      <td>1230701703</td>\n","      <td>0.0</td>\n","      <td>0.0</td>\n","      <td>0</td>\n","      <td>0</td>\n","    </tr>\n","  </tbody>\n","</table>\n","</div>"],"text/plain":["   step  type_CASH_IN  type_CASH_OUT  type_DEBIT  type_PAYMENT  type_TRANSFER  \\\n","0     1             0              0           0             1              0   \n","1     1             0              0           0             1              0   \n","2     1             0              0           0             0              1   \n","3     1             0              1           0             0              0   \n","4     1             0              0           0             1              0   \n","\n","     amount    nameOrig  oldbalanceOrig  newbalanceOrig    nameDest  \\\n","0   9839.64  1231006815        170136.0       160296.36  1979787155   \n","1   1864.28  1666544295         21249.0        19384.72  2044282225   \n","2    181.00  1305486145           181.0            0.00   553264065   \n","3    181.00   840083671           181.0            0.00    38997010   \n","4  11668.14  2048537720         41554.0        29885.86  1230701703   \n","\n","   oldbalanceDest  newbalanceDest  isFraud  isFlaggedFraud  \n","0             0.0             0.0        0               0  \n","1             0.0             0.0        0               0  \n","2             0.0             0.0        1               0  \n","3         21182.0             0.0        1               0  \n","4             0.0             0.0        0               0  "]},"execution_count":10,"metadata":{},"output_type":"execute_result"}],"source":["df = pd.get_dummies(df,\n","                    columns=['type'],\n","                    drop_first=False\n",")\n","\n","# Reorganizando para facilitar a vida\n","df = df[['step',\n","        'type_CASH_IN',\n","        'type_CASH_OUT',\n","        'type_DEBIT',\n","        'type_PAYMENT',\n","        'type_TRANSFER',\n","        'amount',\n","        'nameOrig',\n","        'oldbalanceOrig',\n","        'newbalanceOrig',\n","        'nameDest', \n","        'oldbalanceDest', \n","        'newbalanceDest', \n","        'isFraud',\n","        'isFlaggedFraud',\n","    ]\n","]\n","\n","pd.set_option('display.max_columns', 20)\n","df.head()\n"]},{"cell_type":"code","execution_count":11,"metadata":{},"outputs":[{"data":{"image/png":"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","text/plain":["<Figure size 864x576 with 2 Axes>"]},"metadata":{"needs_background":"light"},"output_type":"display_data"}],"source":["sns.set_context(font_scale=1.9)\n","plt.figure(figsize=(12,8))\n","\n","sns.heatmap(\n","    df.corr(), \n","    annot=True,\n","    fmt='.2f', \n","    cmap='plasma_r', \n","    mask=np.triu(np.ones_like(df.corr()))\n",")\n","\n","plt.show()"]},{"cell_type":"code","execution_count":null,"metadata":{},"outputs":[],"source":[]}],"metadata":{"accelerator":"GPU","colab":{"collapsed_sections":[],"name":"Copy of desafio-3.ipynb","provenance":[{"file_id":"https://github.com/phobeiro/TERA-desafio-3/blob/master/desafio-3.ipynb","timestamp":1643951658471}]},"kernelspec":{"display_name":"Python 3","name":"python3"},"language_info":{"codemirror_mode":{"name":"ipython","version":3},"file_extension":".py","mimetype":"text/x-python","name":"python","nbconvert_exporter":"python","pygments_lexer":"ipython3","version":"3.8.10"}},"nbformat":4,"nbformat_minor":0}
=======
{
  "cells": [
    {
      "cell_type": "markdown",
      "metadata": {
        "id": "xU8ykl50o5z-"
      },
      "source": [
        "# Desafio 3"
      ]
    },
    {
      "cell_type": "markdown",
      "metadata": {
        "id": "jK6k8R4to8QW"
      },
      "source": [
        "## Importando"
      ]
    },
    {
      "cell_type": "code",
      "execution_count": 1,
      "metadata": {
        "id": "sCS5uQHpkM7T"
      },
      "outputs": [],
      "source": [
        "import matplotlib.pyplot as plt\n",
        "import numpy as np\n",
        "import pandas as pd   \n",
        "import seaborn as sns\n",
        "import warnings\n",
        "\n",
        "warnings.filterwarnings('ignore')\n",
        "sns.set_style('dark')\n",
        "\n",
        "def ColabOuCode():\n",
        "    '''\n",
        "    Importa o DataFrame de acordo com a plataforma usada. Retorna um DataFrame.\n",
        "    '''\n",
        "    try:\n",
        "        from google.colab import drive\n",
        "        drive.mount('/content/drive')\n",
        "        df = pd.read_csv('/content/drive/MyDrive/Colab Notebooks/TERA-desafio-3/data/fraud_detection_dataset.csv',\n",
        "                         nrows=2000000,\n",
        "                         verbose=False\n",
        "                         )\n",
        "    except:\n",
        "        df = pd.read_csv('./data/fraud_detection_dataset.csv', \n",
        "                         nrows=10000, \n",
        "                         verbose=False\n",
        "                        )\n",
        "    return df\n"
      ]
    },
    {
      "cell_type": "code",
      "execution_count": 2,
      "metadata": {
        "colab": {
          "base_uri": "https://localhost:8080/"
        },
        "id": "1cDMvJrSlaz8",
        "outputId": "43111198-7b9e-4f58-cb32-b67f480802c0"
      },
      "outputs": [
        {
          "output_type": "stream",
          "name": "stdout",
          "text": [
            "Drive already mounted at /content/drive; to attempt to forcibly remount, call drive.mount(\"/content/drive\", force_remount=True).\n"
          ]
        }
      ],
      "source": [
        "df = ColabOuCode()"
      ]
    },
    {
      "cell_type": "code",
      "execution_count": 3,
      "metadata": {
        "colab": {
          "base_uri": "https://localhost:8080/"
        },
        "id": "pFf-dK7ap8tQ",
        "outputId": "07c6f02e-9b05-465c-8772-fb0af54f0bb2"
      },
      "outputs": [
        {
          "output_type": "execute_result",
          "data": {
            "text/plain": [
              "(2000000, 11)"
            ]
          },
          "metadata": {},
          "execution_count": 3
        }
      ],
      "source": [
        "df.shape"
      ]
    },
    {
      "cell_type": "code",
      "execution_count": 4,
      "metadata": {
        "colab": {
          "base_uri": "https://localhost:8080/"
        },
        "id": "kffDqU2bHy4u",
        "outputId": "d2973c4c-c243-4043-eeb1-6d6e1cf792dc"
      },
      "outputs": [
        {
          "output_type": "stream",
          "name": "stdout",
          "text": [
            "<class 'pandas.core.frame.DataFrame'>\n",
            "RangeIndex: 2000000 entries, 0 to 1999999\n",
            "Data columns (total 11 columns):\n",
            " #   Column          Dtype  \n",
            "---  ------          -----  \n",
            " 0   step            int64  \n",
            " 1   type            object \n",
            " 2   amount          float64\n",
            " 3   nameOrig        object \n",
            " 4   oldbalanceOrg   float64\n",
            " 5   newbalanceOrig  float64\n",
            " 6   nameDest        object \n",
            " 7   oldbalanceDest  float64\n",
            " 8   newbalanceDest  float64\n",
            " 9   isFraud         int64  \n",
            " 10  isFlaggedFraud  int64  \n",
            "dtypes: float64(5), int64(3), object(3)\n",
            "memory usage: 167.8+ MB\n",
            "None\n",
            "\n",
            "step              0\n",
            "type              0\n",
            "amount            0\n",
            "nameOrig          0\n",
            "oldbalanceOrg     0\n",
            "newbalanceOrig    0\n",
            "nameDest          0\n",
            "oldbalanceDest    0\n",
            "newbalanceDest    0\n",
            "isFraud           0\n",
            "isFlaggedFraud    0\n",
            "dtype: int64\n"
          ]
        }
      ],
      "source": [
        "print(df.info(verbose=True))\n",
        "print()\n",
        "print(df.isnull().sum())"
      ]
    },
    {
      "cell_type": "code",
      "execution_count": 5,
      "metadata": {
        "id": "eNV1BoQzHqTe"
      },
      "outputs": [],
      "source": [
        "df = df.rename(columns={\n",
        "        'step':'HorasInicio',\n",
        "        'type':'TipoTransacao',\n",
        "        'amount':'ValorTransacao',\n",
        "        'nameOrig':'NomOrigem',\n",
        "        'oldbalanceOrig':'oldBalancoOrigem',\n",
        "        'newbalanceOrig':'newBalancoOrigem',\n",
        "        'nameDest':'NomeDestino',\n",
        "        'oldbalanceDest':'oldBalancoDestino',\n",
        "        'newbalanceDest':'newBalancoDestino',\n",
        "        'isFraud':'Fraude',\n",
        "        'isFlaggedFraud':'SinalFraude',\n",
        "        }\n",
        "    )\n",
        "\n",
        "pass"
      ]
    },
    {
      "cell_type": "code",
      "execution_count": 6,
      "metadata": {
        "colab": {
          "base_uri": "https://localhost:8080/",
          "height": 270
        },
        "id": "68nUiC5ppr_l",
        "outputId": "b4cafb6d-e4ee-4bce-b280-676b0f5a0e9c"
      },
      "outputs": [
        {
          "output_type": "execute_result",
          "data": {
            "text/html": [
              "\n",
              "  <div id=\"df-561bdb58-1fb0-431a-9f02-860177f7ebdf\">\n",
              "    <div class=\"colab-df-container\">\n",
              "      <div>\n",
              "<style scoped>\n",
              "    .dataframe tbody tr th:only-of-type {\n",
              "        vertical-align: middle;\n",
              "    }\n",
              "\n",
              "    .dataframe tbody tr th {\n",
              "        vertical-align: top;\n",
              "    }\n",
              "\n",
              "    .dataframe thead th {\n",
              "        text-align: right;\n",
              "    }\n",
              "</style>\n",
              "<table border=\"1\" class=\"dataframe\">\n",
              "  <thead>\n",
              "    <tr style=\"text-align: right;\">\n",
              "      <th></th>\n",
              "      <th>HorasInicio</th>\n",
              "      <th>TipoTransacao</th>\n",
              "      <th>ValorTransacao</th>\n",
              "      <th>NomOrigem</th>\n",
              "      <th>oldbalanceOrg</th>\n",
              "      <th>newBalancoOrigem</th>\n",
              "      <th>NomeDestino</th>\n",
              "      <th>oldBalancoDestino</th>\n",
              "      <th>newBalancoDestino</th>\n",
              "      <th>Fraude</th>\n",
              "      <th>SinalFraude</th>\n",
              "    </tr>\n",
              "  </thead>\n",
              "  <tbody>\n",
              "    <tr>\n",
              "      <th>0</th>\n",
              "      <td>1</td>\n",
              "      <td>PAYMENT</td>\n",
              "      <td>9839.64</td>\n",
              "      <td>C1231006815</td>\n",
              "      <td>170136.0</td>\n",
              "      <td>160296.36</td>\n",
              "      <td>M1979787155</td>\n",
              "      <td>0.0</td>\n",
              "      <td>0.0</td>\n",
              "      <td>0</td>\n",
              "      <td>0</td>\n",
              "    </tr>\n",
              "    <tr>\n",
              "      <th>1</th>\n",
              "      <td>1</td>\n",
              "      <td>PAYMENT</td>\n",
              "      <td>1864.28</td>\n",
              "      <td>C1666544295</td>\n",
              "      <td>21249.0</td>\n",
              "      <td>19384.72</td>\n",
              "      <td>M2044282225</td>\n",
              "      <td>0.0</td>\n",
              "      <td>0.0</td>\n",
              "      <td>0</td>\n",
              "      <td>0</td>\n",
              "    </tr>\n",
              "    <tr>\n",
              "      <th>2</th>\n",
              "      <td>1</td>\n",
              "      <td>TRANSFER</td>\n",
              "      <td>181.00</td>\n",
              "      <td>C1305486145</td>\n",
              "      <td>181.0</td>\n",
              "      <td>0.00</td>\n",
              "      <td>C553264065</td>\n",
              "      <td>0.0</td>\n",
              "      <td>0.0</td>\n",
              "      <td>1</td>\n",
              "      <td>0</td>\n",
              "    </tr>\n",
              "    <tr>\n",
              "      <th>3</th>\n",
              "      <td>1</td>\n",
              "      <td>CASH_OUT</td>\n",
              "      <td>181.00</td>\n",
              "      <td>C840083671</td>\n",
              "      <td>181.0</td>\n",
              "      <td>0.00</td>\n",
              "      <td>C38997010</td>\n",
              "      <td>21182.0</td>\n",
              "      <td>0.0</td>\n",
              "      <td>1</td>\n",
              "      <td>0</td>\n",
              "    </tr>\n",
              "    <tr>\n",
              "      <th>4</th>\n",
              "      <td>1</td>\n",
              "      <td>PAYMENT</td>\n",
              "      <td>11668.14</td>\n",
              "      <td>C2048537720</td>\n",
              "      <td>41554.0</td>\n",
              "      <td>29885.86</td>\n",
              "      <td>M1230701703</td>\n",
              "      <td>0.0</td>\n",
              "      <td>0.0</td>\n",
              "      <td>0</td>\n",
              "      <td>0</td>\n",
              "    </tr>\n",
              "  </tbody>\n",
              "</table>\n",
              "</div>\n",
              "      <button class=\"colab-df-convert\" onclick=\"convertToInteractive('df-561bdb58-1fb0-431a-9f02-860177f7ebdf')\"\n",
              "              title=\"Convert this dataframe to an interactive table.\"\n",
              "              style=\"display:none;\">\n",
              "        \n",
              "  <svg xmlns=\"http://www.w3.org/2000/svg\" height=\"24px\"viewBox=\"0 0 24 24\"\n",
              "       width=\"24px\">\n",
              "    <path d=\"M0 0h24v24H0V0z\" fill=\"none\"/>\n",
              "    <path d=\"M18.56 5.44l.94 2.06.94-2.06 2.06-.94-2.06-.94-.94-2.06-.94 2.06-2.06.94zm-11 1L8.5 8.5l.94-2.06 2.06-.94-2.06-.94L8.5 2.5l-.94 2.06-2.06.94zm10 10l.94 2.06.94-2.06 2.06-.94-2.06-.94-.94-2.06-.94 2.06-2.06.94z\"/><path d=\"M17.41 7.96l-1.37-1.37c-.4-.4-.92-.59-1.43-.59-.52 0-1.04.2-1.43.59L10.3 9.45l-7.72 7.72c-.78.78-.78 2.05 0 2.83L4 21.41c.39.39.9.59 1.41.59.51 0 1.02-.2 1.41-.59l7.78-7.78 2.81-2.81c.8-.78.8-2.07 0-2.86zM5.41 20L4 18.59l7.72-7.72 1.47 1.35L5.41 20z\"/>\n",
              "  </svg>\n",
              "      </button>\n",
              "      \n",
              "  <style>\n",
              "    .colab-df-container {\n",
              "      display:flex;\n",
              "      flex-wrap:wrap;\n",
              "      gap: 12px;\n",
              "    }\n",
              "\n",
              "    .colab-df-convert {\n",
              "      background-color: #E8F0FE;\n",
              "      border: none;\n",
              "      border-radius: 50%;\n",
              "      cursor: pointer;\n",
              "      display: none;\n",
              "      fill: #1967D2;\n",
              "      height: 32px;\n",
              "      padding: 0 0 0 0;\n",
              "      width: 32px;\n",
              "    }\n",
              "\n",
              "    .colab-df-convert:hover {\n",
              "      background-color: #E2EBFA;\n",
              "      box-shadow: 0px 1px 2px rgba(60, 64, 67, 0.3), 0px 1px 3px 1px rgba(60, 64, 67, 0.15);\n",
              "      fill: #174EA6;\n",
              "    }\n",
              "\n",
              "    [theme=dark] .colab-df-convert {\n",
              "      background-color: #3B4455;\n",
              "      fill: #D2E3FC;\n",
              "    }\n",
              "\n",
              "    [theme=dark] .colab-df-convert:hover {\n",
              "      background-color: #434B5C;\n",
              "      box-shadow: 0px 1px 3px 1px rgba(0, 0, 0, 0.15);\n",
              "      filter: drop-shadow(0px 1px 2px rgba(0, 0, 0, 0.3));\n",
              "      fill: #FFFFFF;\n",
              "    }\n",
              "  </style>\n",
              "\n",
              "      <script>\n",
              "        const buttonEl =\n",
              "          document.querySelector('#df-561bdb58-1fb0-431a-9f02-860177f7ebdf button.colab-df-convert');\n",
              "        buttonEl.style.display =\n",
              "          google.colab.kernel.accessAllowed ? 'block' : 'none';\n",
              "\n",
              "        async function convertToInteractive(key) {\n",
              "          const element = document.querySelector('#df-561bdb58-1fb0-431a-9f02-860177f7ebdf');\n",
              "          const dataTable =\n",
              "            await google.colab.kernel.invokeFunction('convertToInteractive',\n",
              "                                                     [key], {});\n",
              "          if (!dataTable) return;\n",
              "\n",
              "          const docLinkHtml = 'Like what you see? Visit the ' +\n",
              "            '<a target=\"_blank\" href=https://colab.research.google.com/notebooks/data_table.ipynb>data table notebook</a>'\n",
              "            + ' to learn more about interactive tables.';\n",
              "          element.innerHTML = '';\n",
              "          dataTable['output_type'] = 'display_data';\n",
              "          await google.colab.output.renderOutput(dataTable, element);\n",
              "          const docLink = document.createElement('div');\n",
              "          docLink.innerHTML = docLinkHtml;\n",
              "          element.appendChild(docLink);\n",
              "        }\n",
              "      </script>\n",
              "    </div>\n",
              "  </div>\n",
              "  "
            ],
            "text/plain": [
              "   HorasInicio TipoTransacao  ValorTransacao    NomOrigem  oldbalanceOrg  \\\n",
              "0            1       PAYMENT         9839.64  C1231006815       170136.0   \n",
              "1            1       PAYMENT         1864.28  C1666544295        21249.0   \n",
              "2            1      TRANSFER          181.00  C1305486145          181.0   \n",
              "3            1      CASH_OUT          181.00   C840083671          181.0   \n",
              "4            1       PAYMENT        11668.14  C2048537720        41554.0   \n",
              "\n",
              "   newBalancoOrigem  NomeDestino  oldBalancoDestino  newBalancoDestino  \\\n",
              "0         160296.36  M1979787155                0.0                0.0   \n",
              "1          19384.72  M2044282225                0.0                0.0   \n",
              "2              0.00   C553264065                0.0                0.0   \n",
              "3              0.00    C38997010            21182.0                0.0   \n",
              "4          29885.86  M1230701703                0.0                0.0   \n",
              "\n",
              "   Fraude  SinalFraude  \n",
              "0       0            0  \n",
              "1       0            0  \n",
              "2       1            0  \n",
              "3       1            0  \n",
              "4       0            0  "
            ]
          },
          "metadata": {},
          "execution_count": 6
        }
      ],
      "source": [
        "pd.set_option('display.max_columns', 11)\n",
        "df.head()"
      ]
    },
    {
      "cell_type": "code",
      "execution_count": 7,
      "metadata": {
        "colab": {
          "base_uri": "https://localhost:8080/",
          "height": 332
        },
        "id": "fQKONDyaprJE",
        "outputId": "884d7b12-dda2-4f78-bed1-dd8f5f22f67d"
      },
      "outputs": [
        {
          "output_type": "execute_result",
          "data": {
            "text/html": [
              "\n",
              "  <div id=\"df-290bbf59-73e4-4108-9946-1f9831bbceae\">\n",
              "    <div class=\"colab-df-container\">\n",
              "      <div>\n",
              "<style scoped>\n",
              "    .dataframe tbody tr th:only-of-type {\n",
              "        vertical-align: middle;\n",
              "    }\n",
              "\n",
              "    .dataframe tbody tr th {\n",
              "        vertical-align: top;\n",
              "    }\n",
              "\n",
              "    .dataframe thead th {\n",
              "        text-align: right;\n",
              "    }\n",
              "</style>\n",
              "<table border=\"1\" class=\"dataframe\">\n",
              "  <thead>\n",
              "    <tr style=\"text-align: right;\">\n",
              "      <th></th>\n",
              "      <th>HorasInicio</th>\n",
              "      <th>ValorTransacao</th>\n",
              "      <th>oldbalanceOrg</th>\n",
              "      <th>newBalancoOrigem</th>\n",
              "      <th>oldBalancoDestino</th>\n",
              "      <th>newBalancoDestino</th>\n",
              "      <th>Fraude</th>\n",
              "      <th>SinalFraude</th>\n",
              "    </tr>\n",
              "  </thead>\n",
              "  <tbody>\n",
              "    <tr>\n",
              "      <th>count</th>\n",
              "      <td>2.000000e+06</td>\n",
              "      <td>2.000000e+06</td>\n",
              "      <td>2.000000e+06</td>\n",
              "      <td>2.000000e+06</td>\n",
              "      <td>2.000000e+06</td>\n",
              "      <td>2.000000e+06</td>\n",
              "      <td>2.000000e+06</td>\n",
              "      <td>2000000.0</td>\n",
              "    </tr>\n",
              "    <tr>\n",
              "      <th>mean</th>\n",
              "      <td>8.484592e+01</td>\n",
              "      <td>1.611882e+05</td>\n",
              "      <td>8.574199e+05</td>\n",
              "      <td>8.786843e+05</td>\n",
              "      <td>9.960116e+05</td>\n",
              "      <td>1.114418e+06</td>\n",
              "      <td>1.018000e-03</td>\n",
              "      <td>0.0</td>\n",
              "    </tr>\n",
              "    <tr>\n",
              "      <th>std</th>\n",
              "      <td>6.277502e+01</td>\n",
              "      <td>2.710108e+05</td>\n",
              "      <td>2.928641e+06</td>\n",
              "      <td>2.964900e+06</td>\n",
              "      <td>2.304238e+06</td>\n",
              "      <td>2.399416e+06</td>\n",
              "      <td>3.188988e-02</td>\n",
              "      <td>0.0</td>\n",
              "    </tr>\n",
              "    <tr>\n",
              "      <th>min</th>\n",
              "      <td>1.000000e+00</td>\n",
              "      <td>6.000000e-02</td>\n",
              "      <td>0.000000e+00</td>\n",
              "      <td>0.000000e+00</td>\n",
              "      <td>0.000000e+00</td>\n",
              "      <td>0.000000e+00</td>\n",
              "      <td>0.000000e+00</td>\n",
              "      <td>0.0</td>\n",
              "    </tr>\n",
              "    <tr>\n",
              "      <th>50%</th>\n",
              "      <td>4.500000e+01</td>\n",
              "      <td>7.805394e+04</td>\n",
              "      <td>1.499200e+04</td>\n",
              "      <td>0.000000e+00</td>\n",
              "      <td>1.370054e+05</td>\n",
              "      <td>2.271597e+05</td>\n",
              "      <td>0.000000e+00</td>\n",
              "      <td>0.0</td>\n",
              "    </tr>\n",
              "    <tr>\n",
              "      <th>90%</th>\n",
              "      <td>1.620000e+02</td>\n",
              "      <td>3.763364e+05</td>\n",
              "      <td>1.907183e+06</td>\n",
              "      <td>2.054204e+06</td>\n",
              "      <td>2.791082e+06</td>\n",
              "      <td>3.114542e+06</td>\n",
              "      <td>0.000000e+00</td>\n",
              "      <td>0.0</td>\n",
              "    </tr>\n",
              "    <tr>\n",
              "      <th>95%</th>\n",
              "      <td>1.650000e+02</td>\n",
              "      <td>5.241575e+05</td>\n",
              "      <td>5.948783e+06</td>\n",
              "      <td>6.108255e+06</td>\n",
              "      <td>4.790185e+06</td>\n",
              "      <td>5.169396e+06</td>\n",
              "      <td>0.000000e+00</td>\n",
              "      <td>0.0</td>\n",
              "    </tr>\n",
              "    <tr>\n",
              "      <th>99%</th>\n",
              "      <td>1.790000e+02</td>\n",
              "      <td>1.324815e+06</td>\n",
              "      <td>1.638778e+07</td>\n",
              "      <td>1.654101e+07</td>\n",
              "      <td>1.115629e+07</td>\n",
              "      <td>1.157275e+07</td>\n",
              "      <td>0.000000e+00</td>\n",
              "      <td>0.0</td>\n",
              "    </tr>\n",
              "    <tr>\n",
              "      <th>max</th>\n",
              "      <td>1.790000e+02</td>\n",
              "      <td>1.000000e+07</td>\n",
              "      <td>3.893942e+07</td>\n",
              "      <td>3.894623e+07</td>\n",
              "      <td>4.220740e+07</td>\n",
              "      <td>4.228378e+07</td>\n",
              "      <td>1.000000e+00</td>\n",
              "      <td>0.0</td>\n",
              "    </tr>\n",
              "  </tbody>\n",
              "</table>\n",
              "</div>\n",
              "      <button class=\"colab-df-convert\" onclick=\"convertToInteractive('df-290bbf59-73e4-4108-9946-1f9831bbceae')\"\n",
              "              title=\"Convert this dataframe to an interactive table.\"\n",
              "              style=\"display:none;\">\n",
              "        \n",
              "  <svg xmlns=\"http://www.w3.org/2000/svg\" height=\"24px\"viewBox=\"0 0 24 24\"\n",
              "       width=\"24px\">\n",
              "    <path d=\"M0 0h24v24H0V0z\" fill=\"none\"/>\n",
              "    <path d=\"M18.56 5.44l.94 2.06.94-2.06 2.06-.94-2.06-.94-.94-2.06-.94 2.06-2.06.94zm-11 1L8.5 8.5l.94-2.06 2.06-.94-2.06-.94L8.5 2.5l-.94 2.06-2.06.94zm10 10l.94 2.06.94-2.06 2.06-.94-2.06-.94-.94-2.06-.94 2.06-2.06.94z\"/><path d=\"M17.41 7.96l-1.37-1.37c-.4-.4-.92-.59-1.43-.59-.52 0-1.04.2-1.43.59L10.3 9.45l-7.72 7.72c-.78.78-.78 2.05 0 2.83L4 21.41c.39.39.9.59 1.41.59.51 0 1.02-.2 1.41-.59l7.78-7.78 2.81-2.81c.8-.78.8-2.07 0-2.86zM5.41 20L4 18.59l7.72-7.72 1.47 1.35L5.41 20z\"/>\n",
              "  </svg>\n",
              "      </button>\n",
              "      \n",
              "  <style>\n",
              "    .colab-df-container {\n",
              "      display:flex;\n",
              "      flex-wrap:wrap;\n",
              "      gap: 12px;\n",
              "    }\n",
              "\n",
              "    .colab-df-convert {\n",
              "      background-color: #E8F0FE;\n",
              "      border: none;\n",
              "      border-radius: 50%;\n",
              "      cursor: pointer;\n",
              "      display: none;\n",
              "      fill: #1967D2;\n",
              "      height: 32px;\n",
              "      padding: 0 0 0 0;\n",
              "      width: 32px;\n",
              "    }\n",
              "\n",
              "    .colab-df-convert:hover {\n",
              "      background-color: #E2EBFA;\n",
              "      box-shadow: 0px 1px 2px rgba(60, 64, 67, 0.3), 0px 1px 3px 1px rgba(60, 64, 67, 0.15);\n",
              "      fill: #174EA6;\n",
              "    }\n",
              "\n",
              "    [theme=dark] .colab-df-convert {\n",
              "      background-color: #3B4455;\n",
              "      fill: #D2E3FC;\n",
              "    }\n",
              "\n",
              "    [theme=dark] .colab-df-convert:hover {\n",
              "      background-color: #434B5C;\n",
              "      box-shadow: 0px 1px 3px 1px rgba(0, 0, 0, 0.15);\n",
              "      filter: drop-shadow(0px 1px 2px rgba(0, 0, 0, 0.3));\n",
              "      fill: #FFFFFF;\n",
              "    }\n",
              "  </style>\n",
              "\n",
              "      <script>\n",
              "        const buttonEl =\n",
              "          document.querySelector('#df-290bbf59-73e4-4108-9946-1f9831bbceae button.colab-df-convert');\n",
              "        buttonEl.style.display =\n",
              "          google.colab.kernel.accessAllowed ? 'block' : 'none';\n",
              "\n",
              "        async function convertToInteractive(key) {\n",
              "          const element = document.querySelector('#df-290bbf59-73e4-4108-9946-1f9831bbceae');\n",
              "          const dataTable =\n",
              "            await google.colab.kernel.invokeFunction('convertToInteractive',\n",
              "                                                     [key], {});\n",
              "          if (!dataTable) return;\n",
              "\n",
              "          const docLinkHtml = 'Like what you see? Visit the ' +\n",
              "            '<a target=\"_blank\" href=https://colab.research.google.com/notebooks/data_table.ipynb>data table notebook</a>'\n",
              "            + ' to learn more about interactive tables.';\n",
              "          element.innerHTML = '';\n",
              "          dataTable['output_type'] = 'display_data';\n",
              "          await google.colab.output.renderOutput(dataTable, element);\n",
              "          const docLink = document.createElement('div');\n",
              "          docLink.innerHTML = docLinkHtml;\n",
              "          element.appendChild(docLink);\n",
              "        }\n",
              "      </script>\n",
              "    </div>\n",
              "  </div>\n",
              "  "
            ],
            "text/plain": [
              "        HorasInicio  ValorTransacao  oldbalanceOrg  newBalancoOrigem  \\\n",
              "count  2.000000e+06    2.000000e+06   2.000000e+06      2.000000e+06   \n",
              "mean   8.484592e+01    1.611882e+05   8.574199e+05      8.786843e+05   \n",
              "std    6.277502e+01    2.710108e+05   2.928641e+06      2.964900e+06   \n",
              "min    1.000000e+00    6.000000e-02   0.000000e+00      0.000000e+00   \n",
              "50%    4.500000e+01    7.805394e+04   1.499200e+04      0.000000e+00   \n",
              "90%    1.620000e+02    3.763364e+05   1.907183e+06      2.054204e+06   \n",
              "95%    1.650000e+02    5.241575e+05   5.948783e+06      6.108255e+06   \n",
              "99%    1.790000e+02    1.324815e+06   1.638778e+07      1.654101e+07   \n",
              "max    1.790000e+02    1.000000e+07   3.893942e+07      3.894623e+07   \n",
              "\n",
              "       oldBalancoDestino  newBalancoDestino        Fraude  SinalFraude  \n",
              "count       2.000000e+06       2.000000e+06  2.000000e+06    2000000.0  \n",
              "mean        9.960116e+05       1.114418e+06  1.018000e-03          0.0  \n",
              "std         2.304238e+06       2.399416e+06  3.188988e-02          0.0  \n",
              "min         0.000000e+00       0.000000e+00  0.000000e+00          0.0  \n",
              "50%         1.370054e+05       2.271597e+05  0.000000e+00          0.0  \n",
              "90%         2.791082e+06       3.114542e+06  0.000000e+00          0.0  \n",
              "95%         4.790185e+06       5.169396e+06  0.000000e+00          0.0  \n",
              "99%         1.115629e+07       1.157275e+07  0.000000e+00          0.0  \n",
              "max         4.220740e+07       4.228378e+07  1.000000e+00          0.0  "
            ]
          },
          "metadata": {},
          "execution_count": 7
        }
      ],
      "source": [
        "df.describe(percentiles=(0.9,0.95,0.99))"
      ]
    },
    {
      "cell_type": "code",
      "execution_count": 8,
      "metadata": {
        "colab": {
          "base_uri": "https://localhost:8080/"
        },
        "id": "U8-qYIx0o3Sg",
        "outputId": "aff2e4af-b31d-4816-d8a5-e23091e47e79"
      },
      "outputs": [
        {
          "output_type": "execute_result",
          "data": {
            "text/plain": [
              "HorasInicio          0\n",
              "TipoTransacao        0\n",
              "ValorTransacao       0\n",
              "NomOrigem            0\n",
              "oldbalanceOrg        0\n",
              "newBalancoOrigem     0\n",
              "NomeDestino          0\n",
              "oldBalancoDestino    0\n",
              "newBalancoDestino    0\n",
              "Fraude               0\n",
              "SinalFraude          0\n",
              "dtype: int64"
            ]
          },
          "metadata": {},
          "execution_count": 8
        }
      ],
      "source": [
        "df.isnull().sum()"
      ]
    },
    {
      "cell_type": "code",
      "execution_count": 9,
      "metadata": {
        "colab": {
          "base_uri": "https://localhost:8080/",
          "height": 628
        },
        "id": "yp7Z-ghL2Gg7",
        "outputId": "86fea488-2a25-402f-8612-29bf9b66c8d5"
      },
      "outputs": [
        {
          "output_type": "error",
          "ename": "KeyboardInterrupt",
          "evalue": "ignored",
          "traceback": [
            "\u001b[0;31m---------------------------------------------------------------------------\u001b[0m",
            "\u001b[0;31mKeyboardInterrupt\u001b[0m                         Traceback (most recent call last)",
            "\u001b[0;32m<ipython-input-9-45748eb6431a>\u001b[0m in \u001b[0;36m<module>\u001b[0;34m()\u001b[0m\n\u001b[1;32m     16\u001b[0m                 \u001b[0mx\u001b[0m\u001b[0;34m=\u001b[0m\u001b[0mdf\u001b[0m\u001b[0;34m[\u001b[0m\u001b[0;34m'ValorTransacao'\u001b[0m\u001b[0;34m]\u001b[0m\u001b[0;34m[\u001b[0m\u001b[0mdf\u001b[0m\u001b[0;34m.\u001b[0m\u001b[0mTipoTransacao\u001b[0m \u001b[0;34m==\u001b[0m \u001b[0mi\u001b[0m\u001b[0;34m]\u001b[0m\u001b[0;34m,\u001b[0m\u001b[0;34m\u001b[0m\u001b[0;34m\u001b[0m\u001b[0m\n\u001b[1;32m     17\u001b[0m                 \u001b[0my\u001b[0m\u001b[0;34m=\u001b[0m\u001b[0mdf\u001b[0m\u001b[0;34m[\u001b[0m\u001b[0;34m'Fraude'\u001b[0m\u001b[0;34m]\u001b[0m\u001b[0;34m[\u001b[0m\u001b[0mdf\u001b[0m\u001b[0;34m.\u001b[0m\u001b[0mTipoTransacao\u001b[0m \u001b[0;34m==\u001b[0m \u001b[0mi\u001b[0m\u001b[0;34m]\u001b[0m\u001b[0;34m,\u001b[0m\u001b[0;34m\u001b[0m\u001b[0;34m\u001b[0m\u001b[0m\n\u001b[0;32m---> 18\u001b[0;31m                 \u001b[0mlogistic\u001b[0m\u001b[0;34m=\u001b[0m\u001b[0;32mTrue\u001b[0m\u001b[0;34m\u001b[0m\u001b[0;34m\u001b[0m\u001b[0m\n\u001b[0m\u001b[1;32m     19\u001b[0m     ).set_title(i)\n\u001b[1;32m     20\u001b[0m     \u001b[0mplt\u001b[0m\u001b[0;34m.\u001b[0m\u001b[0mshow\u001b[0m\u001b[0;34m(\u001b[0m\u001b[0;34m)\u001b[0m\u001b[0;34m\u001b[0m\u001b[0;34m\u001b[0m\u001b[0m\n",
            "\u001b[0;32m/usr/local/lib/python3.7/dist-packages/seaborn/_decorators.py\u001b[0m in \u001b[0;36minner_f\u001b[0;34m(*args, **kwargs)\u001b[0m\n\u001b[1;32m     44\u001b[0m             )\n\u001b[1;32m     45\u001b[0m         \u001b[0mkwargs\u001b[0m\u001b[0;34m.\u001b[0m\u001b[0mupdate\u001b[0m\u001b[0;34m(\u001b[0m\u001b[0;34m{\u001b[0m\u001b[0mk\u001b[0m\u001b[0;34m:\u001b[0m \u001b[0marg\u001b[0m \u001b[0;32mfor\u001b[0m \u001b[0mk\u001b[0m\u001b[0;34m,\u001b[0m \u001b[0marg\u001b[0m \u001b[0;32min\u001b[0m \u001b[0mzip\u001b[0m\u001b[0;34m(\u001b[0m\u001b[0msig\u001b[0m\u001b[0;34m.\u001b[0m\u001b[0mparameters\u001b[0m\u001b[0;34m,\u001b[0m \u001b[0margs\u001b[0m\u001b[0;34m)\u001b[0m\u001b[0;34m}\u001b[0m\u001b[0;34m)\u001b[0m\u001b[0;34m\u001b[0m\u001b[0;34m\u001b[0m\u001b[0m\n\u001b[0;32m---> 46\u001b[0;31m         \u001b[0;32mreturn\u001b[0m \u001b[0mf\u001b[0m\u001b[0;34m(\u001b[0m\u001b[0;34m**\u001b[0m\u001b[0mkwargs\u001b[0m\u001b[0;34m)\u001b[0m\u001b[0;34m\u001b[0m\u001b[0;34m\u001b[0m\u001b[0m\n\u001b[0m\u001b[1;32m     47\u001b[0m     \u001b[0;32mreturn\u001b[0m \u001b[0minner_f\u001b[0m\u001b[0;34m\u001b[0m\u001b[0;34m\u001b[0m\u001b[0m\n\u001b[1;32m     48\u001b[0m \u001b[0;34m\u001b[0m\u001b[0m\n",
            "\u001b[0;32m/usr/local/lib/python3.7/dist-packages/seaborn/regression.py\u001b[0m in \u001b[0;36mregplot\u001b[0;34m(x, y, data, x_estimator, x_bins, x_ci, scatter, fit_reg, ci, n_boot, units, seed, order, logistic, lowess, robust, logx, x_partial, y_partial, truncate, dropna, x_jitter, y_jitter, label, color, marker, scatter_kws, line_kws, ax)\u001b[0m\n\u001b[1;32m    861\u001b[0m     \u001b[0mscatter_kws\u001b[0m\u001b[0;34m[\u001b[0m\u001b[0;34m\"marker\"\u001b[0m\u001b[0;34m]\u001b[0m \u001b[0;34m=\u001b[0m \u001b[0mmarker\u001b[0m\u001b[0;34m\u001b[0m\u001b[0;34m\u001b[0m\u001b[0m\n\u001b[1;32m    862\u001b[0m     \u001b[0mline_kws\u001b[0m \u001b[0;34m=\u001b[0m \u001b[0;34m{\u001b[0m\u001b[0;34m}\u001b[0m \u001b[0;32mif\u001b[0m \u001b[0mline_kws\u001b[0m \u001b[0;32mis\u001b[0m \u001b[0;32mNone\u001b[0m \u001b[0;32melse\u001b[0m \u001b[0mcopy\u001b[0m\u001b[0;34m.\u001b[0m\u001b[0mcopy\u001b[0m\u001b[0;34m(\u001b[0m\u001b[0mline_kws\u001b[0m\u001b[0;34m)\u001b[0m\u001b[0;34m\u001b[0m\u001b[0;34m\u001b[0m\u001b[0m\n\u001b[0;32m--> 863\u001b[0;31m     \u001b[0mplotter\u001b[0m\u001b[0;34m.\u001b[0m\u001b[0mplot\u001b[0m\u001b[0;34m(\u001b[0m\u001b[0max\u001b[0m\u001b[0;34m,\u001b[0m \u001b[0mscatter_kws\u001b[0m\u001b[0;34m,\u001b[0m \u001b[0mline_kws\u001b[0m\u001b[0;34m)\u001b[0m\u001b[0;34m\u001b[0m\u001b[0;34m\u001b[0m\u001b[0m\n\u001b[0m\u001b[1;32m    864\u001b[0m     \u001b[0;32mreturn\u001b[0m \u001b[0max\u001b[0m\u001b[0;34m\u001b[0m\u001b[0;34m\u001b[0m\u001b[0m\n\u001b[1;32m    865\u001b[0m \u001b[0;34m\u001b[0m\u001b[0m\n",
            "\u001b[0;32m/usr/local/lib/python3.7/dist-packages/seaborn/regression.py\u001b[0m in \u001b[0;36mplot\u001b[0;34m(self, ax, scatter_kws, line_kws)\u001b[0m\n\u001b[1;32m    368\u001b[0m \u001b[0;34m\u001b[0m\u001b[0m\n\u001b[1;32m    369\u001b[0m         \u001b[0;32mif\u001b[0m \u001b[0mself\u001b[0m\u001b[0;34m.\u001b[0m\u001b[0mfit_reg\u001b[0m\u001b[0;34m:\u001b[0m\u001b[0;34m\u001b[0m\u001b[0;34m\u001b[0m\u001b[0m\n\u001b[0;32m--> 370\u001b[0;31m             \u001b[0mself\u001b[0m\u001b[0;34m.\u001b[0m\u001b[0mlineplot\u001b[0m\u001b[0;34m(\u001b[0m\u001b[0max\u001b[0m\u001b[0;34m,\u001b[0m \u001b[0mline_kws\u001b[0m\u001b[0;34m)\u001b[0m\u001b[0;34m\u001b[0m\u001b[0;34m\u001b[0m\u001b[0m\n\u001b[0m\u001b[1;32m    371\u001b[0m \u001b[0;34m\u001b[0m\u001b[0m\n\u001b[1;32m    372\u001b[0m         \u001b[0;31m# Label the axes\u001b[0m\u001b[0;34m\u001b[0m\u001b[0;34m\u001b[0m\u001b[0;34m\u001b[0m\u001b[0m\n",
            "\u001b[0;32m/usr/local/lib/python3.7/dist-packages/seaborn/regression.py\u001b[0m in \u001b[0;36mlineplot\u001b[0;34m(self, ax, kws)\u001b[0m\n\u001b[1;32m    411\u001b[0m         \u001b[0;34m\"\"\"Draw the model.\"\"\"\u001b[0m\u001b[0;34m\u001b[0m\u001b[0;34m\u001b[0m\u001b[0m\n\u001b[1;32m    412\u001b[0m         \u001b[0;31m# Fit the regression model\u001b[0m\u001b[0;34m\u001b[0m\u001b[0;34m\u001b[0m\u001b[0;34m\u001b[0m\u001b[0m\n\u001b[0;32m--> 413\u001b[0;31m         \u001b[0mgrid\u001b[0m\u001b[0;34m,\u001b[0m \u001b[0myhat\u001b[0m\u001b[0;34m,\u001b[0m \u001b[0merr_bands\u001b[0m \u001b[0;34m=\u001b[0m \u001b[0mself\u001b[0m\u001b[0;34m.\u001b[0m\u001b[0mfit_regression\u001b[0m\u001b[0;34m(\u001b[0m\u001b[0max\u001b[0m\u001b[0;34m)\u001b[0m\u001b[0;34m\u001b[0m\u001b[0;34m\u001b[0m\u001b[0m\n\u001b[0m\u001b[1;32m    414\u001b[0m         \u001b[0medges\u001b[0m \u001b[0;34m=\u001b[0m \u001b[0mgrid\u001b[0m\u001b[0;34m[\u001b[0m\u001b[0;36m0\u001b[0m\u001b[0;34m]\u001b[0m\u001b[0;34m,\u001b[0m \u001b[0mgrid\u001b[0m\u001b[0;34m[\u001b[0m\u001b[0;34m-\u001b[0m\u001b[0;36m1\u001b[0m\u001b[0;34m]\u001b[0m\u001b[0;34m\u001b[0m\u001b[0;34m\u001b[0m\u001b[0m\n\u001b[1;32m    415\u001b[0m \u001b[0;34m\u001b[0m\u001b[0m\n",
            "\u001b[0;32m/usr/local/lib/python3.7/dist-packages/seaborn/regression.py\u001b[0m in \u001b[0;36mfit_regression\u001b[0;34m(self, ax, x_range, grid)\u001b[0m\n\u001b[1;32m    209\u001b[0m             \u001b[0;32mfrom\u001b[0m \u001b[0mstatsmodels\u001b[0m\u001b[0;34m.\u001b[0m\u001b[0mgenmod\u001b[0m\u001b[0;34m.\u001b[0m\u001b[0mfamilies\u001b[0m \u001b[0;32mimport\u001b[0m \u001b[0mBinomial\u001b[0m\u001b[0;34m\u001b[0m\u001b[0;34m\u001b[0m\u001b[0m\n\u001b[1;32m    210\u001b[0m             yhat, yhat_boots = self.fit_statsmodels(grid, GLM,\n\u001b[0;32m--> 211\u001b[0;31m                                                     family=Binomial())\n\u001b[0m\u001b[1;32m    212\u001b[0m         \u001b[0;32melif\u001b[0m \u001b[0mself\u001b[0m\u001b[0;34m.\u001b[0m\u001b[0mlowess\u001b[0m\u001b[0;34m:\u001b[0m\u001b[0;34m\u001b[0m\u001b[0;34m\u001b[0m\u001b[0m\n\u001b[1;32m    213\u001b[0m             \u001b[0mci\u001b[0m \u001b[0;34m=\u001b[0m \u001b[0;32mNone\u001b[0m\u001b[0;34m\u001b[0m\u001b[0;34m\u001b[0m\u001b[0m\n",
            "\u001b[0;32m/usr/local/lib/python3.7/dist-packages/seaborn/regression.py\u001b[0m in \u001b[0;36mfit_statsmodels\u001b[0;34m(self, grid, model, **kwargs)\u001b[0m\n\u001b[1;32m    287\u001b[0m                                     \u001b[0mn_boot\u001b[0m\u001b[0;34m=\u001b[0m\u001b[0mself\u001b[0m\u001b[0;34m.\u001b[0m\u001b[0mn_boot\u001b[0m\u001b[0;34m,\u001b[0m\u001b[0;34m\u001b[0m\u001b[0;34m\u001b[0m\u001b[0m\n\u001b[1;32m    288\u001b[0m                                     \u001b[0munits\u001b[0m\u001b[0;34m=\u001b[0m\u001b[0mself\u001b[0m\u001b[0;34m.\u001b[0m\u001b[0munits\u001b[0m\u001b[0;34m,\u001b[0m\u001b[0;34m\u001b[0m\u001b[0;34m\u001b[0m\u001b[0m\n\u001b[0;32m--> 289\u001b[0;31m                                     seed=self.seed)\n\u001b[0m\u001b[1;32m    290\u001b[0m         \u001b[0;32mreturn\u001b[0m \u001b[0myhat\u001b[0m\u001b[0;34m,\u001b[0m \u001b[0myhat_boots\u001b[0m\u001b[0;34m\u001b[0m\u001b[0;34m\u001b[0m\u001b[0m\n\u001b[1;32m    291\u001b[0m \u001b[0;34m\u001b[0m\u001b[0m\n",
            "\u001b[0;32m/usr/local/lib/python3.7/dist-packages/seaborn/algorithms.py\u001b[0m in \u001b[0;36mbootstrap\u001b[0;34m(*args, **kwargs)\u001b[0m\n\u001b[1;32m     83\u001b[0m         \u001b[0mresampler\u001b[0m \u001b[0;34m=\u001b[0m \u001b[0mintegers\u001b[0m\u001b[0;34m(\u001b[0m\u001b[0;36m0\u001b[0m\u001b[0;34m,\u001b[0m \u001b[0mn\u001b[0m\u001b[0;34m,\u001b[0m \u001b[0mn\u001b[0m\u001b[0;34m,\u001b[0m \u001b[0mdtype\u001b[0m\u001b[0;34m=\u001b[0m\u001b[0mnp\u001b[0m\u001b[0;34m.\u001b[0m\u001b[0mintp\u001b[0m\u001b[0;34m)\u001b[0m  \u001b[0;31m# intp is indexing dtype\u001b[0m\u001b[0;34m\u001b[0m\u001b[0;34m\u001b[0m\u001b[0m\n\u001b[1;32m     84\u001b[0m         \u001b[0msample\u001b[0m \u001b[0;34m=\u001b[0m \u001b[0;34m[\u001b[0m\u001b[0ma\u001b[0m\u001b[0;34m.\u001b[0m\u001b[0mtake\u001b[0m\u001b[0;34m(\u001b[0m\u001b[0mresampler\u001b[0m\u001b[0;34m,\u001b[0m \u001b[0maxis\u001b[0m\u001b[0;34m=\u001b[0m\u001b[0;36m0\u001b[0m\u001b[0;34m)\u001b[0m \u001b[0;32mfor\u001b[0m \u001b[0ma\u001b[0m \u001b[0;32min\u001b[0m \u001b[0margs\u001b[0m\u001b[0;34m]\u001b[0m\u001b[0;34m\u001b[0m\u001b[0;34m\u001b[0m\u001b[0m\n\u001b[0;32m---> 85\u001b[0;31m         \u001b[0mboot_dist\u001b[0m\u001b[0;34m.\u001b[0m\u001b[0mappend\u001b[0m\u001b[0;34m(\u001b[0m\u001b[0mf\u001b[0m\u001b[0;34m(\u001b[0m\u001b[0;34m*\u001b[0m\u001b[0msample\u001b[0m\u001b[0;34m,\u001b[0m \u001b[0;34m**\u001b[0m\u001b[0mfunc_kwargs\u001b[0m\u001b[0;34m)\u001b[0m\u001b[0;34m)\u001b[0m\u001b[0;34m\u001b[0m\u001b[0;34m\u001b[0m\u001b[0m\n\u001b[0m\u001b[1;32m     86\u001b[0m     \u001b[0;32mreturn\u001b[0m \u001b[0mnp\u001b[0m\u001b[0;34m.\u001b[0m\u001b[0marray\u001b[0m\u001b[0;34m(\u001b[0m\u001b[0mboot_dist\u001b[0m\u001b[0;34m)\u001b[0m\u001b[0;34m\u001b[0m\u001b[0;34m\u001b[0m\u001b[0m\n\u001b[1;32m     87\u001b[0m \u001b[0;34m\u001b[0m\u001b[0m\n",
            "\u001b[0;32m/usr/local/lib/python3.7/dist-packages/seaborn/regression.py\u001b[0m in \u001b[0;36mreg_func\u001b[0;34m(_x, _y)\u001b[0m\n\u001b[1;32m    273\u001b[0m         \u001b[0;32mdef\u001b[0m \u001b[0mreg_func\u001b[0m\u001b[0;34m(\u001b[0m\u001b[0m_x\u001b[0m\u001b[0;34m,\u001b[0m \u001b[0m_y\u001b[0m\u001b[0;34m)\u001b[0m\u001b[0;34m:\u001b[0m\u001b[0;34m\u001b[0m\u001b[0;34m\u001b[0m\u001b[0m\n\u001b[1;32m    274\u001b[0m             \u001b[0;32mtry\u001b[0m\u001b[0;34m:\u001b[0m\u001b[0;34m\u001b[0m\u001b[0;34m\u001b[0m\u001b[0m\n\u001b[0;32m--> 275\u001b[0;31m                 \u001b[0myhat\u001b[0m \u001b[0;34m=\u001b[0m \u001b[0mmodel\u001b[0m\u001b[0;34m(\u001b[0m\u001b[0m_y\u001b[0m\u001b[0;34m,\u001b[0m \u001b[0m_x\u001b[0m\u001b[0;34m,\u001b[0m \u001b[0;34m**\u001b[0m\u001b[0mkwargs\u001b[0m\u001b[0;34m)\u001b[0m\u001b[0;34m.\u001b[0m\u001b[0mfit\u001b[0m\u001b[0;34m(\u001b[0m\u001b[0;34m)\u001b[0m\u001b[0;34m.\u001b[0m\u001b[0mpredict\u001b[0m\u001b[0;34m(\u001b[0m\u001b[0mgrid\u001b[0m\u001b[0;34m)\u001b[0m\u001b[0;34m\u001b[0m\u001b[0;34m\u001b[0m\u001b[0m\n\u001b[0m\u001b[1;32m    276\u001b[0m             \u001b[0;32mexcept\u001b[0m \u001b[0mglm\u001b[0m\u001b[0;34m.\u001b[0m\u001b[0mPerfectSeparationError\u001b[0m\u001b[0;34m:\u001b[0m\u001b[0;34m\u001b[0m\u001b[0;34m\u001b[0m\u001b[0m\n\u001b[1;32m    277\u001b[0m                 \u001b[0myhat\u001b[0m \u001b[0;34m=\u001b[0m \u001b[0mnp\u001b[0m\u001b[0;34m.\u001b[0m\u001b[0mempty\u001b[0m\u001b[0;34m(\u001b[0m\u001b[0mlen\u001b[0m\u001b[0;34m(\u001b[0m\u001b[0mgrid\u001b[0m\u001b[0;34m)\u001b[0m\u001b[0;34m)\u001b[0m\u001b[0;34m\u001b[0m\u001b[0;34m\u001b[0m\u001b[0m\n",
            "\u001b[0;32m/usr/local/lib/python3.7/dist-packages/statsmodels/genmod/generalized_linear_model.py\u001b[0m in \u001b[0;36mfit\u001b[0;34m(self, start_params, maxiter, method, tol, scale, cov_type, cov_kwds, use_t, full_output, disp, max_start_irls, **kwargs)\u001b[0m\n\u001b[1;32m   1026\u001b[0m             return self._fit_irls(start_params=start_params, maxiter=maxiter,\n\u001b[1;32m   1027\u001b[0m                                   \u001b[0mtol\u001b[0m\u001b[0;34m=\u001b[0m\u001b[0mtol\u001b[0m\u001b[0;34m,\u001b[0m \u001b[0mscale\u001b[0m\u001b[0;34m=\u001b[0m\u001b[0mscale\u001b[0m\u001b[0;34m,\u001b[0m \u001b[0mcov_type\u001b[0m\u001b[0;34m=\u001b[0m\u001b[0mcov_type\u001b[0m\u001b[0;34m,\u001b[0m\u001b[0;34m\u001b[0m\u001b[0;34m\u001b[0m\u001b[0m\n\u001b[0;32m-> 1028\u001b[0;31m                                   cov_kwds=cov_kwds, use_t=use_t, **kwargs)\n\u001b[0m\u001b[1;32m   1029\u001b[0m         \u001b[0;32melse\u001b[0m\u001b[0;34m:\u001b[0m\u001b[0;34m\u001b[0m\u001b[0;34m\u001b[0m\u001b[0m\n\u001b[1;32m   1030\u001b[0m             \u001b[0mself\u001b[0m\u001b[0;34m.\u001b[0m\u001b[0m_optim_hessian\u001b[0m \u001b[0;34m=\u001b[0m \u001b[0mkwargs\u001b[0m\u001b[0;34m.\u001b[0m\u001b[0mget\u001b[0m\u001b[0;34m(\u001b[0m\u001b[0;34m'optim_hessian'\u001b[0m\u001b[0;34m)\u001b[0m\u001b[0;34m\u001b[0m\u001b[0;34m\u001b[0m\u001b[0m\n",
            "\u001b[0;32m/usr/local/lib/python3.7/dist-packages/statsmodels/genmod/generalized_linear_model.py\u001b[0m in \u001b[0;36m_fit_irls\u001b[0;34m(self, start_params, maxiter, tol, scale, cov_type, cov_kwds, use_t, **kwargs)\u001b[0m\n\u001b[1;32m   1169\u001b[0m             \u001b[0mlin_pred\u001b[0m \u001b[0;34m+=\u001b[0m \u001b[0mself\u001b[0m\u001b[0;34m.\u001b[0m\u001b[0m_offset_exposure\u001b[0m\u001b[0;34m\u001b[0m\u001b[0;34m\u001b[0m\u001b[0m\n\u001b[1;32m   1170\u001b[0m             \u001b[0mmu\u001b[0m \u001b[0;34m=\u001b[0m \u001b[0mself\u001b[0m\u001b[0;34m.\u001b[0m\u001b[0mfamily\u001b[0m\u001b[0;34m.\u001b[0m\u001b[0mfitted\u001b[0m\u001b[0;34m(\u001b[0m\u001b[0mlin_pred\u001b[0m\u001b[0;34m)\u001b[0m\u001b[0;34m\u001b[0m\u001b[0;34m\u001b[0m\u001b[0m\n\u001b[0;32m-> 1171\u001b[0;31m             \u001b[0mhistory\u001b[0m \u001b[0;34m=\u001b[0m \u001b[0mself\u001b[0m\u001b[0;34m.\u001b[0m\u001b[0m_update_history\u001b[0m\u001b[0;34m(\u001b[0m\u001b[0mwls_results\u001b[0m\u001b[0;34m,\u001b[0m \u001b[0mmu\u001b[0m\u001b[0;34m,\u001b[0m \u001b[0mhistory\u001b[0m\u001b[0;34m)\u001b[0m\u001b[0;34m\u001b[0m\u001b[0;34m\u001b[0m\u001b[0m\n\u001b[0m\u001b[1;32m   1172\u001b[0m             \u001b[0mself\u001b[0m\u001b[0;34m.\u001b[0m\u001b[0mscale\u001b[0m \u001b[0;34m=\u001b[0m \u001b[0mself\u001b[0m\u001b[0;34m.\u001b[0m\u001b[0mestimate_scale\u001b[0m\u001b[0;34m(\u001b[0m\u001b[0mmu\u001b[0m\u001b[0;34m)\u001b[0m\u001b[0;34m\u001b[0m\u001b[0;34m\u001b[0m\u001b[0m\n\u001b[1;32m   1173\u001b[0m             \u001b[0;32mif\u001b[0m \u001b[0mendog\u001b[0m\u001b[0;34m.\u001b[0m\u001b[0msqueeze\u001b[0m\u001b[0;34m(\u001b[0m\u001b[0;34m)\u001b[0m\u001b[0;34m.\u001b[0m\u001b[0mndim\u001b[0m \u001b[0;34m==\u001b[0m \u001b[0;36m1\u001b[0m \u001b[0;32mand\u001b[0m \u001b[0mnp\u001b[0m\u001b[0;34m.\u001b[0m\u001b[0mallclose\u001b[0m\u001b[0;34m(\u001b[0m\u001b[0mmu\u001b[0m \u001b[0;34m-\u001b[0m \u001b[0mendog\u001b[0m\u001b[0;34m,\u001b[0m \u001b[0;36m0\u001b[0m\u001b[0;34m)\u001b[0m\u001b[0;34m:\u001b[0m\u001b[0;34m\u001b[0m\u001b[0;34m\u001b[0m\u001b[0m\n",
            "\u001b[0;32m/usr/local/lib/python3.7/dist-packages/statsmodels/genmod/generalized_linear_model.py\u001b[0m in \u001b[0;36m_update_history\u001b[0;34m(self, tmp_result, mu, history)\u001b[0m\n\u001b[1;32m    718\u001b[0m                                                         \u001b[0mself\u001b[0m\u001b[0;34m.\u001b[0m\u001b[0mvar_weights\u001b[0m\u001b[0;34m,\u001b[0m\u001b[0;34m\u001b[0m\u001b[0;34m\u001b[0m\u001b[0m\n\u001b[1;32m    719\u001b[0m                                                         \u001b[0mself\u001b[0m\u001b[0;34m.\u001b[0m\u001b[0mfreq_weights\u001b[0m\u001b[0;34m,\u001b[0m\u001b[0;34m\u001b[0m\u001b[0;34m\u001b[0m\u001b[0m\n\u001b[0;32m--> 720\u001b[0;31m                                                         self.scale))\n\u001b[0m\u001b[1;32m    721\u001b[0m         \u001b[0;32mreturn\u001b[0m \u001b[0mhistory\u001b[0m\u001b[0;34m\u001b[0m\u001b[0;34m\u001b[0m\u001b[0m\n\u001b[1;32m    722\u001b[0m \u001b[0;34m\u001b[0m\u001b[0m\n",
            "\u001b[0;32m/usr/local/lib/python3.7/dist-packages/statsmodels/genmod/families/family.py\u001b[0m in \u001b[0;36mdeviance\u001b[0;34m(self, endog, mu, var_weights, freq_weights, scale)\u001b[0m\n\u001b[1;32m    176\u001b[0m            \u001b[0mD\u001b[0m \u001b[0;34m=\u001b[0m\u001b[0;31m \u001b[0m\u001b[0;31m\\\u001b[0m\u001b[0msum_i\u001b[0m \u001b[0mfreq\u001b[0m\u001b[0;31m\\\u001b[0m\u001b[0m_weights_i\u001b[0m \u001b[0;34m*\u001b[0m \u001b[0mvar\u001b[0m\u001b[0;31m\\\u001b[0m\u001b[0m_weights\u001b[0m \u001b[0;34m*\u001b[0m \u001b[0mresid\u001b[0m\u001b[0;31m\\\u001b[0m\u001b[0m_dev_i\u001b[0m  \u001b[0;34m/\u001b[0m \u001b[0mscale\u001b[0m\u001b[0;34m\u001b[0m\u001b[0;34m\u001b[0m\u001b[0m\n\u001b[1;32m    177\u001b[0m         \"\"\"\n\u001b[0;32m--> 178\u001b[0;31m         \u001b[0mresid_dev\u001b[0m \u001b[0;34m=\u001b[0m \u001b[0mself\u001b[0m\u001b[0;34m.\u001b[0m\u001b[0m_resid_dev\u001b[0m\u001b[0;34m(\u001b[0m\u001b[0mendog\u001b[0m\u001b[0;34m,\u001b[0m \u001b[0mmu\u001b[0m\u001b[0;34m)\u001b[0m\u001b[0;34m\u001b[0m\u001b[0;34m\u001b[0m\u001b[0m\n\u001b[0m\u001b[1;32m    179\u001b[0m         \u001b[0;32mreturn\u001b[0m \u001b[0mnp\u001b[0m\u001b[0;34m.\u001b[0m\u001b[0msum\u001b[0m\u001b[0;34m(\u001b[0m\u001b[0mresid_dev\u001b[0m \u001b[0;34m*\u001b[0m \u001b[0mfreq_weights\u001b[0m \u001b[0;34m*\u001b[0m \u001b[0mvar_weights\u001b[0m \u001b[0;34m/\u001b[0m \u001b[0mscale\u001b[0m\u001b[0;34m)\u001b[0m\u001b[0;34m\u001b[0m\u001b[0;34m\u001b[0m\u001b[0m\n\u001b[1;32m    180\u001b[0m \u001b[0;34m\u001b[0m\u001b[0m\n",
            "\u001b[0;32m/usr/local/lib/python3.7/dist-packages/statsmodels/genmod/families/family.py\u001b[0m in \u001b[0;36m_resid_dev\u001b[0;34m(self, endog, mu)\u001b[0m\n\u001b[1;32m    889\u001b[0m         \u001b[0mendog_mu\u001b[0m \u001b[0;34m=\u001b[0m \u001b[0mself\u001b[0m\u001b[0;34m.\u001b[0m\u001b[0m_clean\u001b[0m\u001b[0;34m(\u001b[0m\u001b[0mendog\u001b[0m \u001b[0;34m/\u001b[0m \u001b[0mmu\u001b[0m\u001b[0;34m)\u001b[0m\u001b[0;34m\u001b[0m\u001b[0;34m\u001b[0m\u001b[0m\n\u001b[1;32m    890\u001b[0m         \u001b[0mn_endog_mu\u001b[0m \u001b[0;34m=\u001b[0m \u001b[0mself\u001b[0m\u001b[0;34m.\u001b[0m\u001b[0m_clean\u001b[0m\u001b[0;34m(\u001b[0m\u001b[0;34m(\u001b[0m\u001b[0;36m1.\u001b[0m \u001b[0;34m-\u001b[0m \u001b[0mendog\u001b[0m\u001b[0;34m)\u001b[0m \u001b[0;34m/\u001b[0m \u001b[0;34m(\u001b[0m\u001b[0;36m1.\u001b[0m \u001b[0;34m-\u001b[0m \u001b[0mmu\u001b[0m\u001b[0;34m)\u001b[0m\u001b[0;34m)\u001b[0m\u001b[0;34m\u001b[0m\u001b[0;34m\u001b[0m\u001b[0m\n\u001b[0;32m--> 891\u001b[0;31m         \u001b[0mresid_dev\u001b[0m \u001b[0;34m=\u001b[0m \u001b[0mendog\u001b[0m \u001b[0;34m*\u001b[0m \u001b[0mnp\u001b[0m\u001b[0;34m.\u001b[0m\u001b[0mlog\u001b[0m\u001b[0;34m(\u001b[0m\u001b[0mendog_mu\u001b[0m\u001b[0;34m)\u001b[0m \u001b[0;34m+\u001b[0m \u001b[0;34m(\u001b[0m\u001b[0;36m1\u001b[0m \u001b[0;34m-\u001b[0m \u001b[0mendog\u001b[0m\u001b[0;34m)\u001b[0m \u001b[0;34m*\u001b[0m \u001b[0mnp\u001b[0m\u001b[0;34m.\u001b[0m\u001b[0mlog\u001b[0m\u001b[0;34m(\u001b[0m\u001b[0mn_endog_mu\u001b[0m\u001b[0;34m)\u001b[0m\u001b[0;34m\u001b[0m\u001b[0;34m\u001b[0m\u001b[0m\n\u001b[0m\u001b[1;32m    892\u001b[0m         \u001b[0;32mreturn\u001b[0m \u001b[0;36m2\u001b[0m \u001b[0;34m*\u001b[0m \u001b[0mself\u001b[0m\u001b[0;34m.\u001b[0m\u001b[0mn\u001b[0m \u001b[0;34m*\u001b[0m \u001b[0mresid_dev\u001b[0m\u001b[0;34m\u001b[0m\u001b[0;34m\u001b[0m\u001b[0m\n\u001b[1;32m    893\u001b[0m \u001b[0;34m\u001b[0m\u001b[0m\n",
            "\u001b[0;31mKeyboardInterrupt\u001b[0m: "
          ]
        },
        {
          "output_type": "display_data",
          "data": {
            "image/png": "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\n",
            "text/plain": [
              "<Figure size 432x288 with 1 Axes>"
            ]
          },
          "metadata": {
            "needs_background": "light"
          }
        }
      ],
      "source": [
        "'''for i in df.TipoTransacao.unique():\n",
        "    sns.regplot(\n",
        "        x=df['ValorTransacao'][df.TipoTransacao == i][df.Fraude == 1],\n",
        "        y=df['Fraude'][df.TipoTransacao == i][df.Fraude == 1],\n",
        "        logistic=True\n",
        "    )\n",
        "    plt.show()\n",
        "'''\n",
        "\n",
        "#fig = plt.subplots(figsize=(16,8))\n",
        "\n",
        "#df['ValorTransacao'] = np.log(df['ValorTransacao'])\n",
        "\n",
        "for i in df.TipoTransacao.unique():\n",
        "    sns.regplot(\n",
        "                x=df['ValorTransacao'][df.TipoTransacao == i],\n",
        "                y=df['Fraude'][df.TipoTransacao == i],\n",
        "                logistic=True\n",
        "    ).set_title(i)\n",
        "    plt.show()\n",
        "    print()"
      ]
    },
    {
      "cell_type": "code",
      "execution_count": null,
      "metadata": {
        "id": "hu3oxkTW2Mdp"
      },
      "outputs": [],
      "source": [
        ""
      ]
    }
  ],
  "metadata": {
    "accelerator": "GPU",
    "colab": {
      "collapsed_sections": [],
      "name": "Copy of desafio-3.ipynb",
      "provenance": []
    },
    "kernelspec": {
      "display_name": "Python 3",
      "name": "python3"
    },
    "language_info": {
      "codemirror_mode": {
        "name": "ipython",
        "version": 3
      },
      "file_extension": ".py",
      "mimetype": "text/x-python",
      "name": "python",
      "nbconvert_exporter": "python",
      "pygments_lexer": "ipython3",
      "version": "3.8.10"
    }
  },
  "nbformat": 4,
  "nbformat_minor": 0
}
>>>>>>> 212801c746dd8f9cb61aa97f6ac9ffd0dd2e9b6e
